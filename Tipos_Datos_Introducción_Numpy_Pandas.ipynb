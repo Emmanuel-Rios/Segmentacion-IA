{
  "nbformat": 4,
  "nbformat_minor": 0,
  "metadata": {
    "colab": {
      "provenance": [],
      "include_colab_link": true
    },
    "kernelspec": {
      "name": "python3",
      "display_name": "Python 3"
    },
    "language_info": {
      "name": "python"
    }
  },
  "cells": [
    {
      "cell_type": "markdown",
      "metadata": {
        "id": "view-in-github",
        "colab_type": "text"
      },
      "source": [
        "<a href=\"https://colab.research.google.com/github/Emmanuel-Rios/Segmentacion-IA/blob/main/Tipos_Datos_Introducci%C3%B3n_Numpy_Pandas.ipynb\" target=\"_parent\"><img src=\"https://colab.research.google.com/assets/colab-badge.svg\" alt=\"Open In Colab\"/></a>"
      ]
    },
    {
      "cell_type": "markdown",
      "source": [
        "# **Introducción a numpy**\n",
        "\n",
        "## Es la librería de Python con la que vamos a realizar la mayoría de operaciones numéricas y de algebra lineal que se utiliza en ciencia de datos y en muchas otras aplicaciones.\n",
        "\n",
        "## ¿**Por qué utilizar una librería de algebra?**\n",
        "## Por que numpy da una *semántica matricial vectorial* como es regularmente usada en algebra lineal y en muchos otros campos"
      ],
      "metadata": {
        "id": "S54pbaO3SI1F"
      }
    },
    {
      "cell_type": "code",
      "source": [
        "# Con este comando hacemos podemos hacer uso de la libreria numpy\n",
        "import numpy as np #np sinonimo para uso"
      ],
      "metadata": {
        "id": "HD-SnaseJ2CT"
      },
      "execution_count": null,
      "outputs": []
    },
    {
      "cell_type": "code",
      "source": [
        "a = ( 1, 2, 3)\n",
        "b = (10,20,30)\n",
        "print(a + b)\n",
        "type(a)"
      ],
      "metadata": {
        "colab": {
          "base_uri": "https://localhost:8080/"
        },
        "id": "JkYWR6xwKe_a",
        "outputId": "9d4ab00e-413b-4a46-a93c-ca1961a22c57"
      },
      "execution_count": null,
      "outputs": [
        {
          "output_type": "stream",
          "name": "stdout",
          "text": [
            "(1, 2, 3, 10, 20, 30)\n"
          ]
        },
        {
          "output_type": "execute_result",
          "data": {
            "text/plain": [
              "tuple"
            ]
          },
          "metadata": {},
          "execution_count": 47
        }
      ]
    },
    {
      "cell_type": "code",
      "source": [
        "#Esta operacion no se puede realizar dado que a no es vector si no una tupla\n",
        "a**2"
      ],
      "metadata": {
        "id": "CfDH7yu5Log3",
        "colab": {
          "base_uri": "https://localhost:8080/",
          "height": 165
        },
        "outputId": "b0abe490-4830-4ad0-b0e6-6ff4e5ce79f9"
      },
      "execution_count": null,
      "outputs": [
        {
          "output_type": "error",
          "ename": "TypeError",
          "evalue": "unsupported operand type(s) for ** or pow(): 'tuple' and 'int'",
          "traceback": [
            "\u001b[0;31m---------------------------------------------------------------------------\u001b[0m",
            "\u001b[0;31mTypeError\u001b[0m                                 Traceback (most recent call last)",
            "\u001b[0;32m<ipython-input-48-d446ce51725b>\u001b[0m in \u001b[0;36m<cell line: 2>\u001b[0;34m()\u001b[0m\n\u001b[1;32m      1\u001b[0m \u001b[0;31m#Esta operacion no se puede realizar dado que a no es vector si no una tupla\u001b[0m\u001b[0;34m\u001b[0m\u001b[0;34m\u001b[0m\u001b[0m\n\u001b[0;32m----> 2\u001b[0;31m \u001b[0ma\u001b[0m\u001b[0;34m**\u001b[0m\u001b[0;36m2\u001b[0m\u001b[0;34m\u001b[0m\u001b[0;34m\u001b[0m\u001b[0m\n\u001b[0m",
            "\u001b[0;31mTypeError\u001b[0m: unsupported operand type(s) for ** or pow(): 'tuple' and 'int'"
          ]
        }
      ]
    },
    {
      "cell_type": "code",
      "source": [
        "# Ahora creamos a y b como objetos del tipo numpy con el sinonimo np\n",
        "a = np.array([1,2,3])\n",
        "b = np.array([10,20,30])\n",
        "print(a + b)\n",
        "type(a)"
      ],
      "metadata": {
        "id": "eflKUinYK-_q",
        "colab": {
          "base_uri": "https://localhost:8080/"
        },
        "outputId": "9d568a0a-8c9a-454f-a67d-6f2efa063cec"
      },
      "execution_count": null,
      "outputs": [
        {
          "output_type": "stream",
          "name": "stdout",
          "text": [
            "[11 22 33]\n"
          ]
        },
        {
          "output_type": "execute_result",
          "data": {
            "text/plain": [
              "numpy.ndarray"
            ]
          },
          "metadata": {},
          "execution_count": 4
        }
      ]
    },
    {
      "cell_type": "code",
      "source": [
        "a**2"
      ],
      "metadata": {
        "id": "dw-8Cj2ALhUR",
        "colab": {
          "base_uri": "https://localhost:8080/"
        },
        "outputId": "119e72aa-9490-48d9-a2c8-67b1c327dba5"
      },
      "execution_count": null,
      "outputs": [
        {
          "output_type": "execute_result",
          "data": {
            "text/plain": [
              "array([1, 4, 9])"
            ]
          },
          "metadata": {},
          "execution_count": 5
        }
      ]
    },
    {
      "cell_type": "code",
      "source": [
        "# Creando un arreglo manual\n",
        "a = np.array([[1,2,3],[4,5,6]])\n",
        "a"
      ],
      "metadata": {
        "colab": {
          "base_uri": "https://localhost:8080/"
        },
        "id": "J85POiT5LJRQ",
        "outputId": "3a938168-0dba-4d11-b6e0-124604b587e2"
      },
      "execution_count": null,
      "outputs": [
        {
          "output_type": "execute_result",
          "data": {
            "text/plain": [
              "array([[1, 2, 3],\n",
              "       [4, 5, 6]])"
            ]
          },
          "metadata": {},
          "execution_count": 6
        }
      ]
    },
    {
      "cell_type": "code",
      "source": [
        "# creando un arreglo aleatorio\n",
        "a = np.random.random(size=(3,5,3))\n",
        "print(a)\n",
        "a.astype(int)"
      ],
      "metadata": {
        "colab": {
          "base_uri": "https://localhost:8080/"
        },
        "id": "NXevIt9ZL1cD",
        "outputId": "12674f29-fde0-49b3-97fa-097f4707abb8"
      },
      "execution_count": null,
      "outputs": [
        {
          "output_type": "stream",
          "name": "stdout",
          "text": [
            "[[[0.6148892  0.30955625 0.23762139]\n",
            "  [0.67460127 0.99421409 0.48773228]\n",
            "  [0.73300395 0.71167977 0.92950101]\n",
            "  [0.01946244 0.18018241 0.62398383]\n",
            "  [0.02385586 0.35681806 0.46793988]]\n",
            "\n",
            " [[0.94361745 0.95992088 0.3305874 ]\n",
            "  [0.66168259 0.54438926 0.0162985 ]\n",
            "  [0.4908075  0.50370799 0.34843342]\n",
            "  [0.44317372 0.96539286 0.04845057]\n",
            "  [0.60702627 0.76093589 0.14875738]]\n",
            "\n",
            " [[0.17268459 0.73561473 0.28638645]\n",
            "  [0.6165343  0.03372528 0.5501124 ]\n",
            "  [0.81012497 0.77965976 0.03006182]\n",
            "  [0.62260625 0.75652464 0.7983098 ]\n",
            "  [0.80069284 0.46639174 0.4567874 ]]]\n"
          ]
        },
        {
          "output_type": "execute_result",
          "data": {
            "text/plain": [
              "array([[[0, 0, 0],\n",
              "        [0, 0, 0],\n",
              "        [0, 0, 0],\n",
              "        [0, 0, 0],\n",
              "        [0, 0, 0]],\n",
              "\n",
              "       [[0, 0, 0],\n",
              "        [0, 0, 0],\n",
              "        [0, 0, 0],\n",
              "        [0, 0, 0],\n",
              "        [0, 0, 0]],\n",
              "\n",
              "       [[0, 0, 0],\n",
              "        [0, 0, 0],\n",
              "        [0, 0, 0],\n",
              "        [0, 0, 0],\n",
              "        [0, 0, 0]]])"
            ]
          },
          "metadata": {},
          "execution_count": 52
        }
      ]
    },
    {
      "cell_type": "code",
      "source": [
        "#Crear una matriz aleatoria que siguen una distribucion normal estandar (numeros centrados en cero)\n",
        "a = np.random.normal(size=(2,3))\n",
        "a"
      ],
      "metadata": {
        "id": "vLG1oU0hMZcS",
        "outputId": "4771f628-be4c-4e05-d42d-8023f36200e8",
        "colab": {
          "base_uri": "https://localhost:8080/"
        }
      },
      "execution_count": null,
      "outputs": [
        {
          "output_type": "execute_result",
          "data": {
            "text/plain": [
              "array([[ 0.35860406, -0.05967073, -1.07490682],\n",
              "       [ 2.3637523 ,  1.31728202,  2.02128289]])"
            ]
          },
          "metadata": {},
          "execution_count": 50
        }
      ]
    },
    {
      "cell_type": "code",
      "source": [
        "#Creando arreglo de enteros entre 0 - 100\n",
        "a = np.random.randint(101, size=(12,10))\n",
        "a"
      ],
      "metadata": {
        "id": "X0TpwuWfMcyy",
        "outputId": "7fd0f7b8-b246-4133-eb6d-97556319ed2a",
        "colab": {
          "base_uri": "https://localhost:8080/"
        }
      },
      "execution_count": null,
      "outputs": [
        {
          "output_type": "execute_result",
          "data": {
            "text/plain": [
              "array([[ 62,  34,  14,  42,  91,  21,  31,  98,  58,  18],\n",
              "       [ 96,  17,  73,  19,  79,  40,  26,  73,  72,  47],\n",
              "       [ 85,  84,  49,  42,  79,  71,  98,  24,  20,  69],\n",
              "       [ 25,  64,   3,  54,  51,  26,  66,  99,  88,  74],\n",
              "       [ 86,  78,  99,  82,  54,   9,  95,  44,  90,  11],\n",
              "       [ 54,  15,  91,  10,  66,   2,  16,  26,  33,  51],\n",
              "       [ 90,  47,  56,  70,  66,  95,  21,  37,  76,  44],\n",
              "       [ 69,  85,  58,  65,  68,  27,  23,  61,  89,  94],\n",
              "       [ 70,  89,   9,   0,  79,  93,  33,  89,  28,  88],\n",
              "       [ 66,  98,  53,  45,  15,  57,  64, 100,  56,  35],\n",
              "       [ 46,  32,  69,   2,  65,   6,   1,  14,  80,   6],\n",
              "       [ 21,  64,  81,  35,  67,  87,  16,  91,  96,  22]])"
            ]
          },
          "metadata": {},
          "execution_count": 8
        }
      ]
    },
    {
      "cell_type": "code",
      "source": [
        "#Crear un matriz identidad de 3x3\n",
        "np.eye(10)"
      ],
      "metadata": {
        "colab": {
          "base_uri": "https://localhost:8080/"
        },
        "id": "NMtR5ru3Nx4d",
        "outputId": "33c78332-a481-4be6-8ba4-8941ad00dcc4"
      },
      "execution_count": null,
      "outputs": [
        {
          "output_type": "execute_result",
          "data": {
            "text/plain": [
              "array([[1., 0., 0., 0., 0., 0., 0., 0., 0., 0.],\n",
              "       [0., 1., 0., 0., 0., 0., 0., 0., 0., 0.],\n",
              "       [0., 0., 1., 0., 0., 0., 0., 0., 0., 0.],\n",
              "       [0., 0., 0., 1., 0., 0., 0., 0., 0., 0.],\n",
              "       [0., 0., 0., 0., 1., 0., 0., 0., 0., 0.],\n",
              "       [0., 0., 0., 0., 0., 1., 0., 0., 0., 0.],\n",
              "       [0., 0., 0., 0., 0., 0., 1., 0., 0., 0.],\n",
              "       [0., 0., 0., 0., 0., 0., 0., 1., 0., 0.],\n",
              "       [0., 0., 0., 0., 0., 0., 0., 0., 1., 0.],\n",
              "       [0., 0., 0., 0., 0., 0., 0., 0., 0., 1.]])"
            ]
          },
          "metadata": {},
          "execution_count": 9
        }
      ]
    },
    {
      "cell_type": "code",
      "source": [
        "#Genera 10 numeros entre -3 y 10 que esten espaciados uniformemente\n",
        "np.linspace(-3,20,10)"
      ],
      "metadata": {
        "colab": {
          "base_uri": "https://localhost:8080/"
        },
        "id": "AoRmgnmGN6Gs",
        "outputId": "8cc33103-97d6-4355-f817-6cdbc267c326"
      },
      "execution_count": null,
      "outputs": [
        {
          "output_type": "execute_result",
          "data": {
            "text/plain": [
              "array([-3.        , -0.44444444,  2.11111111,  4.66666667,  7.22222222,\n",
              "        9.77777778, 12.33333333, 14.88888889, 17.44444444, 20.        ])"
            ]
          },
          "metadata": {},
          "execution_count": 10
        }
      ]
    },
    {
      "cell_type": "code",
      "source": [
        "#Crear una lista entre -3 y 19 de 1 en 1\n",
        "np.arange(-3,20)"
      ],
      "metadata": {
        "colab": {
          "base_uri": "https://localhost:8080/"
        },
        "id": "_Wf4wU5uOZob",
        "outputId": "57c9a359-f9c0-4507-b23e-a02c39821b16"
      },
      "execution_count": null,
      "outputs": [
        {
          "output_type": "execute_result",
          "data": {
            "text/plain": [
              "array([-3, -2, -1,  0,  1,  2,  3,  4,  5,  6,  7,  8,  9, 10, 11, 12, 13,\n",
              "       14, 15, 16, 17, 18, 19])"
            ]
          },
          "metadata": {},
          "execution_count": 12
        }
      ]
    },
    {
      "cell_type": "code",
      "source": [
        "# O de 2 en 2\n",
        "np.arange(-3,50,2)"
      ],
      "metadata": {
        "colab": {
          "base_uri": "https://localhost:8080/"
        },
        "id": "2_7qhS8tOwTY",
        "outputId": "2f66cc00-8707-4690-c0a7-895e3b1b9ed0"
      },
      "execution_count": null,
      "outputs": [
        {
          "output_type": "execute_result",
          "data": {
            "text/plain": [
              "array([-3, -1,  1,  3,  5,  7,  9, 11, 13, 15, 17, 19, 21, 23, 25, 27, 29,\n",
              "       31, 33, 35, 37, 39, 41, 43, 45, 47, 49])"
            ]
          },
          "metadata": {},
          "execution_count": 13
        }
      ]
    },
    {
      "cell_type": "code",
      "source": [
        "#Crear matriz llena de ceros de 5x10\n",
        "np.zeros((5,10))"
      ],
      "metadata": {
        "id": "89_kKJvrO67a",
        "colab": {
          "base_uri": "https://localhost:8080/"
        },
        "outputId": "e4ed6187-e382-432e-96c5-266be8e35a2d"
      },
      "execution_count": null,
      "outputs": [
        {
          "output_type": "execute_result",
          "data": {
            "text/plain": [
              "array([[0., 0., 0., 0., 0., 0., 0., 0., 0., 0.],\n",
              "       [0., 0., 0., 0., 0., 0., 0., 0., 0., 0.],\n",
              "       [0., 0., 0., 0., 0., 0., 0., 0., 0., 0.],\n",
              "       [0., 0., 0., 0., 0., 0., 0., 0., 0., 0.],\n",
              "       [0., 0., 0., 0., 0., 0., 0., 0., 0., 0.]])"
            ]
          },
          "metadata": {},
          "execution_count": 14
        }
      ]
    },
    {
      "cell_type": "code",
      "source": [
        "#Crear matriz llena de unos de 5x10\n",
        "np.ones((5,10))"
      ],
      "metadata": {
        "colab": {
          "base_uri": "https://localhost:8080/"
        },
        "id": "AtTMicsYPOWN",
        "outputId": "942ed455-2be5-4715-d6bc-bcdabe60bb36"
      },
      "execution_count": null,
      "outputs": [
        {
          "output_type": "execute_result",
          "data": {
            "text/plain": [
              "array([[1., 1., 1., 1., 1., 1., 1., 1., 1., 1.],\n",
              "       [1., 1., 1., 1., 1., 1., 1., 1., 1., 1.],\n",
              "       [1., 1., 1., 1., 1., 1., 1., 1., 1., 1.],\n",
              "       [1., 1., 1., 1., 1., 1., 1., 1., 1., 1.],\n",
              "       [1., 1., 1., 1., 1., 1., 1., 1., 1., 1.]])"
            ]
          },
          "metadata": {},
          "execution_count": 15
        }
      ]
    },
    {
      "cell_type": "markdown",
      "source": [
        "## **Informacion de Arreglos**"
      ],
      "metadata": {
        "id": "hQLfUTaaPe4A"
      }
    },
    {
      "cell_type": "code",
      "source": [
        "#Crear arreglo de enteros entre 0 - 100 de 3x4\n",
        "a = np.random.random_integers(100, size=(3,4))\n",
        "a"
      ],
      "metadata": {
        "colab": {
          "base_uri": "https://localhost:8080/"
        },
        "id": "_Qmh3LklPij0",
        "outputId": "01293f21-248e-442c-ad98-bd33bcf8e3c9"
      },
      "execution_count": null,
      "outputs": [
        {
          "output_type": "stream",
          "name": "stderr",
          "text": [
            "<ipython-input-11-7d69d3c8e426>:2: DeprecationWarning: This function is deprecated. Please call randint(1, 100 + 1) instead\n",
            "  a = np.random.random_integers(100, size=(3,4))\n"
          ]
        },
        {
          "output_type": "execute_result",
          "data": {
            "text/plain": [
              "array([[ 8, 60, 43, 98],\n",
              "       [39, 20, 32, 36],\n",
              "       [59, 22, 10, 73]])"
            ]
          },
          "metadata": {},
          "execution_count": 11
        }
      ]
    },
    {
      "cell_type": "code",
      "source": [
        "#numero de elementos de la primera dimension\n",
        "print(a.shape), len(a)"
      ],
      "metadata": {
        "colab": {
          "base_uri": "https://localhost:8080/"
        },
        "id": "NB_xqgs1QEX1",
        "outputId": "5e7a0e13-7e48-42e4-d97b-f32428e4c6be"
      },
      "execution_count": null,
      "outputs": [
        {
          "output_type": "stream",
          "name": "stdout",
          "text": [
            "(3, 4)\n"
          ]
        },
        {
          "output_type": "execute_result",
          "data": {
            "text/plain": [
              "(None, 3)"
            ]
          },
          "metadata": {},
          "execution_count": 12
        }
      ]
    },
    {
      "cell_type": "code",
      "source": [
        "# Tamaño del arreglo\n",
        "a.size"
      ],
      "metadata": {
        "colab": {
          "base_uri": "https://localhost:8080/"
        },
        "id": "w42jpmAxQg21",
        "outputId": "2037fac1-a810-47ee-aaac-f0ca1977c0d3"
      },
      "execution_count": null,
      "outputs": [
        {
          "output_type": "execute_result",
          "data": {
            "text/plain": [
              "45"
            ]
          },
          "metadata": {},
          "execution_count": 53
        }
      ]
    },
    {
      "cell_type": "code",
      "source": [
        "#tipo de arreglo\n",
        "print(a.dtype)\n",
        "a"
      ],
      "metadata": {
        "colab": {
          "base_uri": "https://localhost:8080/"
        },
        "id": "WUxoTR57Qp4d",
        "outputId": "b4baaa24-5aa6-4421-cd76-0c1fb81286ba"
      },
      "execution_count": null,
      "outputs": [
        {
          "output_type": "stream",
          "name": "stdout",
          "text": [
            "int64\n"
          ]
        },
        {
          "output_type": "execute_result",
          "data": {
            "text/plain": [
              "array([[ 8, 60, 43, 98],\n",
              "       [39, 20, 32, 36],\n",
              "       [59, 22, 10, 73]])"
            ]
          },
          "metadata": {},
          "execution_count": 17
        }
      ]
    },
    {
      "cell_type": "code",
      "source": [
        "#Cambiar el tipo de arreglo\n",
        "b = a.astype(np.float16)\n",
        "b"
      ],
      "metadata": {
        "colab": {
          "base_uri": "https://localhost:8080/"
        },
        "id": "IBTtgbF5SkWZ",
        "outputId": "2726df10-75a5-4296-e13b-8cbb5ede18d1"
      },
      "execution_count": null,
      "outputs": [
        {
          "output_type": "execute_result",
          "data": {
            "text/plain": [
              "array([[[0.6147 , 0.3096 , 0.2377 ],\n",
              "        [0.675  , 0.994  , 0.4878 ],\n",
              "        [0.733  , 0.712  , 0.9297 ],\n",
              "        [0.01945, 0.1802 , 0.624  ],\n",
              "        [0.02385, 0.357  , 0.468  ]],\n",
              "\n",
              "       [[0.944  , 0.96   , 0.3306 ],\n",
              "        [0.6616 , 0.5444 , 0.0163 ],\n",
              "        [0.4907 , 0.504  , 0.3484 ],\n",
              "        [0.443  , 0.9653 , 0.04846],\n",
              "        [0.607  , 0.7607 , 0.1488 ]],\n",
              "\n",
              "       [[0.1727 , 0.736  , 0.2864 ],\n",
              "        [0.6167 , 0.03372, 0.5503 ],\n",
              "        [0.81   , 0.78   , 0.03006],\n",
              "        [0.6226 , 0.7563 , 0.7983 ],\n",
              "        [0.801  , 0.4663 , 0.4568 ]]], dtype=float16)"
            ]
          },
          "metadata": {},
          "execution_count": 54
        }
      ]
    },
    {
      "cell_type": "markdown",
      "source": [
        "## **Operaciones con arreglos**"
      ],
      "metadata": {
        "id": "CRIAaMa3S7zw"
      }
    },
    {
      "cell_type": "code",
      "source": [
        "a = np.array([3,5,4])\n",
        "b = np.array([10,5,30])"
      ],
      "metadata": {
        "id": "CCpYFnDCS-NF"
      },
      "execution_count": null,
      "outputs": []
    },
    {
      "cell_type": "code",
      "source": [
        "a + b"
      ],
      "metadata": {
        "id": "biD6ylkAS_4W",
        "colab": {
          "base_uri": "https://localhost:8080/"
        },
        "outputId": "a9f83df8-04b4-4b8f-b720-a6f7aaa794a7"
      },
      "execution_count": null,
      "outputs": [
        {
          "output_type": "execute_result",
          "data": {
            "text/plain": [
              "array([13, 10, 34])"
            ]
          },
          "metadata": {},
          "execution_count": 19
        }
      ]
    },
    {
      "cell_type": "code",
      "source": [
        "a * b"
      ],
      "metadata": {
        "id": "aW-XG1LsTBVE",
        "colab": {
          "base_uri": "https://localhost:8080/"
        },
        "outputId": "11a85394-8132-4ac0-f039-bc17efbcebee"
      },
      "execution_count": null,
      "outputs": [
        {
          "output_type": "execute_result",
          "data": {
            "text/plain": [
              "array([ 30,  25, 120])"
            ]
          },
          "metadata": {},
          "execution_count": 56
        }
      ]
    },
    {
      "cell_type": "code",
      "source": [
        "b ** a"
      ],
      "metadata": {
        "colab": {
          "base_uri": "https://localhost:8080/"
        },
        "id": "OuJbx7HKTCr8",
        "outputId": "d239b430-4997-4fca-f497-e36fcf6d4e4e"
      },
      "execution_count": null,
      "outputs": [
        {
          "output_type": "execute_result",
          "data": {
            "text/plain": [
              "array([  1000,   3125, 810000])"
            ]
          },
          "metadata": {},
          "execution_count": 57
        }
      ]
    },
    {
      "cell_type": "code",
      "source": [
        "#Aplicar la operacion seno a todos los elementos\n",
        "np.sin(a)"
      ],
      "metadata": {
        "id": "Swvs9iIlTSjb",
        "colab": {
          "base_uri": "https://localhost:8080/"
        },
        "outputId": "ca7a4b11-d6c2-4d10-ba66-1fff0b9a3739"
      },
      "execution_count": null,
      "outputs": [
        {
          "output_type": "execute_result",
          "data": {
            "text/plain": [
              "array([ 0.14112001, -0.95892427, -0.7568025 ])"
            ]
          },
          "metadata": {},
          "execution_count": 58
        }
      ]
    },
    {
      "cell_type": "code",
      "source": [
        "#Comparacion elemento a elemento\n",
        "a == b"
      ],
      "metadata": {
        "id": "0pN_MHACTVYz",
        "colab": {
          "base_uri": "https://localhost:8080/"
        },
        "outputId": "df65a587-7dae-4f99-8b08-a628e2354790"
      },
      "execution_count": null,
      "outputs": [
        {
          "output_type": "execute_result",
          "data": {
            "text/plain": [
              "array([False,  True, False])"
            ]
          },
          "metadata": {},
          "execution_count": 23
        }
      ]
    },
    {
      "cell_type": "markdown",
      "source": [
        "## **Operacion de matrices**"
      ],
      "metadata": {
        "id": "MzMe1flHTzJz"
      }
    },
    {
      "cell_type": "code",
      "source": [
        "a.sum()"
      ],
      "metadata": {
        "colab": {
          "base_uri": "https://localhost:8080/"
        },
        "id": "0w6omqt8TWrr",
        "outputId": "01747d0e-fcf2-46df-89d1-4dcec9b063f7"
      },
      "execution_count": null,
      "outputs": [
        {
          "output_type": "execute_result",
          "data": {
            "text/plain": [
              "12"
            ]
          },
          "metadata": {},
          "execution_count": 24
        }
      ]
    },
    {
      "cell_type": "code",
      "source": [
        "#suma, maximo, minimo. media, desviacion estandar, multiplicar todos los elementos\n",
        "np.sum(a), np.max(a), np.min(a), np.mean(a), np.std(a), np.product(a)"
      ],
      "metadata": {
        "colab": {
          "base_uri": "https://localhost:8080/"
        },
        "id": "uSaB0NAwT9bL",
        "outputId": "bbaff0e4-03e3-4bd7-e6a6-40d41f56af43"
      },
      "execution_count": null,
      "outputs": [
        {
          "output_type": "execute_result",
          "data": {
            "text/plain": [
              "(12, 5, 3, 4.0, 0.816496580927726, 60)"
            ]
          },
          "metadata": {},
          "execution_count": 25
        }
      ]
    },
    {
      "cell_type": "code",
      "source": [
        "#producto punto de dos vectores\n",
        "a.dot(b)"
      ],
      "metadata": {
        "colab": {
          "base_uri": "https://localhost:8080/"
        },
        "id": "9KnfozWFUh-C",
        "outputId": "1e7060cb-44c5-4e18-fc1a-6300364076bd"
      },
      "execution_count": null,
      "outputs": [
        {
          "output_type": "execute_result",
          "data": {
            "text/plain": [
              "175"
            ]
          },
          "metadata": {},
          "execution_count": 50
        }
      ]
    },
    {
      "cell_type": "code",
      "source": [
        "# La suma de multiplicar a*b\n",
        "np.sum(a*b)"
      ],
      "metadata": {
        "id": "EuT608pdUxqR",
        "colab": {
          "base_uri": "https://localhost:8080/"
        },
        "outputId": "f7077e83-606c-4928-bec8-ef93acaa506b"
      },
      "execution_count": null,
      "outputs": [
        {
          "output_type": "execute_result",
          "data": {
            "text/plain": [
              "175"
            ]
          },
          "metadata": {},
          "execution_count": 51
        }
      ]
    },
    {
      "cell_type": "code",
      "source": [
        "#Crear matriz aleatoria de numeros menores que 100 de 3x4\n",
        "a = np.random.randint(100, size=(3,4))\n",
        "a"
      ],
      "metadata": {
        "colab": {
          "base_uri": "https://localhost:8080/"
        },
        "id": "ss-U2_S-U_Ei",
        "outputId": "ea1ae179-559d-4ef4-a394-2e77dff7bc1c"
      },
      "execution_count": null,
      "outputs": [
        {
          "output_type": "execute_result",
          "data": {
            "text/plain": [
              "array([[26, 31, 99, 95],\n",
              "       [54, 76, 32, 74],\n",
              "       [93,  6, 34, 22]])"
            ]
          },
          "metadata": {},
          "execution_count": 52
        }
      ]
    },
    {
      "cell_type": "code",
      "source": [
        "#Traspuesta de a\n",
        "print(a)\n",
        "b=a.T\n",
        "b"
      ],
      "metadata": {
        "colab": {
          "base_uri": "https://localhost:8080/"
        },
        "id": "J3DV47VeVK5o",
        "outputId": "62bd200f-fd2a-4b60-dbc6-46401b2e9481"
      },
      "execution_count": null,
      "outputs": [
        {
          "output_type": "stream",
          "name": "stdout",
          "text": [
            "[3 5 4]\n"
          ]
        },
        {
          "output_type": "execute_result",
          "data": {
            "text/plain": [
              "array([3, 5, 4])"
            ]
          },
          "metadata": {},
          "execution_count": 61
        }
      ]
    },
    {
      "cell_type": "code",
      "source": [
        "a = np.array([3,5,4])\n",
        "b = np.array([10,5,30])"
      ],
      "metadata": {
        "id": "fJCvBqaqVP8Z"
      },
      "execution_count": null,
      "outputs": []
    },
    {
      "cell_type": "code",
      "source": [
        "#comprobar si todos los elementos del arreglo son iguales\n",
        "np.allclose(a,b)"
      ],
      "metadata": {
        "colab": {
          "base_uri": "https://localhost:8080/"
        },
        "id": "3GRCnloLVX3S",
        "outputId": "4b448782-d4e5-4166-9b60-8de0e12158e6"
      },
      "execution_count": null,
      "outputs": [
        {
          "output_type": "execute_result",
          "data": {
            "text/plain": [
              "True"
            ]
          },
          "metadata": {},
          "execution_count": 62
        }
      ]
    },
    {
      "cell_type": "code",
      "source": [
        "#Es lo mismo que\n",
        "a==b\n"
      ],
      "metadata": {
        "colab": {
          "base_uri": "https://localhost:8080/"
        },
        "id": "ZgZHUiA9VhaB",
        "outputId": "05acc817-e2b1-447d-9a1c-2e0cbb74e32a"
      },
      "execution_count": null,
      "outputs": [
        {
          "output_type": "execute_result",
          "data": {
            "text/plain": [
              "array([ True,  True,  True])"
            ]
          },
          "metadata": {},
          "execution_count": 63
        }
      ]
    },
    {
      "cell_type": "code",
      "source": [
        "#cuantos iguales tengo\n",
        "np.sum(a==b)"
      ],
      "metadata": {
        "colab": {
          "base_uri": "https://localhost:8080/"
        },
        "id": "_qYE3JzCWDUZ",
        "outputId": "e3bab106-5066-439a-cb0a-c9fc6e24cedb"
      },
      "execution_count": null,
      "outputs": [
        {
          "output_type": "execute_result",
          "data": {
            "text/plain": [
              "3"
            ]
          },
          "metadata": {},
          "execution_count": 64
        }
      ]
    },
    {
      "cell_type": "code",
      "source": [
        "#Hay alguno de los elementos iguales\n",
        "np.any(a==b)\n"
      ],
      "metadata": {
        "colab": {
          "base_uri": "https://localhost:8080/"
        },
        "id": "40foSBicVsez",
        "outputId": "5777c759-505f-4b0c-f03e-a516cab266f2"
      },
      "execution_count": null,
      "outputs": [
        {
          "output_type": "execute_result",
          "data": {
            "text/plain": [
              "True"
            ]
          },
          "metadata": {},
          "execution_count": 29
        }
      ]
    },
    {
      "cell_type": "markdown",
      "source": [
        "# **Introduccion a Pandas**\n",
        "\n",
        "## Es la **librería de Python** a través de la cual podremos cargar dataset en forma de dataframe que es el objeto de pandas.\n",
        "## Con pandas podemos acceder, manipular, modificar, etc dichos dataframe.\n",
        "\n",
        "* Un dataframe es un elemento mas general que un arreglo de numpy, una forma de verlo es como si fuese una tabla de una base de datos que esta en memoria.\n",
        "\n",
        "* Se asemeja a una tabla vamos a tener columnas y cada una de ellas puede tener un tipo de datos distinto (esto no sucede con los arreglos).\n",
        "\n",
        "* Además podemos tener un índice, esto nos permite realizar procesos de carga y limpieza de datos con dataset\n",
        "\n",
        "* Panda es una libreria de ciencia de los datos que ha tomado mucha fuerza en el ultimo tiempo dada su facilidad de uso. Tiene como base R por lo que muchos usuarios de esta plataforma se estan pasando python.\n",
        "\n",
        "\n"
      ],
      "metadata": {
        "id": "XH8YFBEwYl7t"
      }
    },
    {
      "cell_type": "markdown",
      "source": [
        "# **Componentes fundamentales en Pandas**\n",
        "\n",
        "**Serie:** Objeto de una sola columna con un indice (***Index***). El indice es la forma de enumerar un objeto de series.\n",
        "\n",
        "**Dataframe**: Objeto tabular que se compone en una columna de un objeto de series, donde las columnas comparten un indice."
      ],
      "metadata": {
        "id": "f138SwOqWfkk"
      }
    },
    {
      "cell_type": "markdown",
      "source": [
        "![serie_dataframe.jpg](data:image/jpeg;base64,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)"
      ],
      "metadata": {
        "id": "tSlSQPoMWhDk"
      }
    },
    {
      "cell_type": "code",
      "source": [
        "import pandas as pd\n",
        "\n",
        "#Creando un Objeto del tipo de Series\n",
        "simple_series = pd.Series(index=[0,1,2,13,14], name=\"Volume\", data=[1000,2000,3000,1640,12000])\n",
        "simple_series"
      ],
      "metadata": {
        "colab": {
          "base_uri": "https://localhost:8080/",
          "height": 241
        },
        "id": "_0SO9lygWvJ0",
        "outputId": "ee3556b3-c510-407e-d2ab-45ba2c662353"
      },
      "execution_count": null,
      "outputs": [
        {
          "output_type": "execute_result",
          "data": {
            "text/plain": [
              "0      1000\n",
              "1      2000\n",
              "2      3000\n",
              "13     1640\n",
              "14    12000\n",
              "Name: Volume, dtype: int64"
            ],
            "text/html": [
              "<div>\n",
              "<style scoped>\n",
              "    .dataframe tbody tr th:only-of-type {\n",
              "        vertical-align: middle;\n",
              "    }\n",
              "\n",
              "    .dataframe tbody tr th {\n",
              "        vertical-align: top;\n",
              "    }\n",
              "\n",
              "    .dataframe thead th {\n",
              "        text-align: right;\n",
              "    }\n",
              "</style>\n",
              "<table border=\"1\" class=\"dataframe\">\n",
              "  <thead>\n",
              "    <tr style=\"text-align: right;\">\n",
              "      <th></th>\n",
              "      <th>Volume</th>\n",
              "    </tr>\n",
              "  </thead>\n",
              "  <tbody>\n",
              "    <tr>\n",
              "      <th>0</th>\n",
              "      <td>1000</td>\n",
              "    </tr>\n",
              "    <tr>\n",
              "      <th>1</th>\n",
              "      <td>2000</td>\n",
              "    </tr>\n",
              "    <tr>\n",
              "      <th>2</th>\n",
              "      <td>3000</td>\n",
              "    </tr>\n",
              "    <tr>\n",
              "      <th>13</th>\n",
              "      <td>1640</td>\n",
              "    </tr>\n",
              "    <tr>\n",
              "      <th>14</th>\n",
              "      <td>12000</td>\n",
              "    </tr>\n",
              "  </tbody>\n",
              "</table>\n",
              "</div><br><label><b>dtype:</b> int64</label>"
            ]
          },
          "metadata": {},
          "execution_count": 69
        }
      ]
    },
    {
      "cell_type": "code",
      "source": [
        "type(simple_series)"
      ],
      "metadata": {
        "colab": {
          "base_uri": "https://localhost:8080/",
          "height": 604
        },
        "id": "uKXA8DBaSV0J",
        "outputId": "8e81dbdd-7cd7-4984-e2e6-64e6bcd9b3e7"
      },
      "execution_count": null,
      "outputs": [
        {
          "output_type": "execute_result",
          "data": {
            "text/plain": [
              "pandas.core.series.Series"
            ],
            "text/html": [
              "<div style=\"max-width:800px; border: 1px solid var(--colab-border-color);\"><style>\n",
              "      pre.function-repr-contents {\n",
              "        overflow-x: auto;\n",
              "        padding: 8px 12px;\n",
              "        max-height: 500px;\n",
              "      }\n",
              "\n",
              "      pre.function-repr-contents.function-repr-contents-collapsed {\n",
              "        cursor: pointer;\n",
              "        max-height: 100px;\n",
              "      }\n",
              "    </style>\n",
              "    <pre style=\"white-space: initial; background:\n",
              "         var(--colab-secondary-surface-color); padding: 8px 12px;\n",
              "         border-bottom: 1px solid var(--colab-border-color);\"><b>pandas.core.series.Series</b><br/>def __init__(data=None, index=None, dtype: Dtype | None=None, name=None, copy: bool | None=None, fastpath: bool | lib.NoDefault=lib.no_default) -&gt; None</pre><pre class=\"function-repr-contents function-repr-contents-collapsed\" style=\"\"><a class=\"filepath\" style=\"display:none\" href=\"#\">/usr/local/lib/python3.10/dist-packages/pandas/core/series.py</a>One-dimensional ndarray with axis labels (including time series).\n",
              "\n",
              "Labels need not be unique but must be a hashable type. The object\n",
              "supports both integer- and label-based indexing and provides a host of\n",
              "methods for performing operations involving the index. Statistical\n",
              "methods from ndarray have been overridden to automatically exclude\n",
              "missing data (currently represented as NaN).\n",
              "\n",
              "Operations between Series (+, -, /, \\*, \\*\\*) align values based on their\n",
              "associated index values-- they need not be the same length. The result\n",
              "index will be the sorted union of the two indexes.\n",
              "\n",
              "Parameters\n",
              "----------\n",
              "data : array-like, Iterable, dict, or scalar value\n",
              "    Contains data stored in Series. If data is a dict, argument order is\n",
              "    maintained.\n",
              "index : array-like or Index (1d)\n",
              "    Values must be hashable and have the same length as `data`.\n",
              "    Non-unique index values are allowed. Will default to\n",
              "    RangeIndex (0, 1, 2, ..., n) if not provided. If data is dict-like\n",
              "    and index is None, then the keys in the data are used as the index. If the\n",
              "    index is not None, the resulting Series is reindexed with the index values.\n",
              "dtype : str, numpy.dtype, or ExtensionDtype, optional\n",
              "    Data type for the output Series. If not specified, this will be\n",
              "    inferred from `data`.\n",
              "    See the :ref:`user guide &lt;basics.dtypes&gt;` for more usages.\n",
              "name : Hashable, default None\n",
              "    The name to give to the Series.\n",
              "copy : bool, default False\n",
              "    Copy input data. Only affects Series or 1d ndarray input. See examples.\n",
              "\n",
              "Notes\n",
              "-----\n",
              "Please reference the :ref:`User Guide &lt;basics.series&gt;` for more information.\n",
              "\n",
              "Examples\n",
              "--------\n",
              "Constructing Series from a dictionary with an Index specified\n",
              "\n",
              "&gt;&gt;&gt; d = {&#x27;a&#x27;: 1, &#x27;b&#x27;: 2, &#x27;c&#x27;: 3}\n",
              "&gt;&gt;&gt; ser = pd.Series(data=d, index=[&#x27;a&#x27;, &#x27;b&#x27;, &#x27;c&#x27;])\n",
              "&gt;&gt;&gt; ser\n",
              "a   1\n",
              "b   2\n",
              "c   3\n",
              "dtype: int64\n",
              "\n",
              "The keys of the dictionary match with the Index values, hence the Index\n",
              "values have no effect.\n",
              "\n",
              "&gt;&gt;&gt; d = {&#x27;a&#x27;: 1, &#x27;b&#x27;: 2, &#x27;c&#x27;: 3}\n",
              "&gt;&gt;&gt; ser = pd.Series(data=d, index=[&#x27;x&#x27;, &#x27;y&#x27;, &#x27;z&#x27;])\n",
              "&gt;&gt;&gt; ser\n",
              "x   NaN\n",
              "y   NaN\n",
              "z   NaN\n",
              "dtype: float64\n",
              "\n",
              "Note that the Index is first build with the keys from the dictionary.\n",
              "After this the Series is reindexed with the given Index values, hence we\n",
              "get all NaN as a result.\n",
              "\n",
              "Constructing Series from a list with `copy=False`.\n",
              "\n",
              "&gt;&gt;&gt; r = [1, 2]\n",
              "&gt;&gt;&gt; ser = pd.Series(r, copy=False)\n",
              "&gt;&gt;&gt; ser.iloc[0] = 999\n",
              "&gt;&gt;&gt; r\n",
              "[1, 2]\n",
              "&gt;&gt;&gt; ser\n",
              "0    999\n",
              "1      2\n",
              "dtype: int64\n",
              "\n",
              "Due to input data type the Series has a `copy` of\n",
              "the original data even though `copy=False`, so\n",
              "the data is unchanged.\n",
              "\n",
              "Constructing Series from a 1d ndarray with `copy=False`.\n",
              "\n",
              "&gt;&gt;&gt; r = np.array([1, 2])\n",
              "&gt;&gt;&gt; ser = pd.Series(r, copy=False)\n",
              "&gt;&gt;&gt; ser.iloc[0] = 999\n",
              "&gt;&gt;&gt; r\n",
              "array([999,   2])\n",
              "&gt;&gt;&gt; ser\n",
              "0    999\n",
              "1      2\n",
              "dtype: int64\n",
              "\n",
              "Due to input data type the Series has a `view` on\n",
              "the original data, so\n",
              "the data is changed as well.</pre>\n",
              "      <script>\n",
              "      if (google.colab.kernel.accessAllowed && google.colab.files && google.colab.files.view) {\n",
              "        for (const element of document.querySelectorAll('.filepath')) {\n",
              "          element.style.display = 'block'\n",
              "          element.onclick = (event) => {\n",
              "            event.preventDefault();\n",
              "            event.stopPropagation();\n",
              "            google.colab.files.view(element.textContent, 263);\n",
              "          };\n",
              "        }\n",
              "      }\n",
              "      for (const element of document.querySelectorAll('.function-repr-contents')) {\n",
              "        element.onclick = (event) => {\n",
              "          event.preventDefault();\n",
              "          event.stopPropagation();\n",
              "          element.classList.toggle('function-repr-contents-collapsed');\n",
              "        };\n",
              "      }\n",
              "      </script>\n",
              "      </div>"
            ]
          },
          "metadata": {},
          "execution_count": 68
        }
      ]
    },
    {
      "cell_type": "code",
      "source": [
        "#Creamos un dataframe de una sola columna\n",
        "simple_df = pd.DataFrame(index=[0,1,2,3], columns=['Volume'], data=[13200,100,400,1534])\n",
        "simple_df"
      ],
      "metadata": {
        "id": "a1601_AIW1bj",
        "colab": {
          "base_uri": "https://localhost:8080/",
          "height": 480
        },
        "outputId": "ad797e72-fb4d-485b-be76-a52770675e75"
      },
      "execution_count": null,
      "outputs": [
        {
          "output_type": "execute_result",
          "data": {
            "text/plain": [
              "   Volume\n",
              "0   13200\n",
              "1     100\n",
              "2     400\n",
              "3    1534"
            ],
            "text/html": [
              "\n",
              "  <div id=\"df-91d49fbe-7185-4841-9518-8417d67c5efd\" class=\"colab-df-container\">\n",
              "    <div>\n",
              "<style scoped>\n",
              "    .dataframe tbody tr th:only-of-type {\n",
              "        vertical-align: middle;\n",
              "    }\n",
              "\n",
              "    .dataframe tbody tr th {\n",
              "        vertical-align: top;\n",
              "    }\n",
              "\n",
              "    .dataframe thead th {\n",
              "        text-align: right;\n",
              "    }\n",
              "</style>\n",
              "<table border=\"1\" class=\"dataframe\">\n",
              "  <thead>\n",
              "    <tr style=\"text-align: right;\">\n",
              "      <th></th>\n",
              "      <th>Volume</th>\n",
              "    </tr>\n",
              "  </thead>\n",
              "  <tbody>\n",
              "    <tr>\n",
              "      <th>0</th>\n",
              "      <td>13200</td>\n",
              "    </tr>\n",
              "    <tr>\n",
              "      <th>1</th>\n",
              "      <td>100</td>\n",
              "    </tr>\n",
              "    <tr>\n",
              "      <th>2</th>\n",
              "      <td>400</td>\n",
              "    </tr>\n",
              "    <tr>\n",
              "      <th>3</th>\n",
              "      <td>1534</td>\n",
              "    </tr>\n",
              "  </tbody>\n",
              "</table>\n",
              "</div>\n",
              "    <div class=\"colab-df-buttons\">\n",
              "\n",
              "  <div class=\"colab-df-container\">\n",
              "    <button class=\"colab-df-convert\" onclick=\"convertToInteractive('df-91d49fbe-7185-4841-9518-8417d67c5efd')\"\n",
              "            title=\"Convert this dataframe to an interactive table.\"\n",
              "            style=\"display:none;\">\n",
              "\n",
              "  <svg xmlns=\"http://www.w3.org/2000/svg\" height=\"24px\" viewBox=\"0 -960 960 960\">\n",
              "    <path d=\"M120-120v-720h720v720H120Zm60-500h600v-160H180v160Zm220 220h160v-160H400v160Zm0 220h160v-160H400v160ZM180-400h160v-160H180v160Zm440 0h160v-160H620v160ZM180-180h160v-160H180v160Zm440 0h160v-160H620v160Z\"/>\n",
              "  </svg>\n",
              "    </button>\n",
              "\n",
              "  <style>\n",
              "    .colab-df-container {\n",
              "      display:flex;\n",
              "      gap: 12px;\n",
              "    }\n",
              "\n",
              "    .colab-df-convert {\n",
              "      background-color: #E8F0FE;\n",
              "      border: none;\n",
              "      border-radius: 50%;\n",
              "      cursor: pointer;\n",
              "      display: none;\n",
              "      fill: #1967D2;\n",
              "      height: 32px;\n",
              "      padding: 0 0 0 0;\n",
              "      width: 32px;\n",
              "    }\n",
              "\n",
              "    .colab-df-convert:hover {\n",
              "      background-color: #E2EBFA;\n",
              "      box-shadow: 0px 1px 2px rgba(60, 64, 67, 0.3), 0px 1px 3px 1px rgba(60, 64, 67, 0.15);\n",
              "      fill: #174EA6;\n",
              "    }\n",
              "\n",
              "    .colab-df-buttons div {\n",
              "      margin-bottom: 4px;\n",
              "    }\n",
              "\n",
              "    [theme=dark] .colab-df-convert {\n",
              "      background-color: #3B4455;\n",
              "      fill: #D2E3FC;\n",
              "    }\n",
              "\n",
              "    [theme=dark] .colab-df-convert:hover {\n",
              "      background-color: #434B5C;\n",
              "      box-shadow: 0px 1px 3px 1px rgba(0, 0, 0, 0.15);\n",
              "      filter: drop-shadow(0px 1px 2px rgba(0, 0, 0, 0.3));\n",
              "      fill: #FFFFFF;\n",
              "    }\n",
              "  </style>\n",
              "\n",
              "    <script>\n",
              "      const buttonEl =\n",
              "        document.querySelector('#df-91d49fbe-7185-4841-9518-8417d67c5efd button.colab-df-convert');\n",
              "      buttonEl.style.display =\n",
              "        google.colab.kernel.accessAllowed ? 'block' : 'none';\n",
              "\n",
              "      async function convertToInteractive(key) {\n",
              "        const element = document.querySelector('#df-91d49fbe-7185-4841-9518-8417d67c5efd');\n",
              "        const dataTable =\n",
              "          await google.colab.kernel.invokeFunction('convertToInteractive',\n",
              "                                                    [key], {});\n",
              "        if (!dataTable) return;\n",
              "\n",
              "        const docLinkHtml = 'Like what you see? Visit the ' +\n",
              "          '<a target=\"_blank\" href=https://colab.research.google.com/notebooks/data_table.ipynb>data table notebook</a>'\n",
              "          + ' to learn more about interactive tables.';\n",
              "        element.innerHTML = '';\n",
              "        dataTable['output_type'] = 'display_data';\n",
              "        await google.colab.output.renderOutput(dataTable, element);\n",
              "        const docLink = document.createElement('div');\n",
              "        docLink.innerHTML = docLinkHtml;\n",
              "        element.appendChild(docLink);\n",
              "      }\n",
              "    </script>\n",
              "  </div>\n",
              "\n",
              "\n",
              "<div id=\"df-998278cf-f9de-498e-87fd-23acea03e85d\">\n",
              "  <button class=\"colab-df-quickchart\" onclick=\"quickchart('df-998278cf-f9de-498e-87fd-23acea03e85d')\"\n",
              "            title=\"Suggest charts\"\n",
              "            style=\"display:none;\">\n",
              "\n",
              "<svg xmlns=\"http://www.w3.org/2000/svg\" height=\"24px\"viewBox=\"0 0 24 24\"\n",
              "     width=\"24px\">\n",
              "    <g>\n",
              "        <path d=\"M19 3H5c-1.1 0-2 .9-2 2v14c0 1.1.9 2 2 2h14c1.1 0 2-.9 2-2V5c0-1.1-.9-2-2-2zM9 17H7v-7h2v7zm4 0h-2V7h2v10zm4 0h-2v-4h2v4z\"/>\n",
              "    </g>\n",
              "</svg>\n",
              "  </button>\n",
              "\n",
              "<style>\n",
              "  .colab-df-quickchart {\n",
              "      --bg-color: #E8F0FE;\n",
              "      --fill-color: #1967D2;\n",
              "      --hover-bg-color: #E2EBFA;\n",
              "      --hover-fill-color: #174EA6;\n",
              "      --disabled-fill-color: #AAA;\n",
              "      --disabled-bg-color: #DDD;\n",
              "  }\n",
              "\n",
              "  [theme=dark] .colab-df-quickchart {\n",
              "      --bg-color: #3B4455;\n",
              "      --fill-color: #D2E3FC;\n",
              "      --hover-bg-color: #434B5C;\n",
              "      --hover-fill-color: #FFFFFF;\n",
              "      --disabled-bg-color: #3B4455;\n",
              "      --disabled-fill-color: #666;\n",
              "  }\n",
              "\n",
              "  .colab-df-quickchart {\n",
              "    background-color: var(--bg-color);\n",
              "    border: none;\n",
              "    border-radius: 50%;\n",
              "    cursor: pointer;\n",
              "    display: none;\n",
              "    fill: var(--fill-color);\n",
              "    height: 32px;\n",
              "    padding: 0;\n",
              "    width: 32px;\n",
              "  }\n",
              "\n",
              "  .colab-df-quickchart:hover {\n",
              "    background-color: var(--hover-bg-color);\n",
              "    box-shadow: 0 1px 2px rgba(60, 64, 67, 0.3), 0 1px 3px 1px rgba(60, 64, 67, 0.15);\n",
              "    fill: var(--button-hover-fill-color);\n",
              "  }\n",
              "\n",
              "  .colab-df-quickchart-complete:disabled,\n",
              "  .colab-df-quickchart-complete:disabled:hover {\n",
              "    background-color: var(--disabled-bg-color);\n",
              "    fill: var(--disabled-fill-color);\n",
              "    box-shadow: none;\n",
              "  }\n",
              "\n",
              "  .colab-df-spinner {\n",
              "    border: 2px solid var(--fill-color);\n",
              "    border-color: transparent;\n",
              "    border-bottom-color: var(--fill-color);\n",
              "    animation:\n",
              "      spin 1s steps(1) infinite;\n",
              "  }\n",
              "\n",
              "  @keyframes spin {\n",
              "    0% {\n",
              "      border-color: transparent;\n",
              "      border-bottom-color: var(--fill-color);\n",
              "      border-left-color: var(--fill-color);\n",
              "    }\n",
              "    20% {\n",
              "      border-color: transparent;\n",
              "      border-left-color: var(--fill-color);\n",
              "      border-top-color: var(--fill-color);\n",
              "    }\n",
              "    30% {\n",
              "      border-color: transparent;\n",
              "      border-left-color: var(--fill-color);\n",
              "      border-top-color: var(--fill-color);\n",
              "      border-right-color: var(--fill-color);\n",
              "    }\n",
              "    40% {\n",
              "      border-color: transparent;\n",
              "      border-right-color: var(--fill-color);\n",
              "      border-top-color: var(--fill-color);\n",
              "    }\n",
              "    60% {\n",
              "      border-color: transparent;\n",
              "      border-right-color: var(--fill-color);\n",
              "    }\n",
              "    80% {\n",
              "      border-color: transparent;\n",
              "      border-right-color: var(--fill-color);\n",
              "      border-bottom-color: var(--fill-color);\n",
              "    }\n",
              "    90% {\n",
              "      border-color: transparent;\n",
              "      border-bottom-color: var(--fill-color);\n",
              "    }\n",
              "  }\n",
              "</style>\n",
              "\n",
              "  <script>\n",
              "    async function quickchart(key) {\n",
              "      const quickchartButtonEl =\n",
              "        document.querySelector('#' + key + ' button');\n",
              "      quickchartButtonEl.disabled = true;  // To prevent multiple clicks.\n",
              "      quickchartButtonEl.classList.add('colab-df-spinner');\n",
              "      try {\n",
              "        const charts = await google.colab.kernel.invokeFunction(\n",
              "            'suggestCharts', [key], {});\n",
              "      } catch (error) {\n",
              "        console.error('Error during call to suggestCharts:', error);\n",
              "      }\n",
              "      quickchartButtonEl.classList.remove('colab-df-spinner');\n",
              "      quickchartButtonEl.classList.add('colab-df-quickchart-complete');\n",
              "    }\n",
              "    (() => {\n",
              "      let quickchartButtonEl =\n",
              "        document.querySelector('#df-998278cf-f9de-498e-87fd-23acea03e85d button');\n",
              "      quickchartButtonEl.style.display =\n",
              "        google.colab.kernel.accessAllowed ? 'block' : 'none';\n",
              "    })();\n",
              "  </script>\n",
              "</div>\n",
              "\n",
              "  <div id=\"id_03b5637c-2feb-4931-8fbc-8edd845490b7\">\n",
              "    <style>\n",
              "      .colab-df-generate {\n",
              "        background-color: #E8F0FE;\n",
              "        border: none;\n",
              "        border-radius: 50%;\n",
              "        cursor: pointer;\n",
              "        display: none;\n",
              "        fill: #1967D2;\n",
              "        height: 32px;\n",
              "        padding: 0 0 0 0;\n",
              "        width: 32px;\n",
              "      }\n",
              "\n",
              "      .colab-df-generate:hover {\n",
              "        background-color: #E2EBFA;\n",
              "        box-shadow: 0px 1px 2px rgba(60, 64, 67, 0.3), 0px 1px 3px 1px rgba(60, 64, 67, 0.15);\n",
              "        fill: #174EA6;\n",
              "      }\n",
              "\n",
              "      [theme=dark] .colab-df-generate {\n",
              "        background-color: #3B4455;\n",
              "        fill: #D2E3FC;\n",
              "      }\n",
              "\n",
              "      [theme=dark] .colab-df-generate:hover {\n",
              "        background-color: #434B5C;\n",
              "        box-shadow: 0px 1px 3px 1px rgba(0, 0, 0, 0.15);\n",
              "        filter: drop-shadow(0px 1px 2px rgba(0, 0, 0, 0.3));\n",
              "        fill: #FFFFFF;\n",
              "      }\n",
              "    </style>\n",
              "    <button class=\"colab-df-generate\" onclick=\"generateWithVariable('simple_df')\"\n",
              "            title=\"Generate code using this dataframe.\"\n",
              "            style=\"display:none;\">\n",
              "\n",
              "  <svg xmlns=\"http://www.w3.org/2000/svg\" height=\"24px\"viewBox=\"0 0 24 24\"\n",
              "       width=\"24px\">\n",
              "    <path d=\"M7,19H8.4L18.45,9,17,7.55,7,17.6ZM5,21V16.75L18.45,3.32a2,2,0,0,1,2.83,0l1.4,1.43a1.91,1.91,0,0,1,.58,1.4,1.91,1.91,0,0,1-.58,1.4L9.25,21ZM18.45,9,17,7.55Zm-12,3A5.31,5.31,0,0,0,4.9,8.1,5.31,5.31,0,0,0,1,6.5,5.31,5.31,0,0,0,4.9,4.9,5.31,5.31,0,0,0,6.5,1,5.31,5.31,0,0,0,8.1,4.9,5.31,5.31,0,0,0,12,6.5,5.46,5.46,0,0,0,6.5,12Z\"/>\n",
              "  </svg>\n",
              "    </button>\n",
              "    <script>\n",
              "      (() => {\n",
              "      const buttonEl =\n",
              "        document.querySelector('#id_03b5637c-2feb-4931-8fbc-8edd845490b7 button.colab-df-generate');\n",
              "      buttonEl.style.display =\n",
              "        google.colab.kernel.accessAllowed ? 'block' : 'none';\n",
              "\n",
              "      buttonEl.onclick = () => {\n",
              "        google.colab.notebook.generateWithVariable('simple_df');\n",
              "      }\n",
              "      })();\n",
              "    </script>\n",
              "  </div>\n",
              "\n",
              "    </div>\n",
              "  </div>\n"
            ],
            "application/vnd.google.colaboratory.intrinsic+json": {
              "type": "dataframe",
              "variable_name": "simple_df",
              "summary": "{\n  \"name\": \"simple_df\",\n  \"rows\": 4,\n  \"fields\": [\n    {\n      \"column\": \"Volume\",\n      \"properties\": {\n        \"dtype\": \"number\",\n        \"std\": 6291,\n        \"min\": 100,\n        \"max\": 13200,\n        \"num_unique_values\": 4,\n        \"samples\": [\n          100,\n          1534,\n          13200\n        ],\n        \"semantic_type\": \"\",\n        \"description\": \"\"\n      }\n    }\n  ]\n}"
            }
          },
          "metadata": {},
          "execution_count": 70
        },
        {
          "output_type": "display_data",
          "data": {
            "text/plain": [
              "<google.colab._quickchart_helpers.SectionTitle at 0x7a4441fb1480>"
            ],
            "text/html": [
              "<h4 class=\"colab-quickchart-section-title\">Distributions</h4>\n",
              "<style>\n",
              "  .colab-quickchart-section-title {\n",
              "      clear: both;\n",
              "  }\n",
              "</style>"
            ]
          },
          "metadata": {}
        },
        {
          "output_type": "display_data",
          "data": {
            "text/plain": [
              "from matplotlib import pyplot as plt\n",
              "simple_df['Volume'].plot(kind='hist', bins=20, title='Volume')\n",
              "plt.gca().spines[['top', 'right',]].set_visible(False)"
            ],
            "text/html": [
              "      <div class=\"colab-quickchart-chart-with-code\" id=\"chart-9eb88c9c-17e7-4b85-afd4-30761c64b442\">\n",
              "        <img style=\"width: 180px;\" src=\"data:image/png;base64,iVBORw0KGgoAAAANSUhEUgAAAjEAAAGrCAYAAAAxesZMAAAAOXRFWHRTb2Z0d2FyZQBNYXRwbG90\n",
              "bGliIHZlcnNpb24zLjguMCwgaHR0cHM6Ly9tYXRwbG90bGliLm9yZy81sbWrAAAACXBIWXMAAA9h\n",
              "AAAPYQGoP6dpAAAmt0lEQVR4nO3dfVBU96H/8c8KycYYnnygYBAoLJD6EGANXKupSSblhj6hRTsx\n",
              "MZ2I4cF4M95eMmPCGNtok+CdG21tOw4YqX3wXo1B0stok05M+oCNFY3FtjpRQXHB8tBpcoFYQ3g4\n",
              "vz+c7M8tD7rIAb7yfs2cGfecw5fvnhw279k9cByWZVkCAAAwzITRngAAAMBQEDEAAMBIRAwAADAS\n",
              "EQMAAIxExAAAACMRMQAAwEhEDAAAMBIRAwAAjETEAAAAIxExAMakn/zkJ4qKihrtaQAYw4gYALb4\n",
              "+te/rsWLF/e77dlnn9XMmTNHdkIAbjpEDABbPPnkk9q/f78aGxt91n/yySf68Y9/rCeffHKUZgbg\n",
              "ZkHEALBFRkaG4uLi9Morr/isLy8v1z/+8Q89/vjjeuaZZ/TZz35WYWFh+sIXvqAjR44MON7999+v\n",
              "5557zmddbGysduzYIUmqr6+Xw+HQj3/8Y919992aNGmS7r33XjU2NupHP/qRYmJiFBoaqoKCAvX0\n",
              "9HjHuHjxoh599FHdeeedCg8P1yOPPKK//e1vw3gkANiFiAFgC4fDoVWrVmnHjh3q7u72ri8pKdHy\n",
              "5cu1bt06/fKXv9Rbb72llpYWLV68WF/84hf7vHPjrz179ujgwYNqaWmRJD344INqaGjQmTNndOzY\n",
              "Mb366qvau3evJKmzs1MPPvigpk+frjNnzujcuXMKDAzUo48+ekNzADAyiBgAtsnJydGHH36oyspK\n",
              "SdLJkydVVVWl1atXq6ysTC+88IJcLpduvfVWPf3004qLi9OuXbtu6HuuX79e4eHhuuOOO/SNb3xD\n",
              "jY2Neumll+R0OuVyufSFL3xB1dXVkqQDBw6oo6ND//Vf/6VJkybpjjvu0KZNm3Tw4MEbjikA9iNi\n",
              "ANgmLCxMDz/8sEpKSiRdeRfm85//vCIjI3X58mXFx8f77O9yueTxeG7oe0ZGRnr/PWnSJE2bNk0B\n",
              "AQE+6zo6OiRJZ8+eVUtLi8LCwhQaGqrQ0FDNmjVLTqfzhucBwH6Boz0BADe31atX61/+5V904sQJ\n",
              "/fznP9ePfvQjTZ06Vbfddpvq6uo0e/Zs7751dXVKS0vrd5ygoCBdunTJ+7i7u1utra03NLeIiAjF\n",
              "xMSorq7uhsYBMDp4JwaArdLS0jR37lxlZ2fr1ltv1Te+8Q1NmDBBK1eu1Le//W2dO3dOn3zyib73\n",
              "ve+ptrZWy5cv73ece+65R5WVlfrrX/+qy5cv69lnn1VXV9cNzS07O1tdXV1av3692traJEmtra16\n",
              "9dVXb2hcACODiAFgu9WrV+vcuXNauXKlnE6nJOnll1/Wv/7rv+qBBx5QeHi49u3bp7feekszZszo\n",
              "d4z/+I//0Ny5c/W5z31OSUlJcrlcuvPOO29oXkFBQTp8+LA8Ho/mzJmj4OBgzZ8/X7/73e9uaFwA\n",
              "I8NhWZY12pMAAADwF+/EAAAAIxExAADASEQMAAAwEhEDAACMRMQAAAAjETEAAMBIRAwAADDSTR8x\n",
              "W7duHe0pAAAAG9z0EXPhwoXRngIAALDBTR8xAADg5kTEAAAAIxExAADASEQMAAAwEhEDAACMRMQA\n",
              "AAAjETEAAMBIRAwAADASEQMAAIxExAAAACMRMQAAwEhEDAAAMJJtEfPxxx9r8eLFSkxMVHJysjIy\n",
              "MlRbW9vvvvv379ddd92lhIQEZWdnq729/bq2AQCA8cvWd2Ly8/N1+vRpnThxQosWLVJubm6ffT76\n",
              "6CM98cQT+sUvfqGzZ89q+vTp+u53v3vNbQAAYHyzLWJuu+02ffnLX5bD4ZAkzZs3T/X19X32e+ON\n",
              "N5Samqq77rpLkrR69Wrt3r37mtv609nZqfb2dp+lp6dnmJ8ZAAAYCwJH6htt3bpVixYt6rPe4/Eo\n",
              "JibG+zg2NlZNTU3q7u4edFtgYN+pFxcXa8OGDT7r5s2bN4zP4v+LffaALeNKUv2mr9g2NgAAN4sR\n",
              "ubD3pZdeUm1trYqLi239PkVFRWpra/NZ0tPTbf2eAABgdNgeMS+//LIqKir0xhtv6Pbbb++zPTo6\n",
              "WhcuXPA+rq+vV2RkpAIDAwfd1h+n06ng4GCfJSAgYPifFAAAGHW2RsyWLVu0e/duvfXWWwoNDe13\n",
              "n8zMTB0/flzvv/++JGnbtm1atmzZNbcBAIDxzbZrYhobG/X0008rLi5ODzzwgKQr75QcOXJE3/72\n",
              "tzV9+nStWrVKQUFB2rFjhxYvXqzu7m7Nnj1bP/3pTyVp0G0AAGB8c1iWZY32JOxUWFioLVu2DPu4\n",
              "XNgLAMDo4i/2AgAAIxExAADASEQMAAAwEhEDAACMRMQAAAAjETEAAMBIRAwAADASEQMAAIxExAAA\n",
              "ACMRMQAAwEhEDAAAMBIRAwAAjETEAAAAIxExAADASEQMAAAwEhEDAACMRMQAAAAjETEAAMBIRAwA\n",
              "ADASEQMAAIxExAAAACMRMQAAwEhEDAAAMBIRAwAAjETEAAAAIxExAADASEQMAAAwEhEDAACMRMQA\n",
              "AAAjETEAAMBIRAwAADASEQMAAIxExAAAACMRMQAAwEhEDAAAMJKtEbNmzRrFxsbK4XCopqam3312\n",
              "7typlJQU7zJ16lRlZ2dLkurr6xUQEOCzva6uzs4pAwAAQwTaOfjSpUu1du1a3XvvvQPuk5OTo5yc\n",
              "HO/j2bNna/ny5d7HQUFBAwYQAAAYv2yNmIULF/q1/5EjR9Ta2qqsrKwhfb/Ozk51dnb6rOvp6RnS\n",
              "WAAAYGwbU9fElJWV6Zvf/KZuueUW77pLly4pLS1NbrdbGzduHDRKiouLFRIS4rNUV1ePxNQBAMAI\n",
              "GzMRc+nSJe3Zs0dPPPGEd11kZKQuXryoo0eP6uDBg6qqqtLmzZsHHKOoqEhtbW0+S3p6+khMHwAA\n",
              "jLAxEzGvvfaaZs2apZkzZ3rXOZ1OhYeHS5ImT56slStXqqqqasAxnE6ngoODfZaAgADb5w4AAEbe\n",
              "mImYsrIyn3dhJKm1tVVdXV2SrlzvUlFRodTU1NGYHgAAGGNsjZiCggJFRUWpsbFRDz30kFwulyQp\n",
              "NzdXlZWV3v1Onz6tmpoaPfzwwz5ff+jQIaWmpio5OVlut1sRERFat26dnVMGAACGcFiWZY32JOxU\n",
              "WFioLVu2DPu4sc8eGPYxP1W/6Su2jQ0AwM1izHycBAAA4A8iBgAAGImIAQAARiJiAACAkYgYAABg\n",
              "JCIGAAAYiYgBAABGImIAAICRiBgAAGAkIgYAABiJiAEAAEYiYgAAgJGIGAAAYCQiBgAAGImIAQAA\n",
              "RiJiAACAkYgYAABgJCIGAAAYiYgBAABGImIAAICRiBgAAGAkIgYAABiJiAEAAEYiYgAAgJGIGAAA\n",
              "YCQiBgAAGImIAQAARiJiAACAkYgYAABgJCIGAAAYiYgBAABGImIAAICRiBgAAGAkIgYAABiJiAEA\n",
              "AEayNWLWrFmj2NhYORwO1dTU9LvPb37zG02cOFEpKSne5fLly97tZWVlSkhIUHx8vPLy8tTV1WXn\n",
              "lAEAgCFsjZilS5fq0KFDiomJGXS/pKQk1dTUeJeJEydKks6fP6/169erqqpKtbW1amlp0fbt2+2c\n",
              "MgAAMIStEbNw4UJFRUUN+evLy8uVlZWliIgIORwOrVq1Srt37x5w/87OTrW3t/ssPT09Q/7+AABg\n",
              "7BoT18TU1dXJ7XYrLS1N27Zt8673eDw+7+LExsbK4/EMOE5xcbFCQkJ8lurqalvnDgAARseoR4zb\n",
              "7VZjY6OOHz+u119/XSUlJdq7d++QxioqKlJbW5vPkp6ePswzBgAAY8GoR0xwcLBCQkIkSVFRUXrk\n",
              "kUdUVVUlSYqOjtaFCxe8+9bX1ys6OnrAsZxOp4KDg32WgIAAe58AAAAYFaMeMU1NTert7ZUkdXR0\n",
              "aP/+/UpNTZUkLVmyRJWVlWpubpZlWSopKdGyZctGc7oAAGCMsDViCgoKFBUVpcbGRj300ENyuVyS\n",
              "pNzcXFVWVkqS9u3bpzlz5ig5OVnz5s1TRkaGcnJyJElxcXHasGGDFixYIJfLpWnTpqmgoMDOKQMA\n",
              "AEM4LMuyRnsSdiosLNSWLVuGfdzYZw8M+5ifqt/0FdvGBgDgZjHqHycBAAAMBREDAACMRMQAAAAj\n",
              "ETEAAMBIRAwAADASEQMAAIxExAAAACMRMQAAwEhEDAAAMBIRAwAAjETEAAAAIxExAADASEQMAAAw\n",
              "EhEDAACMRMQAAAAjETEAAMBIRAwAADASEQMAAIxExAAAACMRMQAAwEhEDAAAMBIRAwAAjETEAAAA\n",
              "IxExAADASEQMAAAwEhEDAACMRMQAAAAjETEAAMBIRAwAADASEQMAAIxExAAAACMRMQAAwEhEDAAA\n",
              "MBIRAwAAjETEAAAAI9kaMWvWrFFsbKwcDodqamr63eedd95Renq6Zs6cqVmzZmnt2rXq7e2VJNXX\n",
              "1ysgIEApKSnepa6uzs4pAwAAQ9gaMUuXLtWhQ4cUExMz4D5hYWHas2ePTp06pffee0/vvvuufvaz\n",
              "n3m3BwUFqaamxrvEx8fbOWUAAGCIQDsHX7hw4TX3SU1N9f77tttuU0pKiurr64f0/To7O9XZ2emz\n",
              "rqenZ0hjAQCAsW1MXRPT3Nys8vJyffWrX/Wuu3TpktLS0uR2u7Vx48ZBo6S4uFghISE+S3V19UhM\n",
              "HQAAjLAxEzHt7e362te+prVr1+qee+6RJEVGRurixYs6evSoDh48qKqqKm3evHnAMYqKitTW1uaz\n",
              "pKenj9RTAAAAI2hMRExHR4cyMzO1aNEiFRYWetc7nU6Fh4dLkiZPnqyVK1eqqqpqwHGcTqeCg4N9\n",
              "loCAANvnDwAARt6oR8xHH32kzMxMZWZm6rnnnvPZ1traqq6uLklXrnepqKjwuYYGAACMX7ZGTEFB\n",
              "gaKiotTY2KiHHnpILpdLkpSbm6vKykpJ0tatW1VdXa2Kigrvr1G/+OKLkqRDhw4pNTVVycnJcrvd\n",
              "ioiI0Lp16+ycMgAAMITDsixrtCdhp8LCQm3ZsmXYx4199sCwj/mp+k1fsW1sAABuFqP+cRIAAMBQ\n",
              "EDEAAMBIRAwAADASEQMAAIzkd8T86le/smMeAAAAfvE7YjZu3KikpCRt3bpV7e3tdswJAADgmvyO\n",
              "mN///vfas2eP/vKXvygxMVGrV6/WqVOn7JgbAADAgIZ0TUxqaqpeeeUVvfnmm9q/f7/uvvtuZWRk\n",
              "6M9//vNwzw8AAKBfQ4qYgwcPatGiRcrOzta//du/qbm5WQUFBfr6178+3PMDAADoV6C/X/C5z31O\n",
              "U6dO1Zo1a5Sdne29weLSpUtVVlY27BMEAADoj98Rs2vXLs2dO7ffbW+88cYNTwgAAOB6+P1x0nvv\n",
              "vacPPvjA+/jvf/+7XnnllWGdFAAAwLX4HTHbtm3T5MmTvY+nTJmibdu2DeukAAAArsXviOnvptc9\n",
              "PT3DMhkAAIDr5XfEREZGau/evd7Hr776qiIjI4d1UgAAANfi94W93//+97Vo0SKtXbtWknT77bfr\n",
              "f//3f4d9YgAAAIPxO2LuuusunTp1SqdPn5YkJSUleX/NGgAAYKT4HTGS5HA4FBoaqu7ubl28eFGS\n",
              "FB0dPawTAwAAGIzfEfOTn/xEa9as0S233KIJE65cUuNwONTa2jrskwMAABiI3xHz3e9+V0ePHlVS\n",
              "UpId8wEAALgufv920tSpUwkYAAAw6vyOmMWLF+v73/++Wltb1d7e7l0AAABGkt8fJ61bt06SVFhY\n",
              "KIfDIcuy5HA4+IN3AABgRPkdMb29vXbMAwAAwC9+f5wkXbkJ5M9//nNJ0v/93/+pqalpWCcFAABw\n",
              "LUO6AeTKlSv1/PPPS7pyF+tHH310uOcFAAAwKL8jZvv27frDH/6g4OBgSVJ8fLz+9re/DfvEAAAA\n",
              "BuN3xDidTk2cONFnXWDgkP7wLwAAwJD5HTHTpk3TmTNn5HA4JF35C77ccgAAAIy0Id3F+pFHHtH7\n",
              "77+vGTNmKDg4WPv377djbgAAAAPyO2JcLpeOHDmi06dPy7Is7mINAABGhd8R4/F4JEmTJk2SJO5i\n",
              "DQAARoXfETN37lzvX+r9+OOP9Y9//ENTpkzhLtYAAGBE+R0x//zr1BUVFTpx4sSwTQgAAOB6DOkv\n",
              "9l4tOztbBw4cGI65AAAAXDe/I+bqO1d/+OGHevPNNwe8i/WaNWsUGxsrh8OhmpqaAccsKytTQkKC\n",
              "4uPjlZeXp66uruvaBgAAxi+/IyY0NFRhYWEKDQ1VeHi4CgsL9YMf/KDffZcuXapDhw4pJiZmwPHO\n",
              "nz+v9evXq6qqSrW1tWppadH27duvuQ0AAIxvfkdMb2+venp61Nvbq66uLp06dUqZmZn97rtw4UJF\n",
              "RUUNOl55ebmysrIUEREhh8OhVatWaffu3dfc1p/Ozk6fd4ra29vV09Pj71MEAAAGGPX7BXg8Hp93\n",
              "amJjY72/xj3Ytv4UFxdrw4YNPuvmzZs3zDM2V+yz9l27VL/pK7aNDQC4MXa9/o/2a7/f78RMmDBB\n",
              "AQEBfZZP14+moqIitbW1+Szp6emjOicAAGAPv9+J2bhxoy5fvqwnn3xSklRSUqKJEyfqW9/61pAm\n",
              "EB0drbq6Ou/j+vp67x/OG2xbf5xOp5xOp8+60Q4rAABgD7/fiXn99df14osvKioqSlFRUXrhhRdU\n",
              "UVGhSZMmef+Krz+WLFmiyspKNTc3y7IslZSUaNmyZdfcBgAAxje/I6ajo8Pnr/O2traqo6Oj330L\n",
              "CgoUFRWlxsZGPfTQQ3K5XJKk3NxcVVZWSpLi4uK0YcMGLViwQC6XS9OmTVNBQcE1twEAgPHN74+T\n",
              "nn76aSUnJ+vLX/6yJOnNN9/U888/3+++paWl/a7fsWOHz+O8vDzl5eX1u+9g2wAAwPjld8QUFBRo\n",
              "wYIF+vWvfy1JKiws1KxZs4Z9YgAAAIMZ0q9YT5kyRXPmzNH999+v7u5uffLJJ7r11luHe24AAAAD\n",
              "8vuamPLycs2bN085OTmSpJMnT2rx4sXDPS8AAIBB+R0xxcXFOn78uEJDQyVJycnJunDhwnDPCwAA\n",
              "YFB+R0xAQICmTJnis46PkgAAwEjzO2KCgoLU0tIih8MhSXr77bc1efLkYZ8YAADAYPy+sPc///M/\n",
              "9aUvfUnnzp3Tvffeq/Pnz+vAAfvuyQMAANAfvyLm0ztY//rXv9a7774ry7I0f/587/UxAAAAI8Wv\n",
              "iJkwYYLy8/N14sQJfelLX7JrTgAAANfk9zUxCQkJqq2ttWMuAAAA183va2I++OADpaSkaP78+brj\n",
              "jju86ysqKoZ1YgAAAIO57ojJz8/X9u3b9fjjjysrK0thYWF2zgsAAGBQ1x0xx44dkyQ9/vjjcrvd\n",
              "On78uG2TAgAAuBa/r4mRJMuyhnseAAAAfrnud2IuX76sP//5z7IsSx9//LH335+6++67bZkgAABA\n",
              "f/yKmKysLO/jq//tcDh07ty54Z0ZAADAIK47Yurr622cBgAAgH+GdE0MAADAaCNiAACAkYgYAABg\n",
              "JCIGAAAYiYgBAABGImIAAICRiBgAAGAkIgYAABiJiAEAAEYiYgAAgJGIGAAAYCQiBgAAGImIAQAA\n",
              "RiJiAACAkYgYAABgJCIGAAAYiYgBAABGImIAAICRbI2Ys2fPav78+UpMTFRaWppOnjzZZ5+dO3cq\n",
              "JSXFu0ydOlXZ2dmSpPr6egUEBPhsr6urs3PKAADAEIF2Dl5QUKD8/HytWLFC5eXlWrFihY4ePeqz\n",
              "T05OjnJycryPZ8+ereXLl3sfBwUFqaamxs5pAgAAA9n2Tkxra6uOHTumxx57TJK0ZMkSNTQ0qLa2\n",
              "dsCvOXLkiFpbW5WVlTWk79nZ2an29nafpaenZ0hjAQCAsc22iGloaFBkZKQCA6+82eNwOBQdHS2P\n",
              "xzPg15SVlemb3/ymbrnlFu+6S5cuKS0tTW63Wxs3bhw0SoqLixUSEuKzVFdXD9+TAgAAY8aYubD3\n",
              "0qVL2rNnj5544gnvusjISF28eFFHjx7VwYMHVVVVpc2bNw84RlFRkdra2nyW9PT0kZg+AAAYYbZF\n",
              "zIwZM9TU1KTu7m5JkmVZ8ng8io6O7nf/1157TbNmzdLMmTO965xOp8LDwyVJkydP1sqVK1VVVTXg\n",
              "93Q6nQoODvZZAgIChvFZAQCAscK2iAkPD5fb7dauXbskSfv27VNUVJRcLle/+5eVlfm8CyNdua6m\n",
              "q6tL0pXrXSoqKpSammrXlAEAgEFs/TiptLRUpaWlSkxM1KZNm7Rz505JUm5uriorK737nT59WjU1\n",
              "NXr44Yd9vv7QoUNKTU1VcnKy3G63IiIitG7dOjunDAAADGHrr1gnJSXp8OHDfdbv2LGjz34dHR19\n",
              "9svOzvb+zRgAAICrjZkLewEAAPxBxAAAACMRMQAAwEhEDAAAMBIRAwAAjETEAAAAIxExAADASEQM\n",
              "AAAwEhEDAACMRMQAAAAjETEAAMBIRAwAADASEQMAAIxExAAAACMRMQAAwEhEDAAAMBIRAwAAjETE\n",
              "AAAAIxExAADASEQMAAAwEhEDAACMRMQAAAAjETEAAMBIRAwAADASEQMAAIxExAAAACMRMQAAwEhE\n",
              "DAAAMBIRAwAAjETEAAAAIxExAADASEQMAAAwEhEDAACMRMQAAAAjETEAAMBItkbM2bNnNX/+fCUm\n",
              "JiotLU0nT57ss89vfvMbTZw4USkpKd7l8uXL3u1lZWVKSEhQfHy88vLy1NXVZeeUAQCAIWyNmIKC\n",
              "AuXn5+vMmTN65plntGLFin73S0pKUk1NjXeZOHGiJOn8+fNav369qqqqVFtbq5aWFm3fvt3OKQMA\n",
              "AEPYFjGtra06duyYHnvsMUnSkiVL1NDQoNra2useo7y8XFlZWYqIiJDD4dCqVau0e/fuAffv7OxU\n",
              "e3u7z9LT03PDzwUAAIw9tkVMQ0ODIiMjFRgYKElyOByKjo6Wx+Pps29dXZ3cbrfS0tK0bds273qP\n",
              "x6OYmBjv49jY2H6//lPFxcUKCQnxWaqrq4fxWQEAgLFi1C/sdbvdamxs1PHjx/X666+rpKREe/fu\n",
              "HdJYRUVFamtr81nS09OHecYAAGAssC1iZsyYoaamJnV3d0uSLMuSx+NRdHS0z37BwcEKCQmRJEVF\n",
              "RemRRx5RVVWVJCk6OloXLlzw7ltfX9/n66/mdDoVHBzsswQEBAz3UwMAAGOAbRETHh4ut9utXbt2\n",
              "SZL27dunqKgouVwun/2amprU29srSero6ND+/fuVmpoq6cp1NJWVlWpubpZlWSopKdGyZcvsmjIA\n",
              "ADCIrR8nlZaWqrS0VImJidq0aZN27twpScrNzVVlZaWkK3EzZ84cJScna968ecrIyFBOTo4kKS4u\n",
              "Ths2bNCCBQvkcrk0bdo0FRQU2DllAABgiEA7B09KStLhw4f7rN+xY4f330899ZSeeuqpAcfIy8tT\n",
              "Xl6eLfMDAADmGvULewEAAIaCiAEAAEYiYgAAgJGIGAAAYCQiBgAAGImIAQAARiJiAACAkYgYAABg\n",
              "JCIGAAAYiYgBAABGImIAAICRiBgAAGAkIgYAABiJiAEAAEYiYgAAgJGIGAAAYCQiBgAAGImIAQAA\n",
              "RiJiAACAkYgYAABgJCIGAAAYiYgBAABGImIAAICRiBgAAGAkIgYAABiJiAEAAEYiYgAAgJGIGAAA\n",
              "YCQiBgAAGImIAQAARiJiAACAkYgYAABgJCIGAAAYiYgBAABGImIAAICRbI2Ys2fPav78+UpMTFRa\n",
              "WppOnjzZZ5933nlH6enpmjlzpmbNmqW1a9eqt7dXklRfX6+AgAClpKR4l7q6OjunDAAADGFrxBQU\n",
              "FCg/P19nzpzRM888oxUrVvTZJywsTHv27NGpU6f03nvv6d1339XPfvYz7/agoCDV1NR4l/j4eDun\n",
              "DAAADGFbxLS2turYsWN67LHHJElLlixRQ0ODamtrffZLTU1VXFycJOm2225TSkqK6uvrh/Q9Ozs7\n",
              "1d7e7rP09PTc0PMAAABjk20R09DQoMjISAUGBkqSHA6HoqOj5fF4Bvya5uZmlZeX66tf/ap33aVL\n",
              "l5SWlia3262NGzcOGiXFxcUKCQnxWaqrq4fvSQEAgDFjzFzY297erq997Wtau3at7rnnHklSZGSk\n",
              "Ll68qKNHj+rgwYOqqqrS5s2bBxyjqKhIbW1tPkt6evpIPQUAADCCbIuYGTNmqKmpSd3d3ZIky7Lk\n",
              "8XgUHR3dZ9+Ojg5lZmZq0aJFKiws9K53Op0KDw+XJE2ePFkrV65UVVXVgN/T6XQqODjYZwkICBjm\n",
              "ZwYAAMYC2yImPDxcbrdbu3btkiTt27dPUVFRcrlcPvt99NFHyszMVGZmpp577jmfba2trerq6pJ0\n",
              "5XqXiooKpaam2jVlAABgEFs/TiotLVVpaakSExO1adMm7dy5U5KUm5uryspKSdLWrVtVXV2tiooK\n",
              "769Rv/jii5KkQ4cOKTU1VcnJyXK73YqIiNC6devsnDIAADBEoJ2DJyUl6fDhw33W79ixw/vvdevW\n",
              "DRgm2dnZys7Otm1+AADAXGPmwl4AAAB/EDEAAMBIRAwAADASEQMAAIxExAAAACMRMQAAwEhEDAAA\n",
              "MBIRAwAAjETEAAAAIxExAADASEQMAAAwEhEDAACMRMQAAAAjETEAAMBIRAwAADASEQMAAIxExAAA\n",
              "ACMRMQAAwEhEDAAAMBIRAwAAjETEAAAAIxExAADASEQMAAAwEhEDAACMRMQAAAAjETEAAMBIRAwA\n",
              "ADASEQMAAIxExAAAACMRMQAAwEhEDAAAMBIRAwAAjETEAAAAIxExAADASEQMAAAwkq0Rc/bsWc2f\n",
              "P1+JiYlKS0vTyZMn+92vrKxMCQkJio+PV15enrq6uq5rGwAAGL9sjZiCggLl5+frzJkzeuaZZ7Ri\n",
              "xYo++5w/f17r169XVVWVamtr1dLSou3bt19zGwAAGN9si5jW1lYdO3ZMjz32mCRpyZIlamhoUG1t\n",
              "rc9+5eXlysrKUkREhBwOh1atWqXdu3dfc1t/Ojs71d7e7rP09PTY9RQBAMAoCrRr4IaGBkVGRiow\n",
              "8Mq3cDgcio6Olsfjkcvl8u7n8XgUExPjfRwbGyuPx3PNbf0pLi7Whg0bfNbdddddKiwsvOHn09PT\n",
              "o+rqaqWnpysgIEDZNzziwAoL37Zl3OGe89XHxK45m+afz5PxjuPRF8ekL45JX8N9TOz6f5adr/0x\n",
              "MTH693//90H3sS1iRkNRUVGfYHE6nXI6nTc8dnt7u0JCQvSrX/1KwcHBNzzezYBj0hfHxBfHoy+O\n",
              "SV8ck744JtfHtoiZMWOGmpqa1N3drcDAQFmWJY/Ho+joaJ/9oqOjVVdX531cX1/v3Wewbf0ZrmAB\n",
              "AABjn23XxISHh8vtdmvXrl2SpH379ikqKsrnoyTpyrUylZWVam5ulmVZKikp0bJly665DQAAjG+2\n",
              "/nZSaWmpSktLlZiYqE2bNmnnzp2SpNzcXFVWVkqS4uLitGHDBi1YsEAul0vTpk1TQUHBNbcBAIDx\n",
              "zdZrYpKSknT48OE+63fs2OHzOC8vT3l5ef2OMdi2keR0OvWd73yHj6uuwjHpi2Pii+PRF8ekL45J\n",
              "XxyT6+OwLMsa7UkAAAD4i9sOAAAAIxExAADASEQMAAAwEhEDAACMRMRch+u9G7fpPv74Yy1evFiJ\n",
              "iYlKTk5WRkaG915Xra2tyszMVEJCgmbPnq3f/e533q8b6jaT7Ny5Uw6HQ7/4xS8kje/j0dnZqaee\n",
              "ekoJCQmaM2eO9/5og/2cDHWbKX75y1/K7XYrJSVFs2fP1k9/+lNJ4+s8WbNmjWJjY+VwOFRTU+Nd\n",
              "b8d5Yco5098xGex1Vhpf58ywsHBNDzzwgLVz507Lsizrtddes+65557RnZBNLl++bB04cMDq7e21\n",
              "LMuyfvjDH1r33XefZVmWlZOTY33nO9+xLMuyqqurrTvvvNP65JNPbmibKc6fP299/vOft+bNm2e9\n",
              "/vrrlmWN7+PxrW99y3rqqae850lTU5NlWYP/nAx1mwl6e3utsLAw68SJE5ZlXTlfnE6n1d7ePq7O\n",
              "k9/+9rdWQ0ODFRMTY/3xj3/0rrfjvDDlnOnvmAz2OmtZ4/u1ZSiImGtoaWmxgoKCrK6uLsuyrrxg\n",
              "feYzn7HOnj07yjOz39GjR62YmBjLsixr0qRJ3v9ZWZZlpaWlWW+99dYNbTNBT0+P9eCDD1rHjh2z\n",
              "7rvvPm/EjNfj8dFHH1lBQUFWW1ubz/rBfk6Gus0Uvb291uTJk63f/va3lmVZ1okTJ6zp06dbnZ2d\n",
              "4/I8ufp/2HacFyaeM/8cdle7+nXWssbva8tQ3VQ3gLTD9d6N+2a0detWLVq0SH//+9/V1dWliIgI\n",
              "77ZP7yg+1G2m2LJlixYsWKC5c+d6143n41FXV6fJkyfrpZde0sGDBzVx4kQ9//zzCg0NHfDnJCQk\n",
              "ZEjbTPn5cjgcevXVV5Wdna1Jkybpww8/VEVFhTo6OsbtefKpwV4/h3pe3AznzNU+fZ2Vxvdry1AR\n",
              "MejXSy+9pNraWr399tu6fPnyaE9nVPzlL3/Rvn37xs9ny9ehu7tbFy5c0MyZM7Vp0yb98Y9/VEZG\n",
              "hg4cODDaUxs13d3deuGFF1RRUaGFCxfq6NGjysrK8rkuBOjP1a+zGBou7L2Gq+/GLWnAu3HfTF5+\n",
              "+WVVVFTojTfe0O23364pU6YoMDBQzc3N3n0+vaP4ULeZoKqqSvX19UpISFBsbKz+8Ic/KD8/X3v3\n",
              "7h2Xx0O6cmf5CRMmaPny5ZKk1NRUffazn9WFCxcG/DkZ7GfoZvj5qqmp0V//+lctXLhQkpSWlqao\n",
              "qCj96U9/GrfnyaeG+t/+Zj9npL6vs5LG7WvtDRm9T7LMcd999/lcRDZ37tzRnZCNNm/ebLndbuuD\n",
              "Dz7wWf/444/7XDQ2ffp070VjQ91mmquviRnPxyMjI8M6cOCAZVmWde7cOWvKlClWY2PjoD8nQ91m\n",
              "gubmZuuOO+6wTp06ZVmWZZ09e9YKCwuzLly4MC7Pk3++/sOO88K0c+afj8lAr7OWNb5fW4aCiLkO\n",
              "77//vjVv3jwrISHBmjt3rvWnP/1ptKdki4aGBkuSFRcXZyUnJ1vJyclWenq6ZVlXXqgzMjIsl8tl\n",
              "zZw503rnnXe8XzfUbaa5OmLG8/Goq6uz7r//fmv27NnW3XffbZWXl1uWNfjPyVC3meJ//ud/vMdj\n",
              "9uzZ1n//939bljW+zpP8/HzrzjvvtAICAqzw8HArPj7esix7zgtTzpn+jslgr7OWNb7OmeHADSAB\n",
              "AICRuCYGAAAYiYgBAABGImIAAICRiBgAAGAkIgYAABiJiAEAAEYiYgAAgJGIGAAAYCQiBgAAGImI\n",
              "AQAARvp/SXAfjWx8z78AAAAASUVORK5CYII=\n",
              "\">\n",
              "      </div>\n",
              "      <script type=\"text/javascript\">\n",
              "        (() => {\n",
              "          const chartElement = document.getElementById(\"chart-9eb88c9c-17e7-4b85-afd4-30761c64b442\");\n",
              "          async function getCodeForChartHandler(event) {\n",
              "            const chartCodeResponse =  await google.colab.kernel.invokeFunction(\n",
              "                'getCodeForChart', [\"chart-9eb88c9c-17e7-4b85-afd4-30761c64b442\"], {});\n",
              "            const responseJson = chartCodeResponse.data['application/json'];\n",
              "            await google.colab.notebook.addCell(responseJson.code, 'code');\n",
              "          }\n",
              "          chartElement.onclick = getCodeForChartHandler;\n",
              "        })();\n",
              "      </script>\n",
              "      <style>\n",
              "        .colab-quickchart-chart-with-code  {\n",
              "            display: block;\n",
              "            float: left;\n",
              "            border: 1px solid transparent;\n",
              "        }\n",
              "\n",
              "        .colab-quickchart-chart-with-code:hover {\n",
              "            cursor: pointer;\n",
              "            border: 1px solid #aaa;\n",
              "        }\n",
              "      </style>"
            ]
          },
          "metadata": {}
        },
        {
          "output_type": "display_data",
          "data": {
            "text/plain": [
              "<google.colab._quickchart_helpers.SectionTitle at 0x7a4441fb0df0>"
            ],
            "text/html": [
              "<h4 class=\"colab-quickchart-section-title\">Values</h4>\n",
              "<style>\n",
              "  .colab-quickchart-section-title {\n",
              "      clear: both;\n",
              "  }\n",
              "</style>"
            ]
          },
          "metadata": {}
        },
        {
          "output_type": "display_data",
          "data": {
            "text/plain": [
              "from matplotlib import pyplot as plt\n",
              "simple_df['Volume'].plot(kind='line', figsize=(8, 4), title='Volume')\n",
              "plt.gca().spines[['top', 'right']].set_visible(False)"
            ],
            "text/html": [
              "      <div class=\"colab-quickchart-chart-with-code\" id=\"chart-ea1eaa56-ce5f-4220-be8a-752d193b5d8b\">\n",
              "        <img style=\"width: 180px;\" src=\"data:image/png;base64,iVBORw0KGgoAAAANSUhEUgAAAqwAAAFuCAYAAABECkoSAAAAOXRFWHRTb2Z0d2FyZQBNYXRwbG90\n",
              "bGliIHZlcnNpb24zLjguMCwgaHR0cHM6Ly9tYXRwbG90bGliLm9yZy81sbWrAAAACXBIWXMAAA9h\n",
              "AAAPYQGoP6dpAAA2UElEQVR4nO3deVyVdf7+8evmHDiIsgiKoICI4IpgGkaWmlOaOZWmUjOWk9M0\n",
              "ak3TzJilVta0fDVHc6bJmXFaxprx9+2bW8to1tjmMi3aIqa5AIqAG4oKqOzcvz9QkkRDOHCf5fV8\n",
              "PO6Hcj43h+vcnejqPu9zH8M0TVMAAACAi/KxOgAAAABwMRRWAAAAuDQKKwAAAFwahRUAAAAujcIK\n",
              "AAAAl0ZhBQAAgEujsAIAAMClUVgBAADg0iisAAAAcGkUVgBwEa+88oqioqKsjgEALofCCgBOcsst\n",
              "t2j06NH1rs2YMUO9evVq2UAA4CEorADgJPfcc49WrVqlvLy8OreXl5frH//4h+655x6LkgGAe6Ow\n",
              "AoCTDBs2THFxcXrxxRfr3L58+XKdPn1ad955p6ZPn64uXbqobdu2GjRokD7//PML3t8111yjRx99\n",
              "tM5tsbGxeumllyRJ2dnZMgxD//jHP5SUlKTWrVvr6quvVl5enhYuXKjOnTsrJCREkydPVlVVVe19\n",
              "7N+/X+PHj1enTp0UHh6un/70pzpy5IgTjwQAOBeFFQCcxDAMTZkyRS+99JIqKytrb1+0aJFuv/12\n",
              "PfLII3rnnXe0du1aHT58WKNHj9Z111133hnZS/V///d/ev/993X48GFJ0rXXXqvc3Fzt3r1bX3zx\n",
              "hV5//XUtXbpUklRWVqZrr71WHTt21O7du7Vnzx7Z7XaNHz++SRkAoDlRWAHAiX7+85/r+PHjevvt\n",
              "tyVJ27dv14YNG3Tvvffq5Zdf1tNPP634+Hj5+fnpgQceUFxcnJYsWdKknzlr1iyFh4erTZs2SktL\n",
              "U15enmbPni2Hw6H4+HgNGjRImzZtkiStXr1axcXFmjdvnlq3bq02bdromWee0fvvv9/k4gwAzYXC\n",
              "CgBO1LZtW912221atGiRpJqzq1deeaUiIyNVUlKirl271tk/Pj5eOTk5TfqZkZGRtX9v3bq12rdv\n",
              "L5vNVue24uJiSVJGRoYOHz6stm3bKiQkRCEhIerdu7ccDkeTcwBAc7FbHQAAPM29996rK664Qunp\n",
              "6frXv/6lhQsXql27dvL391dWVpYSExNr983KylJKSkq99xMYGKhTp07Vfl1ZWan8/PwmZYuIiFDn\n",
              "zp2VlZXVpPsBgJbEGVYAcLKUlBT1799fY8aMkZ+fn9LS0uTj46O77rpLjz32mPbs2aPy8nL98Y9/\n",
              "VGZmpm6//fZ67+fyyy/X22+/rQMHDqikpEQzZsxQRUVFk7KNGTNGFRUVmjVrlgoLCyVJ+fn5ev31\n",
              "15t0vwDQnCisANAM7r33Xu3Zs0d33XWXHA6HJGn+/PkaPny4hg4dqvDwcK1YsUJr165VdHR0vffx\n",
              "u9/9Tv3791fPnj3VvXt3xcfHq1OnTk3KFRgYqE8//VQ5OTnq06ePgoKCNHDgQK1fv75J9wsAzckw\n",
              "TdO0OgQAAABwIZxhBQAAgEujsAIAAMClUVgBAADg0iisAAAAcGkUVgAAALg0CisAAABcGoUVAAAA\n",
              "Ls2jC+tzzz1ndQQAAAA0kUcX1n379lkdAQAAAE3k0YUVAAAA7o/CCgAAAJdGYQUAAIBLo7ACAADA\n",
              "pVFYAQAA4NIorAAAAHBpFFYAAAC4NAorAAAAXBqFFQAAAC6NwgoAAACXRmF1otKKKqsjAAAAeBwK\n",
              "qxMUllTogaXp+tk/Nqm62rQ6DgAAgEehsDpBUUmF1mw7qE17j+nVT7OtjgMAAOBRKKxOEB0aoJkj\n",
              "e0qS5r67U3uPnrI4EQAAgOegsDrJ7QNidFV8mEorqvXgsnRVMRoAAADgFBRWJ/HxMTR3bJJa+9n0\n",
              "xb7jWvzfvVZHAgAA8AgUVieKahugR2/sJUma994uZR05aXEiAAAA90dhdbKfpERrUEI7lVVWaxqj\n",
              "AQAAAE1GYXUyw6gZDQh02PV1zgm9tGGP1ZEAAADcGoW1GXQMaaVZZ0YDnl27W5n5xRYnAgAAcF8U\n",
              "1maSdnmUruneXuWV1Xpg2VZVVlVbHQkAAMAtUVibiWEYemZMkgL97UrPPaEXGA0AAABoFAprM4oI\n",
              "9tfjN/WWJP1pbYZ2HWI0AAAA4FJRWJvZ2H6ddG2PcJVX1Vw1oILRAAAAgEtCYW1mhmFo9pg+Cm7l\n",
              "q2/2F+rv67KsjgQAAOBWKKwtoEOQv564uWY04LkPMrTjYJHFiQAAANwHhbWFjOrbUcN6dVBFlakH\n",
              "ljIaAAAA0FAU1hZiGIb+55ZEhQT46tuDRfrLR5lWRwIAAHALFNYWFB7orydHJUqSFn6Yqe0HCi1O\n",
              "BAAA4PoorC3spqRI3ZAYocrqmtGA8kpGAwAAAC6GwtrCDMPQU6MTFdraTzsPFWvhhxlWRwIAAHBp\n",
              "FFYLtGvj0FNnRgP+8nGWvsljNAAAAOBCKKwW+XFSpH6cFKmqalMPLNuissoqqyMBAAC4JAqrhZ4a\n",
              "lah2bfy0+/BJ/fkDRgMAAADqc0mF9f7771dsbKwMw9CWLVskSaWlpRo9erS6deum5ORkDRs2TJmZ\n",
              "312yKT8/XyNGjFBCQoISExO1fv36Jq95itDWfnp6dB9J0t8+zlJ67glrAwEAALigSyqs48aN08aN\n",
              "G9W5c+c6t0+aNEm7du1Senq6Ro0apbvvvrt2bcaMGUpNTVVGRoYWL16s8ePHq6KioklrnmREYoRu\n",
              "Tu6oalN6YFm6SisYDQAAADjXJRXWwYMHKyoqqs5t/v7+GjlypAzDkCSlpqYqOzu7dn3p0qWaMmWK\n",
              "JCklJUUdO3bUunXrmrTmaZ64ubfatXEoM/+k/vj+bqvjAAAAuBSnz7A+99xzGjVqlCSpoKBAFRUV\n",
              "ioiIqF2PjY1VTk5Oo9cupKysTEVFRXW2qir3OFvZtrWfZt9Sc9WAF9fv0Vc5xy1OBAAA4DqcWlhn\n",
              "z56tzMxMzZkzx5l32yBz5sxRcHBwnW3Tpk0tnqOxhveO0JjLOqnalKYxGgAAAFDLaYV1/vz5Wrly\n",
              "pdasWaOAgABJUlhYmOx2uw4dOlS7X3Z2tmJiYhq9diEzZ85UYWFhnW3AgAHOengt4vGbeis80KE9\n",
              "R07p2f/ssjoOAACAS3BKYV2wYIFee+01rV27ViEhIXXW0tLStGjRIknS5s2btX//fg0ZMqRJa/Vx\n",
              "OBwKCgqqs9lsNmc8vBYTHOCrZ8bWXDXgpY179UX2MYsTAQAAWM8wTdNs6M6TJ0/W6tWrdejQIYWF\n",
              "hSkwMFAff/yxoqOjFRcXp8DAQEk15fHzzz+XJB0+fFgTJkzQ3r175efnp4ULF2ro0KFNWmuoqVOn\n",
              "asGCBZf0Pa5g2rJ0Lf8yT7FhAVrzm8Fq5edexRsAAMCZLqmwuht3LayFJRW6/o/rdaioVHdd1UWP\n",
              "3dTL6kgAAACW4ZOuXFBwq+9GAxZ/slef7ymwOBEAAIB1KKwu6pru4brt8miZpvTg8q06XV5pdSQA\n",
              "AABLUFhd2CM39lTHYH/lHDutuWt2Wh0HAADAEhRWFxbk76u545IkSa9+uk+fZjEaAAAAvA+F1cUN\n",
              "Smiv8VfUXH/2weXpOlXGaAAAAPAuFFY38PDInuoU0kp5x0s0Z80Oq+MAAAC0KAqrG2jjsGvemdGA\n",
              "JZ/laGPGUYsTAQAAtBwKq5sYGN9OE1I7S5Kmr9iq4tIKixMBAAC0DAqrG5lxQw9Fh7bS/hMlmv0O\n",
              "Vw0AAADegcLqRlo77Jo3LlmS9NqmHK3ffcTiRAAAAM2PwupmUuPCNHFgrKSa0YAiRgMAAICHo7C6\n",
              "oYdGdFfnsAAdLCzV06u+tToOAABAs6KwuqEAv5rRAMOQln6Rp4925VsdCQAAoNlQWN3UgC6huuuq\n",
              "LpKkGSu2qvA0owEAAMAzUVjd2LTh3dWlXWsdLirTk4wGAAAAD0VhdWOt/Gyan5Ykw5BWfJWn9789\n",
              "bHUkAAAAp6Owurn+nUP1y0FxkqSH3/hGJ06XW5wIAADAuSisHmDqsG7q2r618ovL9MS/GQ0AAACe\n",
              "hcLqAfx9bZqfliwfQ3rj6/16b/shqyMBAAA4DYXVQ1wW01aTBneVJD3yxjc6dorRAAAA4BkorB7k\n",
              "t9clKCG8jY6eLNfjb2+3Og4AAIBTUFg9yNnRAJuPoX+nH9Cabw5aHQkAAKDJKKweJjk6RPcMqRkN\n",
              "ePTNbSo4WWZxIgAAgKahsHqgX18br+4dAlVwqlyPvcVoAAAAcG8UVg/ksNv07K01owGrvzmoVVsP\n",
              "WB0JAACg0SisHiqxU7B+NTRekjTrzW06UsxoAAAAcE8UVg9239B49YwM0vHTFXr0zW9kmqbVkQAA\n",
              "AC4ZhdWD+dl99Gxasuw+ht7bflhvpzMaAAAA3A+F1cP16hikX/8oQZL02FvblV9UanEiAACAS0Nh\n",
              "9QL3Du2q3h2DVFhSoYff2MZoAAAAcCsUVi/ga/PRs7cmy9dm6P0dh/Xmlv1WRwIAAGgwCquX6BER\n",
              "pN9e102S9Phb23WY0QAAAOAmKKxeZPLgOCVFBauotFIzV3LVAAAA4B4orF7EbvPR/LRk+dl89OHO\n",
              "fC3/Ms/qSAAAAD/okgrr/fffr9jYWBmGoS1bttTenpGRoYEDB6pbt25KSUnR9u3bm3UNjdetQ6B+\n",
              "N6xmNODJVd/qYGGJxYkAAAAu7pIK67hx47Rx40Z17ty5zu2TJ0/WpEmTtHv3bk2fPl0TJ05s1jU0\n",
              "zS8HdVHf6BAVl1ZqxgpGAwAAgGszzEa0ldjYWL355pvq27ev8vPzFR8fr2PHjslut8s0TUVGRmrj\n",
              "xo0KCgpy+lp8fHyDc06dOlULFiy41IfnFTLzT2rknzeovLJac8f20W0pMVZHAgAAqFeTZ1hzc3MV\n",
              "GRkpu90uSTIMQzExMcrJyWmWtQspKytTUVFRna2qqqqpD89jxYe30bThNaMBT63aof0nGA0AAACu\n",
              "yWPedDVnzhwFBwfX2TZt2mR1LJf2i6vj1C8mRCfLKjVjxVZGAwAAgEtqcmGNjo7WwYMHVVlZKUky\n",
              "TVM5OTmKiYlplrULmTlzpgoLC+tsAwYMaOrD82g2H0Pz05LlsPtoQ8ZRvbYp1+pIAAAA52lyYQ0P\n",
              "D1e/fv20ZMkSSdKKFSsUFRWl+Pj4Zlm7EIfDoaCgoDqbzWZr6sPzeHHt2+ihET0kSf+z+lvlHjtt\n",
              "cSIAAIC6LulNV5MnT9bq1at16NAhhYWFKTAwUJmZmdq1a5cmTpyogoICBQUFafHixerTp48kNcta\n",
              "Q/Gmq4aprjZ12wufanP2cQ3sGqYlv7hCPj6G1bEAAAAkNfIqAe6Cwtpw2UdPacRz61VaUa2nRvXW\n",
              "hCtjrY4EAAAgyYPedIWmiW3XWjPOjAbMWbNTOQWMBgAAANdAYUWtn10Zqyu6hOp0eZUeXJ6u6mqP\n",
              "PfkOAADcCIUVtXx8DM0bl6wAP5s+33tM//w02+pIAAAAFFbUFRMWoJk31IwGPPPuTmUfPWVxIgAA\n",
              "4O0orDjP7Vd01sCuYSqtqGY0AAAAWI7CivP4+BiaOzZJrf1s2px9XIs/ybY6EgAA8GIUVtQrOjRA\n",
              "j/y4lyTpD+/u1J4jJy1OBAAAvBWFFRf00wHRGpTQTmWV1Zq2LF1VjAYAAAALUFhxQYZh6JmxSWrj\n",
              "sOurnBN6eeMeqyMBAAAvRGHFRXUKaaVZN/aUJM3/z25l5jMaAAAAWhaFFT/o1sujNaRbe5VXVuuB\n",
              "ZemqrKq2OhIAAPAiFFb8oJrRgD4K9LcrPfeEXtyw1+pIAADAi1BY0SCRwa302I01Vw3449rd2n24\n",
              "2OJEAADAW1BY0WDj+kfpRz3CVV5Vc9UARgMAAEBLoLCiwQzD0JwxfRTkb9fWvEL9fT1XDQAAAM2P\n",
              "wopL0iHIX0+M6i1J+tP7u7XzUJHFiQAAgKejsOKSje7bSdf17KCKKlMPLE1XBaMBAACgGVFYcckM\n",
              "w9DsMYkKCfDV9gNF+utHWVZHAgAAHozCikYJD/TXEzfXjAY8/2GGth8otDgRAADwVBRWNNrNyR01\n",
              "oneEKqtNTVu2VeWVjAYAAADno7Ci0QzD0FOjE9U2wFc7DhZp4UeZVkcCAAAeiMKKJmkf6NBToxMl\n",
              "SX/5KFPb9jMaAAAAnIvCiia7MamjftwnUlXVpqYtS1dZZZXVkQAAgAehsMIpnhzVW2Gt/bTzULGe\n",
              "/4DRAAAA4DwUVjhFWBuHnj4zGvC3dVlKzz1hbSAAAOAxKKxwmhv6ROqm5I61owGlFYwGAACApqOw\n",
              "wqmevLm32rVxKCP/pJ77IMPqOAAAwANQWOFUbVv7afYtNaMBf1+Xpa9zjlucCAAAuDsKK5xueO8I\n",
              "3XJZJ1WbYjQAAAA0GYUVzeLxm3qpfaBDWUdOacHa3VbHAQAAbozCimYREuCnObf0kSS9uGGPvtx3\n",
              "zOJEAADAXVFY0Wyu69VBY/tFyTSlacu2qqSc0QAAAHDpKKxoVo/d1Esdghzae/SU5v9nl9VxAACA\n",
              "G3JqYX3nnXfUr18/9e3bV4mJiXr11VclSfn5+RoxYoQSEhKUmJio9evX135PY9fgHoJb+eqZsUmS\n",
              "pH/8d6827WU0AAAAXBqnFVbTNHXHHXfolVde0ZYtW7Rq1SpNnjxZxcXFmjFjhlJTU5WRkaHFixdr\n",
              "/PjxqqiokKRGr8F9DO0erlsvrxkNeHB5uk6XV1odCQAAuBGnnmE1DEMnTpyQJBUVFSksLEwOh0NL\n",
              "ly7VlClTJEkpKSnq2LGj1q1bJ0mNXoN7efTGXooM9te+gtP6w7uMBgAAgIZzWmE1DEOvv/66xowZ\n",
              "o86dO+vqq6/Wq6++quLiYlVUVCgiIqJ239jYWOXk5KigoKBRa/UpKytTUVFRna2qijf5uIogf1/N\n",
              "PTMa8Mon2fpsT4HFiQAAgLtwWmGtrKzU008/rZUrV2rfvn364IMPNGHCBFVWtszLv3PmzFFwcHCd\n",
              "bdOmTS3ys9Ewg7u1108HxEiqGQ04VcZoAAAA+GFOK6xbtmzRgQMHNHjwYEk1L+FHRUVp69atstvt\n",
              "OnToUO2+2dnZiomJUVhYWKPW6jNz5kwVFhbW2QYMGOCshwcneXhkD3UKaaXcYyV6Zs1Oq+MAAAA3\n",
              "4LTCGh0drYMHD2rHjh2SpMzMTGVlZal79+5KS0vTokWLJEmbN2/W/v37NWTIEElq9Nr3ORwOBQUF\n",
              "1dlsNpuzHh6cJPCc0YB/fbZPn2QetTgRAABwdXZn3VGHDh30wgsv6NZbb5WPj4+qq6u1cOFCxcTE\n",
              "aO7cuZowYYISEhLk5+enJUuWyNfXV5IavQb3dXVCO92RGqMln+XoweVb9d7vBquNw2lPRQAA4GEM\n",
              "0zRNq0M0l6lTp2rBggVWx0A9TpVV6vo/rVfe8RKNvyJGs898jCsAAMD38UlXsERrh13zxiVLkv73\n",
              "8xyt333E4kQAAMBVUVhhmSu7hunOKztLkmas2KqiUj4UAgAAnI/CCktNv6GHYkIDdKCwVLNX77A6\n",
              "DgAAcEEUVlgqwM+u+WnJMgzp/zbn6uNd+VZHAgAALobCCssN6BKqnw/sIkmaseIbFZYwGgAAAL5D\n",
              "YYVLePD67urSrrUOFZXqqVXfWh0HAAC4EAorXEIrP5vmjUuSYUjLv8zThzsPWx0JAAC4CAorXMbl\n",
              "saG6++pzRgNOMxoAAAAorHAxDwzvrrj2rZVfXKYn/r3d6jgAAMAFUFjhUvx9bZqfliwfQ1r59X79\n",
              "Z/shqyMBAACLUVjhcvrFtNUvB8dJkh5+Y5uOnyq3OBEAALAShRUu6XfXdVN8eBsdPVmm3zMaAACA\n",
              "V6OwwiX5+9r0bFqybD6G3tpyQO9uO2h1JAAAYBEKK1xWcnSIpgypGQ145I1tKjhZZnEiAABgBQor\n",
              "XNr91yaoe4dAFZwq12NvMxoAAIA3orDCpTnsNVcNsPkYWr31oFZvZTQAAABvQ2GFy+sTFaxfXdNV\n",
              "kjTrrW06ymgAAABehcIKt3DfjxLUIyJQx06Va9ab22SaptWRAABAC6Gwwi342X307K3JsvsYWrPt\n",
              "kP7NaAAAAF6Dwgq30btjsO77Ubwk6bG3tim/uNTiRAAAoCVQWOFWfjU0Xr0ig3TidIUeeYPRAAAA\n",
              "vAGFFW7F11YzGuBrM7T228N6a8sBqyMBAIBmRmGF2+kZGaTfXJsgSXr87e06XMRoAAAAnozCCrc0\n",
              "ZUhX9ekUrMKSCj288htGAwAA8GAUVrglu81H89OS5Wfz0Qc787Xyq/1WRwIAAM2Ewgq31T0iUL8d\n",
              "VjMa8Pt/b9ehQkYDAADwRBRWuLVJg+KUHB2i4tJKzVi5ldEAAAA8EIUVbs1u89GzaUnys/vo411H\n",
              "tOyLPKsjAQAAJ6Owwu3FhwfqgWHdJElPrfpWB06UWJwIAAA4E4UVHuHuQXG6LCZExWWVmr6C0QAA\n",
              "ADwJhRUeweZjaH5ashx2H23IOKr/25xrdSQAAOAkFFZ4jK7t2+jB67tLkp5e9a3yjp+2OBEAAHAG\n",
              "Cis8ys+v6qLLO7fVqfIqRgMAAPAQFFZ4FJuPoXlpyfL39dF/Mwv0/z7PsToSAABoIqcW1rKyMt13\n",
              "331KSEhQnz59dMcdd0iSMjIyNHDgQHXr1k0pKSnavn177fc0dg24kC7tWmv6iB6SpNnv7FDuMUYD\n",
              "AABwZ04trDNmzJBhGNq9e7e++eYbzZ8/X5I0efJkTZo0Sbt379b06dM1ceLE2u9p7BpwMXdeGasB\n",
              "XUJ1urxKDy5PV3U1owEAALgrw3TSkN+pU6cUGRmpvLw8BQUF1d6en5+v+Ph4HTt2THa7XaZpKjIy\n",
              "Uhs3blRQUFCj1uLj4xuUaerUqVqwYIEzHh7cUE7BaV3/p/UqqajSEzf31p0DY62OBAAAGsFpZ1iz\n",
              "srIUGhqq2bNn6/LLL9egQYP0wQcfKDc3V5GRkbLb7ZIkwzAUExOjnJycRq/Vp6ysTEVFRXW2qqoq\n",
              "Zz08uKGYsADNHFkzGvDMmp3aV3DK4kQAAKAxnFZYKysrtW/fPvXq1UtffPGF/vznP+u2225TZWWl\n",
              "s37ERc2ZM0fBwcF1tk2bNrXIz4bruuOKzroyLkwlFVV6cNlWRgMAAHBDTiusMTEx8vHx0e233y5J\n",
              "uuyyy9SlSxft27dPBw8erC2upmkqJydHMTExio6ObtRafWbOnKnCwsI624ABA5z18OCmfHwM/WFc\n",
              "klr72bQp+5he+STb6kgAAOASOa2wtmvXTtdee63ee+89SdLevXu1d+9eXXXVVerXr5+WLFkiSVqx\n",
              "YoWioqIUHx+v8PDwRq3Vx+FwKCgoqM5ms9mc9fDgxqJDA/Twj3tKkv7w3k7tOXLS4kQAAOBSOO1N\n",
              "V5K0Z88e/eIXv9DRo0fl4+Ojxx57TGPHjtWuXbs0ceJEFRQUKCgoSIsXL1afPn0kqdFrDcGbrnCW\n",
              "aZqa8PImbcw8qv6d22rp5Ctl8zGsjgUAABrAqYXV1VBYca6846c14k8bdLKsUo/+uKfuHhRndSQA\n",
              "ANAAfNIVvEZU2wA9emY0YN57u5SZz2gAAADugMIKr3JbSrQGd2uvsspqTVuWriquGgAAgMujsMKr\n",
              "GIahuWP7KNBh15bcE3pxwx6rIwEAgB9AYYXXiQxupVk39ZIkLVi7WxmHiy1OBAAALobCCq+U1j9K\n",
              "Q7u3V/mZ0YDKqmqrIwEAgAugsMIrGYahOWOSFORvV3peof6+ntEAAABcFYUVXisi2F+/v7m3JOlP\n",
              "7+/WzkNFFicCAAD1obDCq91yWSdd1zNcFVWmpi1LVwWjAQAAuBwKK7yaYRiafUsfBbfy1bb9RVr0\n",
              "cZbVkQAAwPdQWOH1woP89eSomtGAP3+YoW8PMBoAAIArobACkm5O7qjre3eoHQ0or2Q0AAAAV0Fh\n",
              "BVQzGvD06D5qG+Crbw8W6S8fZVodCQAAnEFhBc5oH+jQk6MSJUl/+ShT2/YXWpwIAABIFFagjhuT\n",
              "IjWyT4QqqxkNAADAVVBYgXMYhqGnRiUqrLWfdh4q1vMfZlgdCQAAr0dhBb4nrI1DT42uGQ3468dZ\n",
              "2pp3wtpAAAB4OQorUI+RfSJ1Y1Kkqs6MBpRVVlkdCQAAr0VhBS7gyVGJatfGT7sPn9Rz7zMaAACA\n",
              "VSiswAWEtvbT06P7SJIWrcvSltwT1gYCAMBLUViBixiRGKHRfTuq2pQeWLpFpRWMBgAA0NIorMAP\n",
              "+P3NvdU+0KGsI6f0x7W7rY4DAIDXobACPyAkwE+zb6kZDXhxwx59ue+4xYkAAPAuFFagAYb16qAx\n",
              "/Tqp2pQeXJbOaAAAAC2Iwgo00OM39laHIIf2HD2l+e/tsjoOAABeg8IKNFBwgK+eGZMkSXr5v3u1\n",
              "OfuYxYkAAPAOFFbgEgztEa60/lEyz4wGlJQzGgAAQHOjsAKX6NEbeyky2F/ZBaf1h/d2Wh0HAACP\n",
              "R2EFLlFwK189M7ZmNGDxf7P12Z4CixMBAODZKKxAIwzp1l4/HRAtSXpo+VadKqu0OBEAAJ6Lwgo0\n",
              "0sMje6pTSCvlHDutue8yGgAAQHOhsAKNFOjvq7lnRgP++ek+fZJ11OJEAAB4Jgor0ARXJ7TT7VfE\n",
              "SKoZDTjJaAAAAE5HYQWaaObInopq20p5x0s0550dVscBAMDjUFiBJmrjsOsP42pGA/7f5znamMFo\n",
              "AAAAztQshXXx4sUyDENvvvmmJCk/P18jRoxQQkKCEhMTtX79+tp9G7sGuJKBXdvpZ1d2liRNX7FV\n",
              "xaUVFicCAMBzOL2wZmdn68UXX1RqamrtbTNmzFBqaqoyMjK0ePFijR8/XhUVFU1aA1zN9BE9FBMa\n",
              "oP0nSjSb0QAAAJzGqYW1urpad999t55//nk5HI7a25cuXaopU6ZIklJSUtSxY0etW7euSWuAq2nt\n",
              "sGvemdGA1zblat3uIxYnAgDAMzi1sC5YsEBXXXWV+vfvX3tbQUGBKioqFBERUXtbbGyscnJyGr1W\n",
              "n7KyMhUVFdXZqqr4nHe0rCviwvTzq2IlSTNWbFURowEAADSZ0wrrtm3btGLFCj366KPOustLMmfO\n",
              "HAUHB9fZNm3aZEkWeLeHru+h2LAAHSws1dOrvrU6DgAAbs9phXXDhg3Kzs5WQkKCYmNj9dlnn2nS\n",
              "pElaunSp7Ha7Dh06VLtvdna2YmJiFBYW1qi1+sycOVOFhYV1tgEDBjjr4QEN1srPpnlpyTIMaekX\n",
              "efpoZ77VkQAAcGtOK6z33HOPDh48qOzsbGVnZys1NVUvvPCC7rnnHqWlpWnRokWSpM2bN2v//v0a\n",
              "MmSIJDV67fscDoeCgoLqbDabzVkPD7gkKbGh+sVVXSRJM1ZuVeFpRgMAAGgse0v8kLlz52rChAlK\n",
              "SEiQn5+flixZIl9f3yatAa5u2vXd9eHOfO05ekpPrNquBbf2tToSAABuyTBN07Q6RHOZOnWqFixY\n",
              "YHUMeLEv9x1X2qJPVG1KL/3scl3Xq4PVkQAAcDt80hXQjPp3bqtfDoqTJM184xudOF1ucSIAANwP\n",
              "hRVoZr8b1k1d27fWkeIy/f7t7VbHAQDA7VBYgWbm72vTs7f2lY8hvbnlgN7dduiHvwkAANSisAIt\n",
              "oG90iKYM6SpJevTNb3TsFKMBAAA0FIUVaCG/uS5B3Tq00dGT5Xqc0QAAABqMwgq0EIfdpvlpybL5\n",
              "GPp3+gG9881BqyMBAOAWKKxAC0qKCtG915wdDdimoyfLLE4EAIDro7ACLezXP0pQj4hAHTtVrllv\n",
              "bpMHXwoZAACnoLACLczP7qP5acmy+xhas+2QVm1lNAAAgIuhsAIWSOwUrF8NjZckPfbWNh0pZjQA\n",
              "AIALobACFvnV0Hj1igzS8dMVevTNbxgNAADgAiisgEXOjgb42gy9t/2w3k4/YHUkAABcEoUVsFCv\n",
              "jkH69Y8SJEmPvbVd+UWlFicCAMD1UFgBi91zTVcldgpSYUmFHn6D0QAAAL6PwgpYzNfmo2fT+srX\n",
              "Zuj9Hfl64+v9VkcCAMClUFgBF9A9IlC/va6bJOn3b2/XoUJGAwAAOIvCCriIyYPjlBwVrKLSSs1c\n",
              "uZXRAAAAzqCwAi7Cbqu5aoCfzUcf7TqiZV/mWR0JAACXQGEFXEhCh0BNHV4zGvDUv7/VwcISixMB\n",
              "AGA9CivgYn45KE6XxYSouKxS01dw1QAAACisgIux+Rian5Ysh91H63cf0eubc62OBACApSisgAvq\n",
              "2r6Npg3vLkl6evUO7T/BaAAAwHtRWAEXddfVXdS/c1udLKvU9OVcNQAA4L0orICLsvkYmjcuSf6+\n",
              "PtqYeVT/uynH6kgAAFiCwgq4sLj2bfTQ9T0kSf+zeodyj522OBEAAC2Pwgq4uIkDYzUgNlSny6v0\n",
              "0PKtqq5mNAAA4F0orICL8/ExNC8tSa18bfp0T4H+3+f7rI4EAECLorACbqBzWGvNuKFmNGD2OzuV\n",
              "U8BoAADAe1BYATcxIbWzUuNCVVJRpWnL0xkNAAB4DQor4CZ8fAzNG5esAD+bNu09plc/zbY6EgAA\n",
              "LYLCCriR6NAAzRzZU5I0992d2nv0lMWJAABofhRWwM3cPiBGV8WHqbSiWg8uS1cVowEAAA9HYQXc\n",
              "jI+Pobljk9Taz6Yv9h3X4v/utToSAADNisIKuKGotgF69MZekqR57+1S1pGTFicCAKD5OK2wlpaW\n",
              "avTo0erWrZuSk5M1bNgwZWZmSpLy8/M1YsQIJSQkKDExUevXr6/9vsauAd7uJynRGpTQTmWVjAYA\n",
              "ADybU8+wTpo0Sbt27VJ6erpGjRqlu+++W5I0Y8YMpaamKiMjQ4sXL9b48eNVUVHRpDXA2xlGzWhA\n",
              "oMOur3JO6OWNe6yOBABAs3BaYfX399fIkSNlGIYkKTU1VdnZ2ZKkpUuXasqUKZKklJQUdezYUevW\n",
              "rWvSGgCpY0grzTozGjD/P7uVmV9scSIAAJyv2WZYn3vuOY0aNUoFBQWqqKhQRERE7VpsbKxycnIa\n",
              "vVafsrIyFRUV1dmqqqqa6+EBLiPt8ihd0729yiur9cCyraqsqrY6EgAATtUshXX27NnKzMzUnDlz\n",
              "muPu6zVnzhwFBwfX2TZt2tRiPx+wimEYemZMkgL97UrPPaEXNjAaAADwLE4vrPPnz9fKlSu1Zs0a\n",
              "BQQEKCwsTHa7XYcOHardJzs7WzExMY1eq8/MmTNVWFhYZxswYICzHx7gkiKC/fX4Tb0lSX9am6Fd\n",
              "hxgNAAB4DqcW1gULFui1117T2rVrFRISUnt7WlqaFi1aJEnavHmz9u/fryFDhjRp7fscDoeCgoLq\n",
              "bDabzZkPD3BpY/t10rU9wlVeVa1py9JVwWgAAMBDGKZpOuVaOHl5eYqOjlZcXJwCAwMl1ZTIzz//\n",
              "XIcPH9aECRO0d+9e+fn5aeHChRo6dKgkNXqtIaZOnaoFCxY44+EBbuFwUamG/3G9CksqNG14N933\n",
              "owSrIwEA0GROK6yuiMIKb/Tm1/v129e3yNdm6O37rlbPyCCrIwEA0CR80hXgYUb17ajhvTqoospk\n",
              "NAAA4BEorICHMQxDT9+SqJAAX20/UKS/fpRldSQAAJqEwgp4oPBAfz05KlGS9PyHGdp+oNDiRAAA\n",
              "NB6FFfBQNyVF6obECFVWm3pgabrKKxkNAACcr6yySnuOnNS63Ue05LN9WvvtYasjncdudQAAzcMw\n",
              "DD01OlGf7z2mnYeKtfDDDE0d3t3qWACAFlZVbepwUalyjp1W7rHTyj1eorxjp5V7/LRyj5XocHGp\n",
              "zn0L/rU9wjWsVwfrAteDwgp4sHZtHHpqVKJ+9b9f6S8fZ2l47wgldgq2OhYAwIlM09SxU+XKPV5y\n",
              "ppDWFNG84zUFdf+JElVUXfyiUK18bYoObaXotgG6PDa0hZI3HIUV8HA/TorUO9sitXrrQT2wNF1v\n",
              "//oqOex8qAYAuJOTZZU1ZfTMGdLcY6fPFNIS5R4/rdPlVRf9fruPoU5tawppdGgrRbUNUHRogKLb\n",
              "tlJ0aIDCWvvJMIwWejSXjsIKeIGnRiXq8z0F2nW4WH/+IEMPXt/D6kgAgHOUVVZp//GSOmdJ886U\n",
              "0dxjp3X8dMVFv98wpA6B/rVnSaPOKaPRoQGKCPKXzcd1C+kPobACXiC0tZ+eHt1HU5Z8qb99nKXh\n",
              "vSKUHB1idSwA8BpV1aYOFZXWOUt6sTnS+oQE+Cq6bYBiQgMUFXr2bGlNMe3UtpVHv3pGYQW8xIjE\n",
              "CI3q21FvbTmgB5ala9Wvr5a/r+f+cgOAlnShOdKzfz9wiXOk0aEBijp7hvTMy/iB/r4t9GhcD4UV\n",
              "8CK/v6m3/ptZoMz8k/rT+xmacQOjAQDQUN4+R2olCivgRdq29tPsWxI16V9f6oX1WRreu4P6xbS1\n",
              "OhYAuATmSF0XhRXwMsN7R2jMZZ208uv9mrYsXe/cP4jRAABewRlzpG0DfGtfpve2OVIrUVgBL/T4\n",
              "Tb21MfOo9hw5pWf/s0uP/LiX1ZEAoMnOzpHmXOAl+4bOkcaE1v+SfVRb754jtRKFFfBCwQG+emZs\n",
              "H931yhd6aeNejUiMUP/OrnehaAD4PuZIvROFFfBSP+rRQeP6R2n5l3matmyr3rl/kFr58VIWAGsx\n",
              "R4r6UFgBLzbrxl7amHFUe4+e0rz3dumxmxgNANC8mCNFY1BYAS8W3KpmNGDi4s1a/MleXd+7g66I\n",
              "C7M6FgA3ZpqmCk6VX/Al+4bMkQb42S74kj1zpN6Jwgp4uWu6h+u2y6P1+he5enD5Vr3720EK8ONX\n",
              "A4ALq2+OtPbl++MlPzhH6msz1CnkbAENqHOx/Oi2rRTKHCm+h/8qAdAjN/bUhowjyjl2Wn94d5d+\n",
              "f3NvqyMBsBBzpHA1FFYACvL31dxxSZrw8ia98km2ru8doSu7MhoAeCrmSOFuKKwAJEmDEtpr/BUx\n",
              "+t/Pc/Tg8nS999vBau3gVwTgjpp7jjQ6NEBt+P2AFsSzDUCth0f21LpdR5R3vERz1uzQ06P7WB0J\n",
              "wAUUl1bUFtCaQlrCHCk8FoUVQK02DrvmjUvS+Jc+15LPcnRDYqSuim9ndSzAKzljjjQiyL/el+yj\n",
              "QwPUgTlSuBEKK4A6Bsa304TUzvrXZ/v00JmrBnAJGcD5mCMFGo7CCuA8M27ooY935yv3WIlmv7NT\n",
              "c8YwGgBcKuZIAefhmQ7gPK0dds0bl6yfvPCZXtuUoxsSIzS4W3urYwEuhzlSoGVQWAHUKzUuTBMH\n",
              "xuqVT7I1fcVWvfe7wQpiNAAezjRNlVVWq6yiWqWVVSqrqFZJRdV3L90zRwpYgsIK4IIeGtFdH+3K\n",
              "176C0/qfVTs0d1yS1ZHgRaqrTZVWVqm0olplZ/4srahSWWXNnzVbzdrZgllace7fv79/Pfues3b2\n",
              "60sV2tpP0W1bnbk4ft2zpB1D/JkjBZyAwgrgggL8akYDbnvhU73+Ra5G9InQ0O7hVseCBSqqqust\n",
              "iqUV1SqrqKo9G3mxotjgfc98XV516eXRmWw+hvztPnL42tS+jYM5UsBC/FsG4KIGdAnVXVd10csb\n",
              "92rGiq36z2+HKDiA0QCrmKap8qrq78rfuWcfzxbBM6XwvDOT3z+j+L2zjTX7n73fc/atrFZV9Q+8\n",
              "Xb2Z+doM+dttcvja5O/rI4fdR/6+tjObjxz2mj/P7vPdes2f537d0H19bT6WPmYA36GwAvhB04Z3\n",
              "10c787Xn6Ck9uepbPXtrstWRXEJ1tVlb6r4rd+eeSfzujOR3RfD8/WtK4wX2recl7B+61FFzO1vo\n",
              "LlT0zhbC2mL4/aLoaztTFn0usO/5BZM5T8C7UVgB/KBWfjbNS0vSuEWfasVXeRrZJ0LX9uxgdaw6\n",
              "KqtqSl99RfHsXOO5Zxu/Wzt/nrGsnlJZ3xxleSPmHZ3Jx9D3yl3N3x2+Nvn/QKmsb9+L7l9bMH14\n",
              "1zqAFufyhTUjI0N33nmnjh49quDgYL3yyivq3bu31bEAr9O/c6h+OShOL6zfo5krv9F/ftdWIQF+\n",
              "5+1nmqYqqsw6b4CpWxS/9/X35hnrvmx94Zewv18qKy1+ydruY9Q5I+g485LzhYqiv+93+3y378XP\n",
              "TDrO7HN2f1+bQXkE4BVcvrBOnjxZkyZN0sSJE7V8+XJNnDhRmzdvtjoW4JWmDuumD3YcVtaRU7rx\n",
              "+Y1q47CfX0Irqyx/ydrP7lP7Zhn/c8pgnZeZ6zl7WH/BPH/fs7edexbTzrwjADQbwzSt/k/LheXn\n",
              "5ys+Pl7Hjh2T3W6XaZqKjIzUxo0bFR8f/4PfP3XqVC1YsKAFkgLe4+uc4xq36NMGvQnHMHR+0Tu3\n",
              "8NUpghd+CfuC+9ZzZtJh95EP844A4FFc+gxrbm6uIiMjZbfXxDQMQzExMcrJyTmvsJaVlamsrKzO\n",
              "bVVVF/+EEQCX7rKYtlr166u1/3jJ90rj9wumj/xszDsCAJrOpQvrpZgzZ46eeOKJOrelpqZalAbw\n",
              "bD0jg9QzMsjqGAAAL+HSQ1fR0dE6ePCgKisrJdW8mSMnJ0cxMTHn7Ttz5kwVFhbW2QYMGNDSkQEA\n",
              "AOBkLl1Yw8PD1a9fPy1ZskSStGLFCkVFRdU7v+pwOBQUFFRns9n4ODwAAAB35/IjAX//+981ceJE\n",
              "zZ49W0FBQVq8eLHVkQAAANCCXL6wdu/eXZ9++qnVMQAAAGARlx4JAAAAACisAAAAcGkUVgAAALg0\n",
              "CisAAABcGoUVAAAALo3CCgAAAJdGYQUAAIBLM0zTNK0O0VzGjBmj2NjYFvlZVVVV2rRpkwYMGMAn\n",
              "bLUgjrs1OO7W4Lhbg+NuDY67Naw47p07d9ZvfvObi+7j0YW1JRUVFSk4OFiFhYUKCgqyOo7X4Lhb\n",
              "g+NuDY67NTju1uC4W8NVjzsjAQAAAHBpFFYAAAC4NAorAAAAXBqF1UkcDocef/xxORwOq6N4FY67\n",
              "NTju1uC4W4Pjbg2OuzVc9bjzpisAAAC4NM6wAgAAwKVRWAEAAODSKKwAAABwaRTWS5SRkaGBAweq\n",
              "W7duSklJ0fbt2+vd7+WXX1ZCQoK6du2qX/7yl6qoqGjhpJ6lIcf9448/VqtWrdS3b9/araSkxIK0\n",
              "nuH+++9XbGysDMPQli1bLrgfz3Xnashx57nufKWlpRo9erS6deum5ORkDRs2TJmZmfXuu2rVKvXo\n",
              "0UMJCQkaM2aMioqKWjit52jocc/OzpbNZqvznM/KyrIgsecYPny4kpKS1LdvXw0aNEhff/11vfu5\n",
              "zO94E5dk6NCh5uLFi03TNM1ly5aZl19++Xn77Nmzx4yMjDQPHjxoVldXmzfddJO5cOHCFk7qWRpy\n",
              "3D/66CMzOTm5ZYN5sHXr1pm5ublm586dza+//rrefXiuO19DjjvPdecrKSkxV69ebVZXV5umaZrP\n",
              "P/+8OWTIkPP2Ky4uNsPDw80dO3aYpmmav/rVr8xp06a1ZFSP0tDjvnfvXjM4OLhlw3m448eP1/59\n",
              "5cqVZlJS0nn7uNLveM6wXoL8/Hx98cUXuuOOOyRJY8eOVW5u7nn/N7h8+XLdfPPNioiIkGEYmjJl\n",
              "il577TUrInuEhh53ONfgwYMVFRV10X14rjtfQ447nM/f318jR46UYRiSpNTUVGVnZ5+335o1a3TZ\n",
              "ZZepR48ekqR7772X53wTNPS4w/lCQkJq/15YWFj7z+BcrvQ7nsJ6CXJzcxUZGSm73S5JMgxDMTEx\n",
              "ysnJqbNfTk6OOnfuXPt1bGzsefug4Rp63CUpKytL/fr1U0pKiv7617+2dFSvw3PdOjzXm9dzzz2n\n",
              "UaNGnXd7fc/5gwcPqrKysiXjeawLHXdJOnXqlFJSUtSvXz89+eSTqqqqauF0nudnP/uZoqOjNWvW\n",
              "LP3rX/86b92VfsfbLfmpQDPo16+f8vLyFBwcrLy8PI0cOVLt2rXTrbfeanU0wKl4rjev2bNnKzMz\n",
              "Ux988IHVUbzKxY57ZGSk9u/fr/DwcB07dky33Xabnn32WT300EMWJPUc//znPyVJr776qqZPn653\n",
              "3nnH4kQXxhnWSxAdHV3n/6RN01ROTo5iYmLq7BcTE6N9+/bVfp2dnX3ePmi4hh73oKAgBQcHS5Ki\n",
              "oqL005/+VBs2bGjxvN6E57o1eK43n/nz52vlypVas2aNAgICzluv7zl/7itAaJwfOu4Oh0Ph4eGS\n",
              "pNDQUN111108553ozjvv1EcffaSCgoI6t7vS73gK6yUIDw9Xv379tGTJEknSihUrFBUVpfj4+Dr7\n",
              "jR07Vm+//bYOHTok0zS1aNEi/eQnP7Eiskdo6HE/ePCgqqurJUnFxcVatWqVLrvsshbP6014rluD\n",
              "53rzWLBggV577TWtXbu2znzfuUaMGKGvvvpKO3fulCT99a9/5TnfRA057vn5+bXvTi8rK9PKlSt5\n",
              "zjfBiRMndODAgdqv33zzTYWFhSk0NLTOfi71O96St3q5sZ07d5qpqalmQkKC2b9/f3Pr1q2maZrm\n",
              "L37xC/Ott96q3e+FF14w4+LizLi4OPOuu+4yy8vLrYrsERpy3J9//nmzV69eZlJSktmrVy/z8ccf\n",
              "r33nKS7dpEmTzE6dOpk2m80MDw83u3btapomz/Xm1pDjznPd+XJzc01JZlxcnJmcnGwmJyebAwYM\n",
              "ME3TNGfNmmX+7W9/q933rbfeMrt372527drVHDVqlHnixAmrYru9hh73FStWmL179659zt93331m\n",
              "aWmpldHdWnZ2tpmSkmImJiaaSUlJ5rXXXlt7VRJX/R1vmKZpWlOVAQAAgB/GSAAAAABcGoUVAAAA\n",
              "Lo3CCgAAAJdGYQUAAIBLo7ACAADApVFYAQAA4NIorAAAAHBpFFYAAAC4NAorAAAAXBqFFQAAAC6N\n",
              "wgoAAACX9v8Bieg8OU0+bIQAAAAASUVORK5CYII=\n",
              "\">\n",
              "      </div>\n",
              "      <script type=\"text/javascript\">\n",
              "        (() => {\n",
              "          const chartElement = document.getElementById(\"chart-ea1eaa56-ce5f-4220-be8a-752d193b5d8b\");\n",
              "          async function getCodeForChartHandler(event) {\n",
              "            const chartCodeResponse =  await google.colab.kernel.invokeFunction(\n",
              "                'getCodeForChart', [\"chart-ea1eaa56-ce5f-4220-be8a-752d193b5d8b\"], {});\n",
              "            const responseJson = chartCodeResponse.data['application/json'];\n",
              "            await google.colab.notebook.addCell(responseJson.code, 'code');\n",
              "          }\n",
              "          chartElement.onclick = getCodeForChartHandler;\n",
              "        })();\n",
              "      </script>\n",
              "      <style>\n",
              "        .colab-quickchart-chart-with-code  {\n",
              "            display: block;\n",
              "            float: left;\n",
              "            border: 1px solid transparent;\n",
              "        }\n",
              "\n",
              "        .colab-quickchart-chart-with-code:hover {\n",
              "            cursor: pointer;\n",
              "            border: 1px solid #aaa;\n",
              "        }\n",
              "      </style>"
            ]
          },
          "metadata": {}
        }
      ]
    },
    {
      "cell_type": "code",
      "source": [
        "# Creando un dataFrame de 2 columnas\n",
        "dooble_df = pd.DataFrame(index=[0,1,2,3], columns=['Date','Volume'], data=[[100,1500],[200,4356],[300,54700],[400,12706]])\n",
        "dooble_df"
      ],
      "metadata": {
        "id": "UZx3YLwbW4Mt",
        "colab": {
          "base_uri": "https://localhost:8080/",
          "height": 175
        },
        "outputId": "b6c2429d-a792-4c1a-f2f5-4aa2a125a563"
      },
      "execution_count": null,
      "outputs": [
        {
          "output_type": "execute_result",
          "data": {
            "text/plain": [
              "   Date  Volume\n",
              "0   100    1500\n",
              "1   200    4356\n",
              "2   300   54700\n",
              "3   400   12706"
            ],
            "text/html": [
              "\n",
              "  <div id=\"df-5fb57210-8a13-4484-886e-06bde6aafffa\" class=\"colab-df-container\">\n",
              "    <div>\n",
              "<style scoped>\n",
              "    .dataframe tbody tr th:only-of-type {\n",
              "        vertical-align: middle;\n",
              "    }\n",
              "\n",
              "    .dataframe tbody tr th {\n",
              "        vertical-align: top;\n",
              "    }\n",
              "\n",
              "    .dataframe thead th {\n",
              "        text-align: right;\n",
              "    }\n",
              "</style>\n",
              "<table border=\"1\" class=\"dataframe\">\n",
              "  <thead>\n",
              "    <tr style=\"text-align: right;\">\n",
              "      <th></th>\n",
              "      <th>Date</th>\n",
              "      <th>Volume</th>\n",
              "    </tr>\n",
              "  </thead>\n",
              "  <tbody>\n",
              "    <tr>\n",
              "      <th>0</th>\n",
              "      <td>100</td>\n",
              "      <td>1500</td>\n",
              "    </tr>\n",
              "    <tr>\n",
              "      <th>1</th>\n",
              "      <td>200</td>\n",
              "      <td>4356</td>\n",
              "    </tr>\n",
              "    <tr>\n",
              "      <th>2</th>\n",
              "      <td>300</td>\n",
              "      <td>54700</td>\n",
              "    </tr>\n",
              "    <tr>\n",
              "      <th>3</th>\n",
              "      <td>400</td>\n",
              "      <td>12706</td>\n",
              "    </tr>\n",
              "  </tbody>\n",
              "</table>\n",
              "</div>\n",
              "    <div class=\"colab-df-buttons\">\n",
              "\n",
              "  <div class=\"colab-df-container\">\n",
              "    <button class=\"colab-df-convert\" onclick=\"convertToInteractive('df-5fb57210-8a13-4484-886e-06bde6aafffa')\"\n",
              "            title=\"Convert this dataframe to an interactive table.\"\n",
              "            style=\"display:none;\">\n",
              "\n",
              "  <svg xmlns=\"http://www.w3.org/2000/svg\" height=\"24px\" viewBox=\"0 -960 960 960\">\n",
              "    <path d=\"M120-120v-720h720v720H120Zm60-500h600v-160H180v160Zm220 220h160v-160H400v160Zm0 220h160v-160H400v160ZM180-400h160v-160H180v160Zm440 0h160v-160H620v160ZM180-180h160v-160H180v160Zm440 0h160v-160H620v160Z\"/>\n",
              "  </svg>\n",
              "    </button>\n",
              "\n",
              "  <style>\n",
              "    .colab-df-container {\n",
              "      display:flex;\n",
              "      gap: 12px;\n",
              "    }\n",
              "\n",
              "    .colab-df-convert {\n",
              "      background-color: #E8F0FE;\n",
              "      border: none;\n",
              "      border-radius: 50%;\n",
              "      cursor: pointer;\n",
              "      display: none;\n",
              "      fill: #1967D2;\n",
              "      height: 32px;\n",
              "      padding: 0 0 0 0;\n",
              "      width: 32px;\n",
              "    }\n",
              "\n",
              "    .colab-df-convert:hover {\n",
              "      background-color: #E2EBFA;\n",
              "      box-shadow: 0px 1px 2px rgba(60, 64, 67, 0.3), 0px 1px 3px 1px rgba(60, 64, 67, 0.15);\n",
              "      fill: #174EA6;\n",
              "    }\n",
              "\n",
              "    .colab-df-buttons div {\n",
              "      margin-bottom: 4px;\n",
              "    }\n",
              "\n",
              "    [theme=dark] .colab-df-convert {\n",
              "      background-color: #3B4455;\n",
              "      fill: #D2E3FC;\n",
              "    }\n",
              "\n",
              "    [theme=dark] .colab-df-convert:hover {\n",
              "      background-color: #434B5C;\n",
              "      box-shadow: 0px 1px 3px 1px rgba(0, 0, 0, 0.15);\n",
              "      filter: drop-shadow(0px 1px 2px rgba(0, 0, 0, 0.3));\n",
              "      fill: #FFFFFF;\n",
              "    }\n",
              "  </style>\n",
              "\n",
              "    <script>\n",
              "      const buttonEl =\n",
              "        document.querySelector('#df-5fb57210-8a13-4484-886e-06bde6aafffa button.colab-df-convert');\n",
              "      buttonEl.style.display =\n",
              "        google.colab.kernel.accessAllowed ? 'block' : 'none';\n",
              "\n",
              "      async function convertToInteractive(key) {\n",
              "        const element = document.querySelector('#df-5fb57210-8a13-4484-886e-06bde6aafffa');\n",
              "        const dataTable =\n",
              "          await google.colab.kernel.invokeFunction('convertToInteractive',\n",
              "                                                    [key], {});\n",
              "        if (!dataTable) return;\n",
              "\n",
              "        const docLinkHtml = 'Like what you see? Visit the ' +\n",
              "          '<a target=\"_blank\" href=https://colab.research.google.com/notebooks/data_table.ipynb>data table notebook</a>'\n",
              "          + ' to learn more about interactive tables.';\n",
              "        element.innerHTML = '';\n",
              "        dataTable['output_type'] = 'display_data';\n",
              "        await google.colab.output.renderOutput(dataTable, element);\n",
              "        const docLink = document.createElement('div');\n",
              "        docLink.innerHTML = docLinkHtml;\n",
              "        element.appendChild(docLink);\n",
              "      }\n",
              "    </script>\n",
              "  </div>\n",
              "\n",
              "\n",
              "<div id=\"df-3f6b210a-2b5e-4ee4-ad03-6be4d40466c7\">\n",
              "  <button class=\"colab-df-quickchart\" onclick=\"quickchart('df-3f6b210a-2b5e-4ee4-ad03-6be4d40466c7')\"\n",
              "            title=\"Suggest charts\"\n",
              "            style=\"display:none;\">\n",
              "\n",
              "<svg xmlns=\"http://www.w3.org/2000/svg\" height=\"24px\"viewBox=\"0 0 24 24\"\n",
              "     width=\"24px\">\n",
              "    <g>\n",
              "        <path d=\"M19 3H5c-1.1 0-2 .9-2 2v14c0 1.1.9 2 2 2h14c1.1 0 2-.9 2-2V5c0-1.1-.9-2-2-2zM9 17H7v-7h2v7zm4 0h-2V7h2v10zm4 0h-2v-4h2v4z\"/>\n",
              "    </g>\n",
              "</svg>\n",
              "  </button>\n",
              "\n",
              "<style>\n",
              "  .colab-df-quickchart {\n",
              "      --bg-color: #E8F0FE;\n",
              "      --fill-color: #1967D2;\n",
              "      --hover-bg-color: #E2EBFA;\n",
              "      --hover-fill-color: #174EA6;\n",
              "      --disabled-fill-color: #AAA;\n",
              "      --disabled-bg-color: #DDD;\n",
              "  }\n",
              "\n",
              "  [theme=dark] .colab-df-quickchart {\n",
              "      --bg-color: #3B4455;\n",
              "      --fill-color: #D2E3FC;\n",
              "      --hover-bg-color: #434B5C;\n",
              "      --hover-fill-color: #FFFFFF;\n",
              "      --disabled-bg-color: #3B4455;\n",
              "      --disabled-fill-color: #666;\n",
              "  }\n",
              "\n",
              "  .colab-df-quickchart {\n",
              "    background-color: var(--bg-color);\n",
              "    border: none;\n",
              "    border-radius: 50%;\n",
              "    cursor: pointer;\n",
              "    display: none;\n",
              "    fill: var(--fill-color);\n",
              "    height: 32px;\n",
              "    padding: 0;\n",
              "    width: 32px;\n",
              "  }\n",
              "\n",
              "  .colab-df-quickchart:hover {\n",
              "    background-color: var(--hover-bg-color);\n",
              "    box-shadow: 0 1px 2px rgba(60, 64, 67, 0.3), 0 1px 3px 1px rgba(60, 64, 67, 0.15);\n",
              "    fill: var(--button-hover-fill-color);\n",
              "  }\n",
              "\n",
              "  .colab-df-quickchart-complete:disabled,\n",
              "  .colab-df-quickchart-complete:disabled:hover {\n",
              "    background-color: var(--disabled-bg-color);\n",
              "    fill: var(--disabled-fill-color);\n",
              "    box-shadow: none;\n",
              "  }\n",
              "\n",
              "  .colab-df-spinner {\n",
              "    border: 2px solid var(--fill-color);\n",
              "    border-color: transparent;\n",
              "    border-bottom-color: var(--fill-color);\n",
              "    animation:\n",
              "      spin 1s steps(1) infinite;\n",
              "  }\n",
              "\n",
              "  @keyframes spin {\n",
              "    0% {\n",
              "      border-color: transparent;\n",
              "      border-bottom-color: var(--fill-color);\n",
              "      border-left-color: var(--fill-color);\n",
              "    }\n",
              "    20% {\n",
              "      border-color: transparent;\n",
              "      border-left-color: var(--fill-color);\n",
              "      border-top-color: var(--fill-color);\n",
              "    }\n",
              "    30% {\n",
              "      border-color: transparent;\n",
              "      border-left-color: var(--fill-color);\n",
              "      border-top-color: var(--fill-color);\n",
              "      border-right-color: var(--fill-color);\n",
              "    }\n",
              "    40% {\n",
              "      border-color: transparent;\n",
              "      border-right-color: var(--fill-color);\n",
              "      border-top-color: var(--fill-color);\n",
              "    }\n",
              "    60% {\n",
              "      border-color: transparent;\n",
              "      border-right-color: var(--fill-color);\n",
              "    }\n",
              "    80% {\n",
              "      border-color: transparent;\n",
              "      border-right-color: var(--fill-color);\n",
              "      border-bottom-color: var(--fill-color);\n",
              "    }\n",
              "    90% {\n",
              "      border-color: transparent;\n",
              "      border-bottom-color: var(--fill-color);\n",
              "    }\n",
              "  }\n",
              "</style>\n",
              "\n",
              "  <script>\n",
              "    async function quickchart(key) {\n",
              "      const quickchartButtonEl =\n",
              "        document.querySelector('#' + key + ' button');\n",
              "      quickchartButtonEl.disabled = true;  // To prevent multiple clicks.\n",
              "      quickchartButtonEl.classList.add('colab-df-spinner');\n",
              "      try {\n",
              "        const charts = await google.colab.kernel.invokeFunction(\n",
              "            'suggestCharts', [key], {});\n",
              "      } catch (error) {\n",
              "        console.error('Error during call to suggestCharts:', error);\n",
              "      }\n",
              "      quickchartButtonEl.classList.remove('colab-df-spinner');\n",
              "      quickchartButtonEl.classList.add('colab-df-quickchart-complete');\n",
              "    }\n",
              "    (() => {\n",
              "      let quickchartButtonEl =\n",
              "        document.querySelector('#df-3f6b210a-2b5e-4ee4-ad03-6be4d40466c7 button');\n",
              "      quickchartButtonEl.style.display =\n",
              "        google.colab.kernel.accessAllowed ? 'block' : 'none';\n",
              "    })();\n",
              "  </script>\n",
              "</div>\n",
              "\n",
              "  <div id=\"id_e6204921-28f0-48c5-bddf-c4b06f89476a\">\n",
              "    <style>\n",
              "      .colab-df-generate {\n",
              "        background-color: #E8F0FE;\n",
              "        border: none;\n",
              "        border-radius: 50%;\n",
              "        cursor: pointer;\n",
              "        display: none;\n",
              "        fill: #1967D2;\n",
              "        height: 32px;\n",
              "        padding: 0 0 0 0;\n",
              "        width: 32px;\n",
              "      }\n",
              "\n",
              "      .colab-df-generate:hover {\n",
              "        background-color: #E2EBFA;\n",
              "        box-shadow: 0px 1px 2px rgba(60, 64, 67, 0.3), 0px 1px 3px 1px rgba(60, 64, 67, 0.15);\n",
              "        fill: #174EA6;\n",
              "      }\n",
              "\n",
              "      [theme=dark] .colab-df-generate {\n",
              "        background-color: #3B4455;\n",
              "        fill: #D2E3FC;\n",
              "      }\n",
              "\n",
              "      [theme=dark] .colab-df-generate:hover {\n",
              "        background-color: #434B5C;\n",
              "        box-shadow: 0px 1px 3px 1px rgba(0, 0, 0, 0.15);\n",
              "        filter: drop-shadow(0px 1px 2px rgba(0, 0, 0, 0.3));\n",
              "        fill: #FFFFFF;\n",
              "      }\n",
              "    </style>\n",
              "    <button class=\"colab-df-generate\" onclick=\"generateWithVariable('dooble_df')\"\n",
              "            title=\"Generate code using this dataframe.\"\n",
              "            style=\"display:none;\">\n",
              "\n",
              "  <svg xmlns=\"http://www.w3.org/2000/svg\" height=\"24px\"viewBox=\"0 0 24 24\"\n",
              "       width=\"24px\">\n",
              "    <path d=\"M7,19H8.4L18.45,9,17,7.55,7,17.6ZM5,21V16.75L18.45,3.32a2,2,0,0,1,2.83,0l1.4,1.43a1.91,1.91,0,0,1,.58,1.4,1.91,1.91,0,0,1-.58,1.4L9.25,21ZM18.45,9,17,7.55Zm-12,3A5.31,5.31,0,0,0,4.9,8.1,5.31,5.31,0,0,0,1,6.5,5.31,5.31,0,0,0,4.9,4.9,5.31,5.31,0,0,0,6.5,1,5.31,5.31,0,0,0,8.1,4.9,5.31,5.31,0,0,0,12,6.5,5.46,5.46,0,0,0,6.5,12Z\"/>\n",
              "  </svg>\n",
              "    </button>\n",
              "    <script>\n",
              "      (() => {\n",
              "      const buttonEl =\n",
              "        document.querySelector('#id_e6204921-28f0-48c5-bddf-c4b06f89476a button.colab-df-generate');\n",
              "      buttonEl.style.display =\n",
              "        google.colab.kernel.accessAllowed ? 'block' : 'none';\n",
              "\n",
              "      buttonEl.onclick = () => {\n",
              "        google.colab.notebook.generateWithVariable('dooble_df');\n",
              "      }\n",
              "      })();\n",
              "    </script>\n",
              "  </div>\n",
              "\n",
              "    </div>\n",
              "  </div>\n"
            ],
            "application/vnd.google.colaboratory.intrinsic+json": {
              "type": "dataframe",
              "variable_name": "dooble_df",
              "summary": "{\n  \"name\": \"dooble_df\",\n  \"rows\": 4,\n  \"fields\": [\n    {\n      \"column\": \"Date\",\n      \"properties\": {\n        \"dtype\": \"number\",\n        \"std\": 129,\n        \"min\": 100,\n        \"max\": 400,\n        \"num_unique_values\": 4,\n        \"samples\": [\n          200,\n          400,\n          100\n        ],\n        \"semantic_type\": \"\",\n        \"description\": \"\"\n      }\n    },\n    {\n      \"column\": \"Volume\",\n      \"properties\": {\n        \"dtype\": \"number\",\n        \"std\": 24717,\n        \"min\": 1500,\n        \"max\": 54700,\n        \"num_unique_values\": 4,\n        \"samples\": [\n          4356,\n          12706,\n          1500\n        ],\n        \"semantic_type\": \"\",\n        \"description\": \"\"\n      }\n    }\n  ]\n}"
            }
          },
          "metadata": {},
          "execution_count": 71
        }
      ]
    },
    {
      "cell_type": "code",
      "source": [
        "# Se debe verificar que el tipo de dato es un DataFrame\n",
        "print(type(simple_df))\n",
        "type(dooble_df)"
      ],
      "metadata": {
        "id": "dZRqg33mW8H7",
        "colab": {
          "base_uri": "https://localhost:8080/",
          "height": 222
        },
        "outputId": "d3cd448b-fc36-4142-f77b-11891aa6d627"
      },
      "execution_count": null,
      "outputs": [
        {
          "output_type": "stream",
          "name": "stdout",
          "text": [
            "<class 'pandas.core.frame.DataFrame'>\n"
          ]
        },
        {
          "output_type": "execute_result",
          "data": {
            "text/plain": [
              "pandas.core.frame.DataFrame"
            ],
            "text/html": [
              "<div style=\"max-width:800px; border: 1px solid var(--colab-border-color);\"><style>\n",
              "      pre.function-repr-contents {\n",
              "        overflow-x: auto;\n",
              "        padding: 8px 12px;\n",
              "        max-height: 500px;\n",
              "      }\n",
              "\n",
              "      pre.function-repr-contents.function-repr-contents-collapsed {\n",
              "        cursor: pointer;\n",
              "        max-height: 100px;\n",
              "      }\n",
              "    </style>\n",
              "    <pre style=\"white-space: initial; background:\n",
              "         var(--colab-secondary-surface-color); padding: 8px 12px;\n",
              "         border-bottom: 1px solid var(--colab-border-color);\"><b>pandas.core.frame.DataFrame</b><br/>def __init__(data=None, index: Axes | None=None, columns: Axes | None=None, dtype: Dtype | None=None, copy: bool | None=None) -&gt; None</pre><pre class=\"function-repr-contents function-repr-contents-collapsed\" style=\"\"><a class=\"filepath\" style=\"display:none\" href=\"#\">/usr/local/lib/python3.10/dist-packages/pandas/core/frame.py</a>Two-dimensional, size-mutable, potentially heterogeneous tabular data.\n",
              "\n",
              "Data structure also contains labeled axes (rows and columns).\n",
              "Arithmetic operations align on both row and column labels. Can be\n",
              "thought of as a dict-like container for Series objects. The primary\n",
              "pandas data structure.\n",
              "\n",
              "Parameters\n",
              "----------\n",
              "data : ndarray (structured or homogeneous), Iterable, dict, or DataFrame\n",
              "    Dict can contain Series, arrays, constants, dataclass or list-like objects. If\n",
              "    data is a dict, column order follows insertion-order. If a dict contains Series\n",
              "    which have an index defined, it is aligned by its index. This alignment also\n",
              "    occurs if data is a Series or a DataFrame itself. Alignment is done on\n",
              "    Series/DataFrame inputs.\n",
              "\n",
              "    If data is a list of dicts, column order follows insertion-order.\n",
              "\n",
              "index : Index or array-like\n",
              "    Index to use for resulting frame. Will default to RangeIndex if\n",
              "    no indexing information part of input data and no index provided.\n",
              "columns : Index or array-like\n",
              "    Column labels to use for resulting frame when data does not have them,\n",
              "    defaulting to RangeIndex(0, 1, 2, ..., n). If data contains column labels,\n",
              "    will perform column selection instead.\n",
              "dtype : dtype, default None\n",
              "    Data type to force. Only a single dtype is allowed. If None, infer.\n",
              "copy : bool or None, default None\n",
              "    Copy data from inputs.\n",
              "    For dict data, the default of None behaves like ``copy=True``.  For DataFrame\n",
              "    or 2d ndarray input, the default of None behaves like ``copy=False``.\n",
              "    If data is a dict containing one or more Series (possibly of different dtypes),\n",
              "    ``copy=False`` will ensure that these inputs are not copied.\n",
              "\n",
              "    .. versionchanged:: 1.3.0\n",
              "\n",
              "See Also\n",
              "--------\n",
              "DataFrame.from_records : Constructor from tuples, also record arrays.\n",
              "DataFrame.from_dict : From dicts of Series, arrays, or dicts.\n",
              "read_csv : Read a comma-separated values (csv) file into DataFrame.\n",
              "read_table : Read general delimited file into DataFrame.\n",
              "read_clipboard : Read text from clipboard into DataFrame.\n",
              "\n",
              "Notes\n",
              "-----\n",
              "Please reference the :ref:`User Guide &lt;basics.dataframe&gt;` for more information.\n",
              "\n",
              "Examples\n",
              "--------\n",
              "Constructing DataFrame from a dictionary.\n",
              "\n",
              "&gt;&gt;&gt; d = {&#x27;col1&#x27;: [1, 2], &#x27;col2&#x27;: [3, 4]}\n",
              "&gt;&gt;&gt; df = pd.DataFrame(data=d)\n",
              "&gt;&gt;&gt; df\n",
              "   col1  col2\n",
              "0     1     3\n",
              "1     2     4\n",
              "\n",
              "Notice that the inferred dtype is int64.\n",
              "\n",
              "&gt;&gt;&gt; df.dtypes\n",
              "col1    int64\n",
              "col2    int64\n",
              "dtype: object\n",
              "\n",
              "To enforce a single dtype:\n",
              "\n",
              "&gt;&gt;&gt; df = pd.DataFrame(data=d, dtype=np.int8)\n",
              "&gt;&gt;&gt; df.dtypes\n",
              "col1    int8\n",
              "col2    int8\n",
              "dtype: object\n",
              "\n",
              "Constructing DataFrame from a dictionary including Series:\n",
              "\n",
              "&gt;&gt;&gt; d = {&#x27;col1&#x27;: [0, 1, 2, 3], &#x27;col2&#x27;: pd.Series([2, 3], index=[2, 3])}\n",
              "&gt;&gt;&gt; pd.DataFrame(data=d, index=[0, 1, 2, 3])\n",
              "   col1  col2\n",
              "0     0   NaN\n",
              "1     1   NaN\n",
              "2     2   2.0\n",
              "3     3   3.0\n",
              "\n",
              "Constructing DataFrame from numpy ndarray:\n",
              "\n",
              "&gt;&gt;&gt; df2 = pd.DataFrame(np.array([[1, 2, 3], [4, 5, 6], [7, 8, 9]]),\n",
              "...                    columns=[&#x27;a&#x27;, &#x27;b&#x27;, &#x27;c&#x27;])\n",
              "&gt;&gt;&gt; df2\n",
              "   a  b  c\n",
              "0  1  2  3\n",
              "1  4  5  6\n",
              "2  7  8  9\n",
              "\n",
              "Constructing DataFrame from a numpy ndarray that has labeled columns:\n",
              "\n",
              "&gt;&gt;&gt; data = np.array([(1, 2, 3), (4, 5, 6), (7, 8, 9)],\n",
              "...                 dtype=[(&quot;a&quot;, &quot;i4&quot;), (&quot;b&quot;, &quot;i4&quot;), (&quot;c&quot;, &quot;i4&quot;)])\n",
              "&gt;&gt;&gt; df3 = pd.DataFrame(data, columns=[&#x27;c&#x27;, &#x27;a&#x27;])\n",
              "...\n",
              "&gt;&gt;&gt; df3\n",
              "   c  a\n",
              "0  3  1\n",
              "1  6  4\n",
              "2  9  7\n",
              "\n",
              "Constructing DataFrame from dataclass:\n",
              "\n",
              "&gt;&gt;&gt; from dataclasses import make_dataclass\n",
              "&gt;&gt;&gt; Point = make_dataclass(&quot;Point&quot;, [(&quot;x&quot;, int), (&quot;y&quot;, int)])\n",
              "&gt;&gt;&gt; pd.DataFrame([Point(0, 0), Point(0, 3), Point(2, 3)])\n",
              "   x  y\n",
              "0  0  0\n",
              "1  0  3\n",
              "2  2  3\n",
              "\n",
              "Constructing DataFrame from Series/DataFrame:\n",
              "\n",
              "&gt;&gt;&gt; ser = pd.Series([1, 2, 3], index=[&quot;a&quot;, &quot;b&quot;, &quot;c&quot;])\n",
              "&gt;&gt;&gt; df = pd.DataFrame(data=ser, index=[&quot;a&quot;, &quot;c&quot;])\n",
              "&gt;&gt;&gt; df\n",
              "   0\n",
              "a  1\n",
              "c  3\n",
              "\n",
              "&gt;&gt;&gt; df1 = pd.DataFrame([1, 2, 3], index=[&quot;a&quot;, &quot;b&quot;, &quot;c&quot;], columns=[&quot;x&quot;])\n",
              "&gt;&gt;&gt; df2 = pd.DataFrame(data=df1, index=[&quot;a&quot;, &quot;c&quot;])\n",
              "&gt;&gt;&gt; df2\n",
              "   x\n",
              "a  1\n",
              "c  3</pre>\n",
              "      <script>\n",
              "      if (google.colab.kernel.accessAllowed && google.colab.files && google.colab.files.view) {\n",
              "        for (const element of document.querySelectorAll('.filepath')) {\n",
              "          element.style.display = 'block'\n",
              "          element.onclick = (event) => {\n",
              "            event.preventDefault();\n",
              "            event.stopPropagation();\n",
              "            google.colab.files.view(element.textContent, 509);\n",
              "          };\n",
              "        }\n",
              "      }\n",
              "      for (const element of document.querySelectorAll('.function-repr-contents')) {\n",
              "        element.onclick = (event) => {\n",
              "          event.preventDefault();\n",
              "          event.stopPropagation();\n",
              "          element.classList.toggle('function-repr-contents-collapsed');\n",
              "        };\n",
              "      }\n",
              "      </script>\n",
              "      </div>"
            ]
          },
          "metadata": {},
          "execution_count": 72
        }
      ]
    },
    {
      "cell_type": "markdown",
      "source": [
        "#**Uso de dataframe**"
      ],
      "metadata": {
        "id": "zpsjj7MVSw5Q"
      }
    },
    {
      "cell_type": "code",
      "source": [
        "!python --version"
      ],
      "metadata": {
        "id": "GoKEibQICHT6",
        "outputId": "2ac08c85-c59e-4136-8a76-da145ecc8a97",
        "colab": {
          "base_uri": "https://localhost:8080/"
        }
      },
      "execution_count": null,
      "outputs": [
        {
          "output_type": "stream",
          "name": "stdout",
          "text": [
            "Python 3.10.12\n"
          ]
        }
      ]
    },
    {
      "cell_type": "code",
      "source": [
        "#Instalar e importar Panda en google colab si se requiere aunque por defecto esta instalada\n",
        "!pip install pandas"
      ],
      "metadata": {
        "id": "h0vlgOpnWUJa",
        "colab": {
          "base_uri": "https://localhost:8080/"
        },
        "outputId": "e5c050a7-30e1-4197-8ebf-0ff1b00b4efd"
      },
      "execution_count": null,
      "outputs": [
        {
          "output_type": "stream",
          "name": "stdout",
          "text": [
            "Requirement already satisfied: pandas in /usr/local/lib/python3.10/dist-packages (2.2.2)\n",
            "Requirement already satisfied: numpy>=1.22.4 in /usr/local/lib/python3.10/dist-packages (from pandas) (1.26.4)\n",
            "Requirement already satisfied: python-dateutil>=2.8.2 in /usr/local/lib/python3.10/dist-packages (from pandas) (2.8.2)\n",
            "Requirement already satisfied: pytz>=2020.1 in /usr/local/lib/python3.10/dist-packages (from pandas) (2024.2)\n",
            "Requirement already satisfied: tzdata>=2022.7 in /usr/local/lib/python3.10/dist-packages (from pandas) (2024.2)\n",
            "Requirement already satisfied: six>=1.5 in /usr/local/lib/python3.10/dist-packages (from python-dateutil>=2.8.2->pandas) (1.16.0)\n"
          ]
        }
      ]
    },
    {
      "cell_type": "code",
      "source": [
        "# Carga de librerias preinstaladas para analitica\n",
        "import numpy as np\n",
        "import pandas as pd"
      ],
      "metadata": {
        "id": "UwUb0GX_YlO3"
      },
      "execution_count": null,
      "outputs": []
    },
    {
      "cell_type": "code",
      "source": [
        "#Cargar un Archivo desde el PC y queda en la carpeta de archivos pero es temporal\n",
        "from google.colab import files\n",
        "uploaded = files.upload()"
      ],
      "metadata": {
        "colab": {
          "base_uri": "https://localhost:8080/",
          "height": 73
        },
        "id": "u10953ee_k_K",
        "outputId": "936f0d0a-1da8-4531-8ad6-c0ca2c8a965e"
      },
      "execution_count": null,
      "outputs": [
        {
          "output_type": "display_data",
          "data": {
            "text/plain": [
              "<IPython.core.display.HTML object>"
            ],
            "text/html": [
              "\n",
              "     <input type=\"file\" id=\"files-7f538e31-2101-41a0-981d-9fe436e07867\" name=\"files[]\" multiple disabled\n",
              "        style=\"border:none\" />\n",
              "     <output id=\"result-7f538e31-2101-41a0-981d-9fe436e07867\">\n",
              "      Upload widget is only available when the cell has been executed in the\n",
              "      current browser session. Please rerun this cell to enable.\n",
              "      </output>\n",
              "      <script>// Copyright 2017 Google LLC\n",
              "//\n",
              "// Licensed under the Apache License, Version 2.0 (the \"License\");\n",
              "// you may not use this file except in compliance with the License.\n",
              "// You may obtain a copy of the License at\n",
              "//\n",
              "//      http://www.apache.org/licenses/LICENSE-2.0\n",
              "//\n",
              "// Unless required by applicable law or agreed to in writing, software\n",
              "// distributed under the License is distributed on an \"AS IS\" BASIS,\n",
              "// WITHOUT WARRANTIES OR CONDITIONS OF ANY KIND, either express or implied.\n",
              "// See the License for the specific language governing permissions and\n",
              "// limitations under the License.\n",
              "\n",
              "/**\n",
              " * @fileoverview Helpers for google.colab Python module.\n",
              " */\n",
              "(function(scope) {\n",
              "function span(text, styleAttributes = {}) {\n",
              "  const element = document.createElement('span');\n",
              "  element.textContent = text;\n",
              "  for (const key of Object.keys(styleAttributes)) {\n",
              "    element.style[key] = styleAttributes[key];\n",
              "  }\n",
              "  return element;\n",
              "}\n",
              "\n",
              "// Max number of bytes which will be uploaded at a time.\n",
              "const MAX_PAYLOAD_SIZE = 100 * 1024;\n",
              "\n",
              "function _uploadFiles(inputId, outputId) {\n",
              "  const steps = uploadFilesStep(inputId, outputId);\n",
              "  const outputElement = document.getElementById(outputId);\n",
              "  // Cache steps on the outputElement to make it available for the next call\n",
              "  // to uploadFilesContinue from Python.\n",
              "  outputElement.steps = steps;\n",
              "\n",
              "  return _uploadFilesContinue(outputId);\n",
              "}\n",
              "\n",
              "// This is roughly an async generator (not supported in the browser yet),\n",
              "// where there are multiple asynchronous steps and the Python side is going\n",
              "// to poll for completion of each step.\n",
              "// This uses a Promise to block the python side on completion of each step,\n",
              "// then passes the result of the previous step as the input to the next step.\n",
              "function _uploadFilesContinue(outputId) {\n",
              "  const outputElement = document.getElementById(outputId);\n",
              "  const steps = outputElement.steps;\n",
              "\n",
              "  const next = steps.next(outputElement.lastPromiseValue);\n",
              "  return Promise.resolve(next.value.promise).then((value) => {\n",
              "    // Cache the last promise value to make it available to the next\n",
              "    // step of the generator.\n",
              "    outputElement.lastPromiseValue = value;\n",
              "    return next.value.response;\n",
              "  });\n",
              "}\n",
              "\n",
              "/**\n",
              " * Generator function which is called between each async step of the upload\n",
              " * process.\n",
              " * @param {string} inputId Element ID of the input file picker element.\n",
              " * @param {string} outputId Element ID of the output display.\n",
              " * @return {!Iterable<!Object>} Iterable of next steps.\n",
              " */\n",
              "function* uploadFilesStep(inputId, outputId) {\n",
              "  const inputElement = document.getElementById(inputId);\n",
              "  inputElement.disabled = false;\n",
              "\n",
              "  const outputElement = document.getElementById(outputId);\n",
              "  outputElement.innerHTML = '';\n",
              "\n",
              "  const pickedPromise = new Promise((resolve) => {\n",
              "    inputElement.addEventListener('change', (e) => {\n",
              "      resolve(e.target.files);\n",
              "    });\n",
              "  });\n",
              "\n",
              "  const cancel = document.createElement('button');\n",
              "  inputElement.parentElement.appendChild(cancel);\n",
              "  cancel.textContent = 'Cancel upload';\n",
              "  const cancelPromise = new Promise((resolve) => {\n",
              "    cancel.onclick = () => {\n",
              "      resolve(null);\n",
              "    };\n",
              "  });\n",
              "\n",
              "  // Wait for the user to pick the files.\n",
              "  const files = yield {\n",
              "    promise: Promise.race([pickedPromise, cancelPromise]),\n",
              "    response: {\n",
              "      action: 'starting',\n",
              "    }\n",
              "  };\n",
              "\n",
              "  cancel.remove();\n",
              "\n",
              "  // Disable the input element since further picks are not allowed.\n",
              "  inputElement.disabled = true;\n",
              "\n",
              "  if (!files) {\n",
              "    return {\n",
              "      response: {\n",
              "        action: 'complete',\n",
              "      }\n",
              "    };\n",
              "  }\n",
              "\n",
              "  for (const file of files) {\n",
              "    const li = document.createElement('li');\n",
              "    li.append(span(file.name, {fontWeight: 'bold'}));\n",
              "    li.append(span(\n",
              "        `(${file.type || 'n/a'}) - ${file.size} bytes, ` +\n",
              "        `last modified: ${\n",
              "            file.lastModifiedDate ? file.lastModifiedDate.toLocaleDateString() :\n",
              "                                    'n/a'} - `));\n",
              "    const percent = span('0% done');\n",
              "    li.appendChild(percent);\n",
              "\n",
              "    outputElement.appendChild(li);\n",
              "\n",
              "    const fileDataPromise = new Promise((resolve) => {\n",
              "      const reader = new FileReader();\n",
              "      reader.onload = (e) => {\n",
              "        resolve(e.target.result);\n",
              "      };\n",
              "      reader.readAsArrayBuffer(file);\n",
              "    });\n",
              "    // Wait for the data to be ready.\n",
              "    let fileData = yield {\n",
              "      promise: fileDataPromise,\n",
              "      response: {\n",
              "        action: 'continue',\n",
              "      }\n",
              "    };\n",
              "\n",
              "    // Use a chunked sending to avoid message size limits. See b/62115660.\n",
              "    let position = 0;\n",
              "    do {\n",
              "      const length = Math.min(fileData.byteLength - position, MAX_PAYLOAD_SIZE);\n",
              "      const chunk = new Uint8Array(fileData, position, length);\n",
              "      position += length;\n",
              "\n",
              "      const base64 = btoa(String.fromCharCode.apply(null, chunk));\n",
              "      yield {\n",
              "        response: {\n",
              "          action: 'append',\n",
              "          file: file.name,\n",
              "          data: base64,\n",
              "        },\n",
              "      };\n",
              "\n",
              "      let percentDone = fileData.byteLength === 0 ?\n",
              "          100 :\n",
              "          Math.round((position / fileData.byteLength) * 100);\n",
              "      percent.textContent = `${percentDone}% done`;\n",
              "\n",
              "    } while (position < fileData.byteLength);\n",
              "  }\n",
              "\n",
              "  // All done.\n",
              "  yield {\n",
              "    response: {\n",
              "      action: 'complete',\n",
              "    }\n",
              "  };\n",
              "}\n",
              "\n",
              "scope.google = scope.google || {};\n",
              "scope.google.colab = scope.google.colab || {};\n",
              "scope.google.colab._files = {\n",
              "  _uploadFiles,\n",
              "  _uploadFilesContinue,\n",
              "};\n",
              "})(self);\n",
              "</script> "
            ]
          },
          "metadata": {}
        },
        {
          "output_type": "stream",
          "name": "stdout",
          "text": [
            "Saving datos_paises.csv to datos_paises (1).csv\n"
          ]
        }
      ]
    },
    {
      "cell_type": "code",
      "source": [
        "# # Si se carga archivo csv\n",
        "df = pd.read_csv(\"datos_paises.csv\", sep=';')\n",
        "df"
      ],
      "metadata": {
        "colab": {
          "base_uri": "https://localhost:8080/",
          "height": 423
        },
        "id": "p9ry7A6__5BU",
        "outputId": "befcf894-b2f2-44a1-d346-88c90d081418"
      },
      "execution_count": null,
      "outputs": [
        {
          "output_type": "execute_result",
          "data": {
            "text/plain": [
              "                            pais continente        km2  poblacion_miles\n",
              "0                          China       Asia  9600000.0          1409517\n",
              "1                          India       Asia  3287263.0          1339180\n",
              "2       United States of America    America  9833517.0           324460\n",
              "3                      Indonesia       Asia  1910931.0           263991\n",
              "4                         Brazil    America  8515767.0           209288\n",
              "..                           ...        ...        ...              ...\n",
              "224                 Saint Helena     Africa      308.0                4\n",
              "225  Falkland Islands (Malvinas)    America    12173.0                3\n",
              "226                         Niue    Oceania      260.0                2\n",
              "227                     Holy See     Europa        1.0                1\n",
              "228                      Tokelau    Oceania       12.0                1\n",
              "\n",
              "[229 rows x 4 columns]"
            ],
            "text/html": [
              "\n",
              "  <div id=\"df-a324b6ba-45af-4185-a11e-6c4d286a5c22\" class=\"colab-df-container\">\n",
              "    <div>\n",
              "<style scoped>\n",
              "    .dataframe tbody tr th:only-of-type {\n",
              "        vertical-align: middle;\n",
              "    }\n",
              "\n",
              "    .dataframe tbody tr th {\n",
              "        vertical-align: top;\n",
              "    }\n",
              "\n",
              "    .dataframe thead th {\n",
              "        text-align: right;\n",
              "    }\n",
              "</style>\n",
              "<table border=\"1\" class=\"dataframe\">\n",
              "  <thead>\n",
              "    <tr style=\"text-align: right;\">\n",
              "      <th></th>\n",
              "      <th>pais</th>\n",
              "      <th>continente</th>\n",
              "      <th>km2</th>\n",
              "      <th>poblacion_miles</th>\n",
              "    </tr>\n",
              "  </thead>\n",
              "  <tbody>\n",
              "    <tr>\n",
              "      <th>0</th>\n",
              "      <td>China</td>\n",
              "      <td>Asia</td>\n",
              "      <td>9600000.0</td>\n",
              "      <td>1409517</td>\n",
              "    </tr>\n",
              "    <tr>\n",
              "      <th>1</th>\n",
              "      <td>India</td>\n",
              "      <td>Asia</td>\n",
              "      <td>3287263.0</td>\n",
              "      <td>1339180</td>\n",
              "    </tr>\n",
              "    <tr>\n",
              "      <th>2</th>\n",
              "      <td>United States of America</td>\n",
              "      <td>America</td>\n",
              "      <td>9833517.0</td>\n",
              "      <td>324460</td>\n",
              "    </tr>\n",
              "    <tr>\n",
              "      <th>3</th>\n",
              "      <td>Indonesia</td>\n",
              "      <td>Asia</td>\n",
              "      <td>1910931.0</td>\n",
              "      <td>263991</td>\n",
              "    </tr>\n",
              "    <tr>\n",
              "      <th>4</th>\n",
              "      <td>Brazil</td>\n",
              "      <td>America</td>\n",
              "      <td>8515767.0</td>\n",
              "      <td>209288</td>\n",
              "    </tr>\n",
              "    <tr>\n",
              "      <th>...</th>\n",
              "      <td>...</td>\n",
              "      <td>...</td>\n",
              "      <td>...</td>\n",
              "      <td>...</td>\n",
              "    </tr>\n",
              "    <tr>\n",
              "      <th>224</th>\n",
              "      <td>Saint Helena</td>\n",
              "      <td>Africa</td>\n",
              "      <td>308.0</td>\n",
              "      <td>4</td>\n",
              "    </tr>\n",
              "    <tr>\n",
              "      <th>225</th>\n",
              "      <td>Falkland Islands (Malvinas)</td>\n",
              "      <td>America</td>\n",
              "      <td>12173.0</td>\n",
              "      <td>3</td>\n",
              "    </tr>\n",
              "    <tr>\n",
              "      <th>226</th>\n",
              "      <td>Niue</td>\n",
              "      <td>Oceania</td>\n",
              "      <td>260.0</td>\n",
              "      <td>2</td>\n",
              "    </tr>\n",
              "    <tr>\n",
              "      <th>227</th>\n",
              "      <td>Holy See</td>\n",
              "      <td>Europa</td>\n",
              "      <td>1.0</td>\n",
              "      <td>1</td>\n",
              "    </tr>\n",
              "    <tr>\n",
              "      <th>228</th>\n",
              "      <td>Tokelau</td>\n",
              "      <td>Oceania</td>\n",
              "      <td>12.0</td>\n",
              "      <td>1</td>\n",
              "    </tr>\n",
              "  </tbody>\n",
              "</table>\n",
              "<p>229 rows × 4 columns</p>\n",
              "</div>\n",
              "    <div class=\"colab-df-buttons\">\n",
              "\n",
              "  <div class=\"colab-df-container\">\n",
              "    <button class=\"colab-df-convert\" onclick=\"convertToInteractive('df-a324b6ba-45af-4185-a11e-6c4d286a5c22')\"\n",
              "            title=\"Convert this dataframe to an interactive table.\"\n",
              "            style=\"display:none;\">\n",
              "\n",
              "  <svg xmlns=\"http://www.w3.org/2000/svg\" height=\"24px\" viewBox=\"0 -960 960 960\">\n",
              "    <path d=\"M120-120v-720h720v720H120Zm60-500h600v-160H180v160Zm220 220h160v-160H400v160Zm0 220h160v-160H400v160ZM180-400h160v-160H180v160Zm440 0h160v-160H620v160ZM180-180h160v-160H180v160Zm440 0h160v-160H620v160Z\"/>\n",
              "  </svg>\n",
              "    </button>\n",
              "\n",
              "  <style>\n",
              "    .colab-df-container {\n",
              "      display:flex;\n",
              "      gap: 12px;\n",
              "    }\n",
              "\n",
              "    .colab-df-convert {\n",
              "      background-color: #E8F0FE;\n",
              "      border: none;\n",
              "      border-radius: 50%;\n",
              "      cursor: pointer;\n",
              "      display: none;\n",
              "      fill: #1967D2;\n",
              "      height: 32px;\n",
              "      padding: 0 0 0 0;\n",
              "      width: 32px;\n",
              "    }\n",
              "\n",
              "    .colab-df-convert:hover {\n",
              "      background-color: #E2EBFA;\n",
              "      box-shadow: 0px 1px 2px rgba(60, 64, 67, 0.3), 0px 1px 3px 1px rgba(60, 64, 67, 0.15);\n",
              "      fill: #174EA6;\n",
              "    }\n",
              "\n",
              "    .colab-df-buttons div {\n",
              "      margin-bottom: 4px;\n",
              "    }\n",
              "\n",
              "    [theme=dark] .colab-df-convert {\n",
              "      background-color: #3B4455;\n",
              "      fill: #D2E3FC;\n",
              "    }\n",
              "\n",
              "    [theme=dark] .colab-df-convert:hover {\n",
              "      background-color: #434B5C;\n",
              "      box-shadow: 0px 1px 3px 1px rgba(0, 0, 0, 0.15);\n",
              "      filter: drop-shadow(0px 1px 2px rgba(0, 0, 0, 0.3));\n",
              "      fill: #FFFFFF;\n",
              "    }\n",
              "  </style>\n",
              "\n",
              "    <script>\n",
              "      const buttonEl =\n",
              "        document.querySelector('#df-a324b6ba-45af-4185-a11e-6c4d286a5c22 button.colab-df-convert');\n",
              "      buttonEl.style.display =\n",
              "        google.colab.kernel.accessAllowed ? 'block' : 'none';\n",
              "\n",
              "      async function convertToInteractive(key) {\n",
              "        const element = document.querySelector('#df-a324b6ba-45af-4185-a11e-6c4d286a5c22');\n",
              "        const dataTable =\n",
              "          await google.colab.kernel.invokeFunction('convertToInteractive',\n",
              "                                                    [key], {});\n",
              "        if (!dataTable) return;\n",
              "\n",
              "        const docLinkHtml = 'Like what you see? Visit the ' +\n",
              "          '<a target=\"_blank\" href=https://colab.research.google.com/notebooks/data_table.ipynb>data table notebook</a>'\n",
              "          + ' to learn more about interactive tables.';\n",
              "        element.innerHTML = '';\n",
              "        dataTable['output_type'] = 'display_data';\n",
              "        await google.colab.output.renderOutput(dataTable, element);\n",
              "        const docLink = document.createElement('div');\n",
              "        docLink.innerHTML = docLinkHtml;\n",
              "        element.appendChild(docLink);\n",
              "      }\n",
              "    </script>\n",
              "  </div>\n",
              "\n",
              "\n",
              "<div id=\"df-3e201f8a-9785-4caa-8b01-1df5e82f2afe\">\n",
              "  <button class=\"colab-df-quickchart\" onclick=\"quickchart('df-3e201f8a-9785-4caa-8b01-1df5e82f2afe')\"\n",
              "            title=\"Suggest charts\"\n",
              "            style=\"display:none;\">\n",
              "\n",
              "<svg xmlns=\"http://www.w3.org/2000/svg\" height=\"24px\"viewBox=\"0 0 24 24\"\n",
              "     width=\"24px\">\n",
              "    <g>\n",
              "        <path d=\"M19 3H5c-1.1 0-2 .9-2 2v14c0 1.1.9 2 2 2h14c1.1 0 2-.9 2-2V5c0-1.1-.9-2-2-2zM9 17H7v-7h2v7zm4 0h-2V7h2v10zm4 0h-2v-4h2v4z\"/>\n",
              "    </g>\n",
              "</svg>\n",
              "  </button>\n",
              "\n",
              "<style>\n",
              "  .colab-df-quickchart {\n",
              "      --bg-color: #E8F0FE;\n",
              "      --fill-color: #1967D2;\n",
              "      --hover-bg-color: #E2EBFA;\n",
              "      --hover-fill-color: #174EA6;\n",
              "      --disabled-fill-color: #AAA;\n",
              "      --disabled-bg-color: #DDD;\n",
              "  }\n",
              "\n",
              "  [theme=dark] .colab-df-quickchart {\n",
              "      --bg-color: #3B4455;\n",
              "      --fill-color: #D2E3FC;\n",
              "      --hover-bg-color: #434B5C;\n",
              "      --hover-fill-color: #FFFFFF;\n",
              "      --disabled-bg-color: #3B4455;\n",
              "      --disabled-fill-color: #666;\n",
              "  }\n",
              "\n",
              "  .colab-df-quickchart {\n",
              "    background-color: var(--bg-color);\n",
              "    border: none;\n",
              "    border-radius: 50%;\n",
              "    cursor: pointer;\n",
              "    display: none;\n",
              "    fill: var(--fill-color);\n",
              "    height: 32px;\n",
              "    padding: 0;\n",
              "    width: 32px;\n",
              "  }\n",
              "\n",
              "  .colab-df-quickchart:hover {\n",
              "    background-color: var(--hover-bg-color);\n",
              "    box-shadow: 0 1px 2px rgba(60, 64, 67, 0.3), 0 1px 3px 1px rgba(60, 64, 67, 0.15);\n",
              "    fill: var(--button-hover-fill-color);\n",
              "  }\n",
              "\n",
              "  .colab-df-quickchart-complete:disabled,\n",
              "  .colab-df-quickchart-complete:disabled:hover {\n",
              "    background-color: var(--disabled-bg-color);\n",
              "    fill: var(--disabled-fill-color);\n",
              "    box-shadow: none;\n",
              "  }\n",
              "\n",
              "  .colab-df-spinner {\n",
              "    border: 2px solid var(--fill-color);\n",
              "    border-color: transparent;\n",
              "    border-bottom-color: var(--fill-color);\n",
              "    animation:\n",
              "      spin 1s steps(1) infinite;\n",
              "  }\n",
              "\n",
              "  @keyframes spin {\n",
              "    0% {\n",
              "      border-color: transparent;\n",
              "      border-bottom-color: var(--fill-color);\n",
              "      border-left-color: var(--fill-color);\n",
              "    }\n",
              "    20% {\n",
              "      border-color: transparent;\n",
              "      border-left-color: var(--fill-color);\n",
              "      border-top-color: var(--fill-color);\n",
              "    }\n",
              "    30% {\n",
              "      border-color: transparent;\n",
              "      border-left-color: var(--fill-color);\n",
              "      border-top-color: var(--fill-color);\n",
              "      border-right-color: var(--fill-color);\n",
              "    }\n",
              "    40% {\n",
              "      border-color: transparent;\n",
              "      border-right-color: var(--fill-color);\n",
              "      border-top-color: var(--fill-color);\n",
              "    }\n",
              "    60% {\n",
              "      border-color: transparent;\n",
              "      border-right-color: var(--fill-color);\n",
              "    }\n",
              "    80% {\n",
              "      border-color: transparent;\n",
              "      border-right-color: var(--fill-color);\n",
              "      border-bottom-color: var(--fill-color);\n",
              "    }\n",
              "    90% {\n",
              "      border-color: transparent;\n",
              "      border-bottom-color: var(--fill-color);\n",
              "    }\n",
              "  }\n",
              "</style>\n",
              "\n",
              "  <script>\n",
              "    async function quickchart(key) {\n",
              "      const quickchartButtonEl =\n",
              "        document.querySelector('#' + key + ' button');\n",
              "      quickchartButtonEl.disabled = true;  // To prevent multiple clicks.\n",
              "      quickchartButtonEl.classList.add('colab-df-spinner');\n",
              "      try {\n",
              "        const charts = await google.colab.kernel.invokeFunction(\n",
              "            'suggestCharts', [key], {});\n",
              "      } catch (error) {\n",
              "        console.error('Error during call to suggestCharts:', error);\n",
              "      }\n",
              "      quickchartButtonEl.classList.remove('colab-df-spinner');\n",
              "      quickchartButtonEl.classList.add('colab-df-quickchart-complete');\n",
              "    }\n",
              "    (() => {\n",
              "      let quickchartButtonEl =\n",
              "        document.querySelector('#df-3e201f8a-9785-4caa-8b01-1df5e82f2afe button');\n",
              "      quickchartButtonEl.style.display =\n",
              "        google.colab.kernel.accessAllowed ? 'block' : 'none';\n",
              "    })();\n",
              "  </script>\n",
              "</div>\n",
              "\n",
              "  <div id=\"id_4320b7c2-6ce8-41a1-a16a-8efc584c1631\">\n",
              "    <style>\n",
              "      .colab-df-generate {\n",
              "        background-color: #E8F0FE;\n",
              "        border: none;\n",
              "        border-radius: 50%;\n",
              "        cursor: pointer;\n",
              "        display: none;\n",
              "        fill: #1967D2;\n",
              "        height: 32px;\n",
              "        padding: 0 0 0 0;\n",
              "        width: 32px;\n",
              "      }\n",
              "\n",
              "      .colab-df-generate:hover {\n",
              "        background-color: #E2EBFA;\n",
              "        box-shadow: 0px 1px 2px rgba(60, 64, 67, 0.3), 0px 1px 3px 1px rgba(60, 64, 67, 0.15);\n",
              "        fill: #174EA6;\n",
              "      }\n",
              "\n",
              "      [theme=dark] .colab-df-generate {\n",
              "        background-color: #3B4455;\n",
              "        fill: #D2E3FC;\n",
              "      }\n",
              "\n",
              "      [theme=dark] .colab-df-generate:hover {\n",
              "        background-color: #434B5C;\n",
              "        box-shadow: 0px 1px 3px 1px rgba(0, 0, 0, 0.15);\n",
              "        filter: drop-shadow(0px 1px 2px rgba(0, 0, 0, 0.3));\n",
              "        fill: #FFFFFF;\n",
              "      }\n",
              "    </style>\n",
              "    <button class=\"colab-df-generate\" onclick=\"generateWithVariable('df')\"\n",
              "            title=\"Generate code using this dataframe.\"\n",
              "            style=\"display:none;\">\n",
              "\n",
              "  <svg xmlns=\"http://www.w3.org/2000/svg\" height=\"24px\"viewBox=\"0 0 24 24\"\n",
              "       width=\"24px\">\n",
              "    <path d=\"M7,19H8.4L18.45,9,17,7.55,7,17.6ZM5,21V16.75L18.45,3.32a2,2,0,0,1,2.83,0l1.4,1.43a1.91,1.91,0,0,1,.58,1.4,1.91,1.91,0,0,1-.58,1.4L9.25,21ZM18.45,9,17,7.55Zm-12,3A5.31,5.31,0,0,0,4.9,8.1,5.31,5.31,0,0,0,1,6.5,5.31,5.31,0,0,0,4.9,4.9,5.31,5.31,0,0,0,6.5,1,5.31,5.31,0,0,0,8.1,4.9,5.31,5.31,0,0,0,12,6.5,5.46,5.46,0,0,0,6.5,12Z\"/>\n",
              "  </svg>\n",
              "    </button>\n",
              "    <script>\n",
              "      (() => {\n",
              "      const buttonEl =\n",
              "        document.querySelector('#id_4320b7c2-6ce8-41a1-a16a-8efc584c1631 button.colab-df-generate');\n",
              "      buttonEl.style.display =\n",
              "        google.colab.kernel.accessAllowed ? 'block' : 'none';\n",
              "\n",
              "      buttonEl.onclick = () => {\n",
              "        google.colab.notebook.generateWithVariable('df');\n",
              "      }\n",
              "      })();\n",
              "    </script>\n",
              "  </div>\n",
              "\n",
              "    </div>\n",
              "  </div>\n"
            ],
            "application/vnd.google.colaboratory.intrinsic+json": {
              "type": "dataframe",
              "variable_name": "df",
              "summary": "{\n  \"name\": \"df\",\n  \"rows\": 229,\n  \"fields\": [\n    {\n      \"column\": \"pais\",\n      \"properties\": {\n        \"dtype\": \"string\",\n        \"num_unique_values\": 229,\n        \"samples\": [\n          \"Palau\",\n          \"Ecuador\",\n          \"Mexico\"\n        ],\n        \"semantic_type\": \"\",\n        \"description\": \"\"\n      }\n    },\n    {\n      \"column\": \"continente\",\n      \"properties\": {\n        \"dtype\": \"category\",\n        \"num_unique_values\": 5,\n        \"samples\": [\n          \"America\",\n          \"Oceania\",\n          \"Africa\"\n        ],\n        \"semantic_type\": \"\",\n        \"description\": \"\"\n      }\n    },\n    {\n      \"column\": \"km2\",\n      \"properties\": {\n        \"dtype\": \"number\",\n        \"std\": 1788950.4723145217,\n        \"min\": 1.0,\n        \"max\": 17098246.0,\n        \"num_unique_values\": 225,\n        \"samples\": [\n          1964375.0,\n          539.0,\n          111369.0\n        ],\n        \"semantic_type\": \"\",\n        \"description\": \"\"\n      }\n    },\n    {\n      \"column\": \"poblacion_miles\",\n      \"properties\": {\n        \"dtype\": \"number\",\n        \"std\": 133275,\n        \"min\": 1,\n        \"max\": 1409517,\n        \"num_unique_values\": 218,\n        \"samples\": [\n          7557,\n          3,\n          2292\n        ],\n        \"semantic_type\": \"\",\n        \"description\": \"\"\n      }\n    }\n  ]\n}"
            }
          },
          "metadata": {},
          "execution_count": 25
        }
      ]
    },
    {
      "cell_type": "code",
      "source": [
        "#para ver la ayuda de cada comando\n",
        "pd?"
      ],
      "metadata": {
        "id": "EDrGBO0pbdMG"
      },
      "execution_count": null,
      "outputs": []
    },
    {
      "cell_type": "code",
      "source": [
        "df.info()"
      ],
      "metadata": {
        "colab": {
          "base_uri": "https://localhost:8080/"
        },
        "id": "m_nxDP3uI5W4",
        "outputId": "1d5536a1-47fb-43a9-dd97-31f70c50c4f9"
      },
      "execution_count": null,
      "outputs": [
        {
          "output_type": "stream",
          "name": "stdout",
          "text": [
            "<class 'pandas.core.frame.DataFrame'>\n",
            "RangeIndex: 229 entries, 0 to 228\n",
            "Data columns (total 4 columns):\n",
            " #   Column           Non-Null Count  Dtype  \n",
            "---  ------           --------------  -----  \n",
            " 0   pais             229 non-null    object \n",
            " 1   continente       229 non-null    object \n",
            " 2   km2              228 non-null    float64\n",
            " 3   poblacion_miles  229 non-null    int64  \n",
            "dtypes: float64(1), int64(1), object(2)\n",
            "memory usage: 7.3+ KB\n"
          ]
        }
      ]
    },
    {
      "cell_type": "code",
      "source": [
        "df.shape"
      ],
      "metadata": {
        "colab": {
          "base_uri": "https://localhost:8080/"
        },
        "id": "MxVG18jgb4-N",
        "outputId": "817c5e4c-7783-4a66-dc55-e7d9c2a86d88"
      },
      "execution_count": null,
      "outputs": [
        {
          "output_type": "execute_result",
          "data": {
            "text/plain": [
              "(229, 4)"
            ]
          },
          "metadata": {},
          "execution_count": 77
        }
      ]
    },
    {
      "cell_type": "code",
      "source": [
        "#Ver el principio del archivo\n",
        "df.head(10)"
      ],
      "metadata": {
        "id": "mQV_8-4WbPVg",
        "colab": {
          "base_uri": "https://localhost:8080/",
          "height": 363
        },
        "outputId": "a7c8c43b-e4fb-4e51-ba93-d1db04ea0a3d"
      },
      "execution_count": null,
      "outputs": [
        {
          "output_type": "execute_result",
          "data": {
            "text/plain": [
              "                       pais continente         km2  poblacion_miles\n",
              "0                     China       Asia   9600000.0          1409517\n",
              "1                     India       Asia   3287263.0          1339180\n",
              "2  United States of America    America   9833517.0           324460\n",
              "3                 Indonesia       Asia   1910931.0           263991\n",
              "4                    Brazil    America   8515767.0           209288\n",
              "5                  Pakistan       Asia    796095.0           197016\n",
              "6                   Nigeria     Africa    923768.0           190886\n",
              "7                Bangladesh       Asia    147570.0           164670\n",
              "8        Russian Federation     Europa  17098246.0           143990\n",
              "9                    Mexico    America   1964375.0           129163"
            ],
            "text/html": [
              "\n",
              "  <div id=\"df-b8af3068-fdae-4436-ba4a-41b84b5a1684\" class=\"colab-df-container\">\n",
              "    <div>\n",
              "<style scoped>\n",
              "    .dataframe tbody tr th:only-of-type {\n",
              "        vertical-align: middle;\n",
              "    }\n",
              "\n",
              "    .dataframe tbody tr th {\n",
              "        vertical-align: top;\n",
              "    }\n",
              "\n",
              "    .dataframe thead th {\n",
              "        text-align: right;\n",
              "    }\n",
              "</style>\n",
              "<table border=\"1\" class=\"dataframe\">\n",
              "  <thead>\n",
              "    <tr style=\"text-align: right;\">\n",
              "      <th></th>\n",
              "      <th>pais</th>\n",
              "      <th>continente</th>\n",
              "      <th>km2</th>\n",
              "      <th>poblacion_miles</th>\n",
              "    </tr>\n",
              "  </thead>\n",
              "  <tbody>\n",
              "    <tr>\n",
              "      <th>0</th>\n",
              "      <td>China</td>\n",
              "      <td>Asia</td>\n",
              "      <td>9600000.0</td>\n",
              "      <td>1409517</td>\n",
              "    </tr>\n",
              "    <tr>\n",
              "      <th>1</th>\n",
              "      <td>India</td>\n",
              "      <td>Asia</td>\n",
              "      <td>3287263.0</td>\n",
              "      <td>1339180</td>\n",
              "    </tr>\n",
              "    <tr>\n",
              "      <th>2</th>\n",
              "      <td>United States of America</td>\n",
              "      <td>America</td>\n",
              "      <td>9833517.0</td>\n",
              "      <td>324460</td>\n",
              "    </tr>\n",
              "    <tr>\n",
              "      <th>3</th>\n",
              "      <td>Indonesia</td>\n",
              "      <td>Asia</td>\n",
              "      <td>1910931.0</td>\n",
              "      <td>263991</td>\n",
              "    </tr>\n",
              "    <tr>\n",
              "      <th>4</th>\n",
              "      <td>Brazil</td>\n",
              "      <td>America</td>\n",
              "      <td>8515767.0</td>\n",
              "      <td>209288</td>\n",
              "    </tr>\n",
              "    <tr>\n",
              "      <th>5</th>\n",
              "      <td>Pakistan</td>\n",
              "      <td>Asia</td>\n",
              "      <td>796095.0</td>\n",
              "      <td>197016</td>\n",
              "    </tr>\n",
              "    <tr>\n",
              "      <th>6</th>\n",
              "      <td>Nigeria</td>\n",
              "      <td>Africa</td>\n",
              "      <td>923768.0</td>\n",
              "      <td>190886</td>\n",
              "    </tr>\n",
              "    <tr>\n",
              "      <th>7</th>\n",
              "      <td>Bangladesh</td>\n",
              "      <td>Asia</td>\n",
              "      <td>147570.0</td>\n",
              "      <td>164670</td>\n",
              "    </tr>\n",
              "    <tr>\n",
              "      <th>8</th>\n",
              "      <td>Russian Federation</td>\n",
              "      <td>Europa</td>\n",
              "      <td>17098246.0</td>\n",
              "      <td>143990</td>\n",
              "    </tr>\n",
              "    <tr>\n",
              "      <th>9</th>\n",
              "      <td>Mexico</td>\n",
              "      <td>America</td>\n",
              "      <td>1964375.0</td>\n",
              "      <td>129163</td>\n",
              "    </tr>\n",
              "  </tbody>\n",
              "</table>\n",
              "</div>\n",
              "    <div class=\"colab-df-buttons\">\n",
              "\n",
              "  <div class=\"colab-df-container\">\n",
              "    <button class=\"colab-df-convert\" onclick=\"convertToInteractive('df-b8af3068-fdae-4436-ba4a-41b84b5a1684')\"\n",
              "            title=\"Convert this dataframe to an interactive table.\"\n",
              "            style=\"display:none;\">\n",
              "\n",
              "  <svg xmlns=\"http://www.w3.org/2000/svg\" height=\"24px\" viewBox=\"0 -960 960 960\">\n",
              "    <path d=\"M120-120v-720h720v720H120Zm60-500h600v-160H180v160Zm220 220h160v-160H400v160Zm0 220h160v-160H400v160ZM180-400h160v-160H180v160Zm440 0h160v-160H620v160ZM180-180h160v-160H180v160Zm440 0h160v-160H620v160Z\"/>\n",
              "  </svg>\n",
              "    </button>\n",
              "\n",
              "  <style>\n",
              "    .colab-df-container {\n",
              "      display:flex;\n",
              "      gap: 12px;\n",
              "    }\n",
              "\n",
              "    .colab-df-convert {\n",
              "      background-color: #E8F0FE;\n",
              "      border: none;\n",
              "      border-radius: 50%;\n",
              "      cursor: pointer;\n",
              "      display: none;\n",
              "      fill: #1967D2;\n",
              "      height: 32px;\n",
              "      padding: 0 0 0 0;\n",
              "      width: 32px;\n",
              "    }\n",
              "\n",
              "    .colab-df-convert:hover {\n",
              "      background-color: #E2EBFA;\n",
              "      box-shadow: 0px 1px 2px rgba(60, 64, 67, 0.3), 0px 1px 3px 1px rgba(60, 64, 67, 0.15);\n",
              "      fill: #174EA6;\n",
              "    }\n",
              "\n",
              "    .colab-df-buttons div {\n",
              "      margin-bottom: 4px;\n",
              "    }\n",
              "\n",
              "    [theme=dark] .colab-df-convert {\n",
              "      background-color: #3B4455;\n",
              "      fill: #D2E3FC;\n",
              "    }\n",
              "\n",
              "    [theme=dark] .colab-df-convert:hover {\n",
              "      background-color: #434B5C;\n",
              "      box-shadow: 0px 1px 3px 1px rgba(0, 0, 0, 0.15);\n",
              "      filter: drop-shadow(0px 1px 2px rgba(0, 0, 0, 0.3));\n",
              "      fill: #FFFFFF;\n",
              "    }\n",
              "  </style>\n",
              "\n",
              "    <script>\n",
              "      const buttonEl =\n",
              "        document.querySelector('#df-b8af3068-fdae-4436-ba4a-41b84b5a1684 button.colab-df-convert');\n",
              "      buttonEl.style.display =\n",
              "        google.colab.kernel.accessAllowed ? 'block' : 'none';\n",
              "\n",
              "      async function convertToInteractive(key) {\n",
              "        const element = document.querySelector('#df-b8af3068-fdae-4436-ba4a-41b84b5a1684');\n",
              "        const dataTable =\n",
              "          await google.colab.kernel.invokeFunction('convertToInteractive',\n",
              "                                                    [key], {});\n",
              "        if (!dataTable) return;\n",
              "\n",
              "        const docLinkHtml = 'Like what you see? Visit the ' +\n",
              "          '<a target=\"_blank\" href=https://colab.research.google.com/notebooks/data_table.ipynb>data table notebook</a>'\n",
              "          + ' to learn more about interactive tables.';\n",
              "        element.innerHTML = '';\n",
              "        dataTable['output_type'] = 'display_data';\n",
              "        await google.colab.output.renderOutput(dataTable, element);\n",
              "        const docLink = document.createElement('div');\n",
              "        docLink.innerHTML = docLinkHtml;\n",
              "        element.appendChild(docLink);\n",
              "      }\n",
              "    </script>\n",
              "  </div>\n",
              "\n",
              "\n",
              "<div id=\"df-d0ea3b60-4157-4535-9baa-c812dc804dc0\">\n",
              "  <button class=\"colab-df-quickchart\" onclick=\"quickchart('df-d0ea3b60-4157-4535-9baa-c812dc804dc0')\"\n",
              "            title=\"Suggest charts\"\n",
              "            style=\"display:none;\">\n",
              "\n",
              "<svg xmlns=\"http://www.w3.org/2000/svg\" height=\"24px\"viewBox=\"0 0 24 24\"\n",
              "     width=\"24px\">\n",
              "    <g>\n",
              "        <path d=\"M19 3H5c-1.1 0-2 .9-2 2v14c0 1.1.9 2 2 2h14c1.1 0 2-.9 2-2V5c0-1.1-.9-2-2-2zM9 17H7v-7h2v7zm4 0h-2V7h2v10zm4 0h-2v-4h2v4z\"/>\n",
              "    </g>\n",
              "</svg>\n",
              "  </button>\n",
              "\n",
              "<style>\n",
              "  .colab-df-quickchart {\n",
              "      --bg-color: #E8F0FE;\n",
              "      --fill-color: #1967D2;\n",
              "      --hover-bg-color: #E2EBFA;\n",
              "      --hover-fill-color: #174EA6;\n",
              "      --disabled-fill-color: #AAA;\n",
              "      --disabled-bg-color: #DDD;\n",
              "  }\n",
              "\n",
              "  [theme=dark] .colab-df-quickchart {\n",
              "      --bg-color: #3B4455;\n",
              "      --fill-color: #D2E3FC;\n",
              "      --hover-bg-color: #434B5C;\n",
              "      --hover-fill-color: #FFFFFF;\n",
              "      --disabled-bg-color: #3B4455;\n",
              "      --disabled-fill-color: #666;\n",
              "  }\n",
              "\n",
              "  .colab-df-quickchart {\n",
              "    background-color: var(--bg-color);\n",
              "    border: none;\n",
              "    border-radius: 50%;\n",
              "    cursor: pointer;\n",
              "    display: none;\n",
              "    fill: var(--fill-color);\n",
              "    height: 32px;\n",
              "    padding: 0;\n",
              "    width: 32px;\n",
              "  }\n",
              "\n",
              "  .colab-df-quickchart:hover {\n",
              "    background-color: var(--hover-bg-color);\n",
              "    box-shadow: 0 1px 2px rgba(60, 64, 67, 0.3), 0 1px 3px 1px rgba(60, 64, 67, 0.15);\n",
              "    fill: var(--button-hover-fill-color);\n",
              "  }\n",
              "\n",
              "  .colab-df-quickchart-complete:disabled,\n",
              "  .colab-df-quickchart-complete:disabled:hover {\n",
              "    background-color: var(--disabled-bg-color);\n",
              "    fill: var(--disabled-fill-color);\n",
              "    box-shadow: none;\n",
              "  }\n",
              "\n",
              "  .colab-df-spinner {\n",
              "    border: 2px solid var(--fill-color);\n",
              "    border-color: transparent;\n",
              "    border-bottom-color: var(--fill-color);\n",
              "    animation:\n",
              "      spin 1s steps(1) infinite;\n",
              "  }\n",
              "\n",
              "  @keyframes spin {\n",
              "    0% {\n",
              "      border-color: transparent;\n",
              "      border-bottom-color: var(--fill-color);\n",
              "      border-left-color: var(--fill-color);\n",
              "    }\n",
              "    20% {\n",
              "      border-color: transparent;\n",
              "      border-left-color: var(--fill-color);\n",
              "      border-top-color: var(--fill-color);\n",
              "    }\n",
              "    30% {\n",
              "      border-color: transparent;\n",
              "      border-left-color: var(--fill-color);\n",
              "      border-top-color: var(--fill-color);\n",
              "      border-right-color: var(--fill-color);\n",
              "    }\n",
              "    40% {\n",
              "      border-color: transparent;\n",
              "      border-right-color: var(--fill-color);\n",
              "      border-top-color: var(--fill-color);\n",
              "    }\n",
              "    60% {\n",
              "      border-color: transparent;\n",
              "      border-right-color: var(--fill-color);\n",
              "    }\n",
              "    80% {\n",
              "      border-color: transparent;\n",
              "      border-right-color: var(--fill-color);\n",
              "      border-bottom-color: var(--fill-color);\n",
              "    }\n",
              "    90% {\n",
              "      border-color: transparent;\n",
              "      border-bottom-color: var(--fill-color);\n",
              "    }\n",
              "  }\n",
              "</style>\n",
              "\n",
              "  <script>\n",
              "    async function quickchart(key) {\n",
              "      const quickchartButtonEl =\n",
              "        document.querySelector('#' + key + ' button');\n",
              "      quickchartButtonEl.disabled = true;  // To prevent multiple clicks.\n",
              "      quickchartButtonEl.classList.add('colab-df-spinner');\n",
              "      try {\n",
              "        const charts = await google.colab.kernel.invokeFunction(\n",
              "            'suggestCharts', [key], {});\n",
              "      } catch (error) {\n",
              "        console.error('Error during call to suggestCharts:', error);\n",
              "      }\n",
              "      quickchartButtonEl.classList.remove('colab-df-spinner');\n",
              "      quickchartButtonEl.classList.add('colab-df-quickchart-complete');\n",
              "    }\n",
              "    (() => {\n",
              "      let quickchartButtonEl =\n",
              "        document.querySelector('#df-d0ea3b60-4157-4535-9baa-c812dc804dc0 button');\n",
              "      quickchartButtonEl.style.display =\n",
              "        google.colab.kernel.accessAllowed ? 'block' : 'none';\n",
              "    })();\n",
              "  </script>\n",
              "</div>\n",
              "\n",
              "    </div>\n",
              "  </div>\n"
            ],
            "application/vnd.google.colaboratory.intrinsic+json": {
              "type": "dataframe",
              "variable_name": "df",
              "summary": "{\n  \"name\": \"df\",\n  \"rows\": 229,\n  \"fields\": [\n    {\n      \"column\": \"pais\",\n      \"properties\": {\n        \"dtype\": \"string\",\n        \"num_unique_values\": 229,\n        \"samples\": [\n          \"Palau\",\n          \"Ecuador\",\n          \"Mexico\"\n        ],\n        \"semantic_type\": \"\",\n        \"description\": \"\"\n      }\n    },\n    {\n      \"column\": \"continente\",\n      \"properties\": {\n        \"dtype\": \"category\",\n        \"num_unique_values\": 5,\n        \"samples\": [\n          \"America\",\n          \"Oceania\",\n          \"Africa\"\n        ],\n        \"semantic_type\": \"\",\n        \"description\": \"\"\n      }\n    },\n    {\n      \"column\": \"km2\",\n      \"properties\": {\n        \"dtype\": \"number\",\n        \"std\": 1788950.4723145217,\n        \"min\": 1.0,\n        \"max\": 17098246.0,\n        \"num_unique_values\": 225,\n        \"samples\": [\n          1964375.0,\n          539.0,\n          111369.0\n        ],\n        \"semantic_type\": \"\",\n        \"description\": \"\"\n      }\n    },\n    {\n      \"column\": \"poblacion_miles\",\n      \"properties\": {\n        \"dtype\": \"number\",\n        \"std\": 133275,\n        \"min\": 1,\n        \"max\": 1409517,\n        \"num_unique_values\": 218,\n        \"samples\": [\n          7557,\n          3,\n          2292\n        ],\n        \"semantic_type\": \"\",\n        \"description\": \"\"\n      }\n    }\n  ]\n}"
            }
          },
          "metadata": {},
          "execution_count": 34
        }
      ]
    },
    {
      "cell_type": "code",
      "source": [
        "#Ver el final del archivo\n",
        "df.tail()"
      ],
      "metadata": {
        "colab": {
          "base_uri": "https://localhost:8080/",
          "height": 206
        },
        "id": "cTBgH_T7cS6B",
        "outputId": "0a070676-50a8-429c-d75c-049d762b7f4f"
      },
      "execution_count": null,
      "outputs": [
        {
          "output_type": "execute_result",
          "data": {
            "text/plain": [
              "                            pais continente      km2  poblacion_miles\n",
              "224                 Saint Helena     Africa    308.0                4\n",
              "225  Falkland Islands (Malvinas)    America  12173.0                3\n",
              "226                         Niue    Oceania    260.0                2\n",
              "227                     Holy See     Europa      1.0                1\n",
              "228                      Tokelau    Oceania     12.0                1"
            ],
            "text/html": [
              "\n",
              "  <div id=\"df-0d8de7e0-42c8-4463-95cf-15ead35d90f0\" class=\"colab-df-container\">\n",
              "    <div>\n",
              "<style scoped>\n",
              "    .dataframe tbody tr th:only-of-type {\n",
              "        vertical-align: middle;\n",
              "    }\n",
              "\n",
              "    .dataframe tbody tr th {\n",
              "        vertical-align: top;\n",
              "    }\n",
              "\n",
              "    .dataframe thead th {\n",
              "        text-align: right;\n",
              "    }\n",
              "</style>\n",
              "<table border=\"1\" class=\"dataframe\">\n",
              "  <thead>\n",
              "    <tr style=\"text-align: right;\">\n",
              "      <th></th>\n",
              "      <th>pais</th>\n",
              "      <th>continente</th>\n",
              "      <th>km2</th>\n",
              "      <th>poblacion_miles</th>\n",
              "    </tr>\n",
              "  </thead>\n",
              "  <tbody>\n",
              "    <tr>\n",
              "      <th>224</th>\n",
              "      <td>Saint Helena</td>\n",
              "      <td>Africa</td>\n",
              "      <td>308.0</td>\n",
              "      <td>4</td>\n",
              "    </tr>\n",
              "    <tr>\n",
              "      <th>225</th>\n",
              "      <td>Falkland Islands (Malvinas)</td>\n",
              "      <td>America</td>\n",
              "      <td>12173.0</td>\n",
              "      <td>3</td>\n",
              "    </tr>\n",
              "    <tr>\n",
              "      <th>226</th>\n",
              "      <td>Niue</td>\n",
              "      <td>Oceania</td>\n",
              "      <td>260.0</td>\n",
              "      <td>2</td>\n",
              "    </tr>\n",
              "    <tr>\n",
              "      <th>227</th>\n",
              "      <td>Holy See</td>\n",
              "      <td>Europa</td>\n",
              "      <td>1.0</td>\n",
              "      <td>1</td>\n",
              "    </tr>\n",
              "    <tr>\n",
              "      <th>228</th>\n",
              "      <td>Tokelau</td>\n",
              "      <td>Oceania</td>\n",
              "      <td>12.0</td>\n",
              "      <td>1</td>\n",
              "    </tr>\n",
              "  </tbody>\n",
              "</table>\n",
              "</div>\n",
              "    <div class=\"colab-df-buttons\">\n",
              "\n",
              "  <div class=\"colab-df-container\">\n",
              "    <button class=\"colab-df-convert\" onclick=\"convertToInteractive('df-0d8de7e0-42c8-4463-95cf-15ead35d90f0')\"\n",
              "            title=\"Convert this dataframe to an interactive table.\"\n",
              "            style=\"display:none;\">\n",
              "\n",
              "  <svg xmlns=\"http://www.w3.org/2000/svg\" height=\"24px\" viewBox=\"0 -960 960 960\">\n",
              "    <path d=\"M120-120v-720h720v720H120Zm60-500h600v-160H180v160Zm220 220h160v-160H400v160Zm0 220h160v-160H400v160ZM180-400h160v-160H180v160Zm440 0h160v-160H620v160ZM180-180h160v-160H180v160Zm440 0h160v-160H620v160Z\"/>\n",
              "  </svg>\n",
              "    </button>\n",
              "\n",
              "  <style>\n",
              "    .colab-df-container {\n",
              "      display:flex;\n",
              "      gap: 12px;\n",
              "    }\n",
              "\n",
              "    .colab-df-convert {\n",
              "      background-color: #E8F0FE;\n",
              "      border: none;\n",
              "      border-radius: 50%;\n",
              "      cursor: pointer;\n",
              "      display: none;\n",
              "      fill: #1967D2;\n",
              "      height: 32px;\n",
              "      padding: 0 0 0 0;\n",
              "      width: 32px;\n",
              "    }\n",
              "\n",
              "    .colab-df-convert:hover {\n",
              "      background-color: #E2EBFA;\n",
              "      box-shadow: 0px 1px 2px rgba(60, 64, 67, 0.3), 0px 1px 3px 1px rgba(60, 64, 67, 0.15);\n",
              "      fill: #174EA6;\n",
              "    }\n",
              "\n",
              "    .colab-df-buttons div {\n",
              "      margin-bottom: 4px;\n",
              "    }\n",
              "\n",
              "    [theme=dark] .colab-df-convert {\n",
              "      background-color: #3B4455;\n",
              "      fill: #D2E3FC;\n",
              "    }\n",
              "\n",
              "    [theme=dark] .colab-df-convert:hover {\n",
              "      background-color: #434B5C;\n",
              "      box-shadow: 0px 1px 3px 1px rgba(0, 0, 0, 0.15);\n",
              "      filter: drop-shadow(0px 1px 2px rgba(0, 0, 0, 0.3));\n",
              "      fill: #FFFFFF;\n",
              "    }\n",
              "  </style>\n",
              "\n",
              "    <script>\n",
              "      const buttonEl =\n",
              "        document.querySelector('#df-0d8de7e0-42c8-4463-95cf-15ead35d90f0 button.colab-df-convert');\n",
              "      buttonEl.style.display =\n",
              "        google.colab.kernel.accessAllowed ? 'block' : 'none';\n",
              "\n",
              "      async function convertToInteractive(key) {\n",
              "        const element = document.querySelector('#df-0d8de7e0-42c8-4463-95cf-15ead35d90f0');\n",
              "        const dataTable =\n",
              "          await google.colab.kernel.invokeFunction('convertToInteractive',\n",
              "                                                    [key], {});\n",
              "        if (!dataTable) return;\n",
              "\n",
              "        const docLinkHtml = 'Like what you see? Visit the ' +\n",
              "          '<a target=\"_blank\" href=https://colab.research.google.com/notebooks/data_table.ipynb>data table notebook</a>'\n",
              "          + ' to learn more about interactive tables.';\n",
              "        element.innerHTML = '';\n",
              "        dataTable['output_type'] = 'display_data';\n",
              "        await google.colab.output.renderOutput(dataTable, element);\n",
              "        const docLink = document.createElement('div');\n",
              "        docLink.innerHTML = docLinkHtml;\n",
              "        element.appendChild(docLink);\n",
              "      }\n",
              "    </script>\n",
              "  </div>\n",
              "\n",
              "\n",
              "<div id=\"df-9a1383e9-3d48-47e1-896c-c56861328ba3\">\n",
              "  <button class=\"colab-df-quickchart\" onclick=\"quickchart('df-9a1383e9-3d48-47e1-896c-c56861328ba3')\"\n",
              "            title=\"Suggest charts\"\n",
              "            style=\"display:none;\">\n",
              "\n",
              "<svg xmlns=\"http://www.w3.org/2000/svg\" height=\"24px\"viewBox=\"0 0 24 24\"\n",
              "     width=\"24px\">\n",
              "    <g>\n",
              "        <path d=\"M19 3H5c-1.1 0-2 .9-2 2v14c0 1.1.9 2 2 2h14c1.1 0 2-.9 2-2V5c0-1.1-.9-2-2-2zM9 17H7v-7h2v7zm4 0h-2V7h2v10zm4 0h-2v-4h2v4z\"/>\n",
              "    </g>\n",
              "</svg>\n",
              "  </button>\n",
              "\n",
              "<style>\n",
              "  .colab-df-quickchart {\n",
              "      --bg-color: #E8F0FE;\n",
              "      --fill-color: #1967D2;\n",
              "      --hover-bg-color: #E2EBFA;\n",
              "      --hover-fill-color: #174EA6;\n",
              "      --disabled-fill-color: #AAA;\n",
              "      --disabled-bg-color: #DDD;\n",
              "  }\n",
              "\n",
              "  [theme=dark] .colab-df-quickchart {\n",
              "      --bg-color: #3B4455;\n",
              "      --fill-color: #D2E3FC;\n",
              "      --hover-bg-color: #434B5C;\n",
              "      --hover-fill-color: #FFFFFF;\n",
              "      --disabled-bg-color: #3B4455;\n",
              "      --disabled-fill-color: #666;\n",
              "  }\n",
              "\n",
              "  .colab-df-quickchart {\n",
              "    background-color: var(--bg-color);\n",
              "    border: none;\n",
              "    border-radius: 50%;\n",
              "    cursor: pointer;\n",
              "    display: none;\n",
              "    fill: var(--fill-color);\n",
              "    height: 32px;\n",
              "    padding: 0;\n",
              "    width: 32px;\n",
              "  }\n",
              "\n",
              "  .colab-df-quickchart:hover {\n",
              "    background-color: var(--hover-bg-color);\n",
              "    box-shadow: 0 1px 2px rgba(60, 64, 67, 0.3), 0 1px 3px 1px rgba(60, 64, 67, 0.15);\n",
              "    fill: var(--button-hover-fill-color);\n",
              "  }\n",
              "\n",
              "  .colab-df-quickchart-complete:disabled,\n",
              "  .colab-df-quickchart-complete:disabled:hover {\n",
              "    background-color: var(--disabled-bg-color);\n",
              "    fill: var(--disabled-fill-color);\n",
              "    box-shadow: none;\n",
              "  }\n",
              "\n",
              "  .colab-df-spinner {\n",
              "    border: 2px solid var(--fill-color);\n",
              "    border-color: transparent;\n",
              "    border-bottom-color: var(--fill-color);\n",
              "    animation:\n",
              "      spin 1s steps(1) infinite;\n",
              "  }\n",
              "\n",
              "  @keyframes spin {\n",
              "    0% {\n",
              "      border-color: transparent;\n",
              "      border-bottom-color: var(--fill-color);\n",
              "      border-left-color: var(--fill-color);\n",
              "    }\n",
              "    20% {\n",
              "      border-color: transparent;\n",
              "      border-left-color: var(--fill-color);\n",
              "      border-top-color: var(--fill-color);\n",
              "    }\n",
              "    30% {\n",
              "      border-color: transparent;\n",
              "      border-left-color: var(--fill-color);\n",
              "      border-top-color: var(--fill-color);\n",
              "      border-right-color: var(--fill-color);\n",
              "    }\n",
              "    40% {\n",
              "      border-color: transparent;\n",
              "      border-right-color: var(--fill-color);\n",
              "      border-top-color: var(--fill-color);\n",
              "    }\n",
              "    60% {\n",
              "      border-color: transparent;\n",
              "      border-right-color: var(--fill-color);\n",
              "    }\n",
              "    80% {\n",
              "      border-color: transparent;\n",
              "      border-right-color: var(--fill-color);\n",
              "      border-bottom-color: var(--fill-color);\n",
              "    }\n",
              "    90% {\n",
              "      border-color: transparent;\n",
              "      border-bottom-color: var(--fill-color);\n",
              "    }\n",
              "  }\n",
              "</style>\n",
              "\n",
              "  <script>\n",
              "    async function quickchart(key) {\n",
              "      const quickchartButtonEl =\n",
              "        document.querySelector('#' + key + ' button');\n",
              "      quickchartButtonEl.disabled = true;  // To prevent multiple clicks.\n",
              "      quickchartButtonEl.classList.add('colab-df-spinner');\n",
              "      try {\n",
              "        const charts = await google.colab.kernel.invokeFunction(\n",
              "            'suggestCharts', [key], {});\n",
              "      } catch (error) {\n",
              "        console.error('Error during call to suggestCharts:', error);\n",
              "      }\n",
              "      quickchartButtonEl.classList.remove('colab-df-spinner');\n",
              "      quickchartButtonEl.classList.add('colab-df-quickchart-complete');\n",
              "    }\n",
              "    (() => {\n",
              "      let quickchartButtonEl =\n",
              "        document.querySelector('#df-9a1383e9-3d48-47e1-896c-c56861328ba3 button');\n",
              "      quickchartButtonEl.style.display =\n",
              "        google.colab.kernel.accessAllowed ? 'block' : 'none';\n",
              "    })();\n",
              "  </script>\n",
              "</div>\n",
              "\n",
              "    </div>\n",
              "  </div>\n"
            ],
            "application/vnd.google.colaboratory.intrinsic+json": {
              "type": "dataframe",
              "summary": "{\n  \"name\": \"df\",\n  \"rows\": 5,\n  \"fields\": [\n    {\n      \"column\": \"pais\",\n      \"properties\": {\n        \"dtype\": \"string\",\n        \"num_unique_values\": 5,\n        \"samples\": [\n          \"Falkland Islands (Malvinas)\",\n          \"Tokelau\",\n          \"Niue\"\n        ],\n        \"semantic_type\": \"\",\n        \"description\": \"\"\n      }\n    },\n    {\n      \"column\": \"continente\",\n      \"properties\": {\n        \"dtype\": \"string\",\n        \"num_unique_values\": 4,\n        \"samples\": [\n          \"America\",\n          \"Europa\",\n          \"Africa\"\n        ],\n        \"semantic_type\": \"\",\n        \"description\": \"\"\n      }\n    },\n    {\n      \"column\": \"km2\",\n      \"properties\": {\n        \"dtype\": \"number\",\n        \"std\": 5380.790713268822,\n        \"min\": 1.0,\n        \"max\": 12173.0,\n        \"num_unique_values\": 5,\n        \"samples\": [\n          12173.0,\n          12.0,\n          260.0\n        ],\n        \"semantic_type\": \"\",\n        \"description\": \"\"\n      }\n    },\n    {\n      \"column\": \"poblacion_miles\",\n      \"properties\": {\n        \"dtype\": \"number\",\n        \"std\": 1,\n        \"min\": 1,\n        \"max\": 4,\n        \"num_unique_values\": 4,\n        \"samples\": [\n          3,\n          1,\n          4\n        ],\n        \"semantic_type\": \"\",\n        \"description\": \"\"\n      }\n    }\n  ]\n}"
            }
          },
          "metadata": {},
          "execution_count": 35
        }
      ]
    },
    {
      "cell_type": "code",
      "source": [
        "#ver los nombres de las columnas\n",
        "df.columns"
      ],
      "metadata": {
        "colab": {
          "base_uri": "https://localhost:8080/"
        },
        "id": "cdWCWl0fcZZR",
        "outputId": "804cf7d4-bad7-4fae-d177-cef311c33016"
      },
      "execution_count": null,
      "outputs": [
        {
          "output_type": "execute_result",
          "data": {
            "text/plain": [
              "Index(['pais', 'continente', 'km2', 'poblacion_miles'], dtype='object')"
            ]
          },
          "metadata": {},
          "execution_count": 36
        }
      ]
    },
    {
      "cell_type": "code",
      "source": [
        "df.describe()"
      ],
      "metadata": {
        "colab": {
          "base_uri": "https://localhost:8080/",
          "height": 300
        },
        "id": "UARbiicuh2UO",
        "outputId": "404d3f2f-33e0-4e5c-c6d0-9f13ed8806d6"
      },
      "execution_count": null,
      "outputs": [
        {
          "output_type": "execute_result",
          "data": {
            "text/plain": [
              "                km2  poblacion_miles\n",
              "count  2.280000e+02     2.290000e+02\n",
              "mean   5.880081e+05     3.275679e+04\n",
              "std    1.788950e+06     1.332751e+05\n",
              "min    1.000000e+00     1.000000e+00\n",
              "25%    3.710500e+03     4.310000e+02\n",
              "50%    8.356700e+04     5.448000e+03\n",
              "75%    4.359325e+05     1.919300e+04\n",
              "max    1.709825e+07     1.409517e+06"
            ],
            "text/html": [
              "\n",
              "  <div id=\"df-4f4c1211-3998-4a77-a3d8-e2895b55e48e\" class=\"colab-df-container\">\n",
              "    <div>\n",
              "<style scoped>\n",
              "    .dataframe tbody tr th:only-of-type {\n",
              "        vertical-align: middle;\n",
              "    }\n",
              "\n",
              "    .dataframe tbody tr th {\n",
              "        vertical-align: top;\n",
              "    }\n",
              "\n",
              "    .dataframe thead th {\n",
              "        text-align: right;\n",
              "    }\n",
              "</style>\n",
              "<table border=\"1\" class=\"dataframe\">\n",
              "  <thead>\n",
              "    <tr style=\"text-align: right;\">\n",
              "      <th></th>\n",
              "      <th>km2</th>\n",
              "      <th>poblacion_miles</th>\n",
              "    </tr>\n",
              "  </thead>\n",
              "  <tbody>\n",
              "    <tr>\n",
              "      <th>count</th>\n",
              "      <td>2.280000e+02</td>\n",
              "      <td>2.290000e+02</td>\n",
              "    </tr>\n",
              "    <tr>\n",
              "      <th>mean</th>\n",
              "      <td>5.880081e+05</td>\n",
              "      <td>3.275679e+04</td>\n",
              "    </tr>\n",
              "    <tr>\n",
              "      <th>std</th>\n",
              "      <td>1.788950e+06</td>\n",
              "      <td>1.332751e+05</td>\n",
              "    </tr>\n",
              "    <tr>\n",
              "      <th>min</th>\n",
              "      <td>1.000000e+00</td>\n",
              "      <td>1.000000e+00</td>\n",
              "    </tr>\n",
              "    <tr>\n",
              "      <th>25%</th>\n",
              "      <td>3.710500e+03</td>\n",
              "      <td>4.310000e+02</td>\n",
              "    </tr>\n",
              "    <tr>\n",
              "      <th>50%</th>\n",
              "      <td>8.356700e+04</td>\n",
              "      <td>5.448000e+03</td>\n",
              "    </tr>\n",
              "    <tr>\n",
              "      <th>75%</th>\n",
              "      <td>4.359325e+05</td>\n",
              "      <td>1.919300e+04</td>\n",
              "    </tr>\n",
              "    <tr>\n",
              "      <th>max</th>\n",
              "      <td>1.709825e+07</td>\n",
              "      <td>1.409517e+06</td>\n",
              "    </tr>\n",
              "  </tbody>\n",
              "</table>\n",
              "</div>\n",
              "    <div class=\"colab-df-buttons\">\n",
              "\n",
              "  <div class=\"colab-df-container\">\n",
              "    <button class=\"colab-df-convert\" onclick=\"convertToInteractive('df-4f4c1211-3998-4a77-a3d8-e2895b55e48e')\"\n",
              "            title=\"Convert this dataframe to an interactive table.\"\n",
              "            style=\"display:none;\">\n",
              "\n",
              "  <svg xmlns=\"http://www.w3.org/2000/svg\" height=\"24px\" viewBox=\"0 -960 960 960\">\n",
              "    <path d=\"M120-120v-720h720v720H120Zm60-500h600v-160H180v160Zm220 220h160v-160H400v160Zm0 220h160v-160H400v160ZM180-400h160v-160H180v160Zm440 0h160v-160H620v160ZM180-180h160v-160H180v160Zm440 0h160v-160H620v160Z\"/>\n",
              "  </svg>\n",
              "    </button>\n",
              "\n",
              "  <style>\n",
              "    .colab-df-container {\n",
              "      display:flex;\n",
              "      gap: 12px;\n",
              "    }\n",
              "\n",
              "    .colab-df-convert {\n",
              "      background-color: #E8F0FE;\n",
              "      border: none;\n",
              "      border-radius: 50%;\n",
              "      cursor: pointer;\n",
              "      display: none;\n",
              "      fill: #1967D2;\n",
              "      height: 32px;\n",
              "      padding: 0 0 0 0;\n",
              "      width: 32px;\n",
              "    }\n",
              "\n",
              "    .colab-df-convert:hover {\n",
              "      background-color: #E2EBFA;\n",
              "      box-shadow: 0px 1px 2px rgba(60, 64, 67, 0.3), 0px 1px 3px 1px rgba(60, 64, 67, 0.15);\n",
              "      fill: #174EA6;\n",
              "    }\n",
              "\n",
              "    .colab-df-buttons div {\n",
              "      margin-bottom: 4px;\n",
              "    }\n",
              "\n",
              "    [theme=dark] .colab-df-convert {\n",
              "      background-color: #3B4455;\n",
              "      fill: #D2E3FC;\n",
              "    }\n",
              "\n",
              "    [theme=dark] .colab-df-convert:hover {\n",
              "      background-color: #434B5C;\n",
              "      box-shadow: 0px 1px 3px 1px rgba(0, 0, 0, 0.15);\n",
              "      filter: drop-shadow(0px 1px 2px rgba(0, 0, 0, 0.3));\n",
              "      fill: #FFFFFF;\n",
              "    }\n",
              "  </style>\n",
              "\n",
              "    <script>\n",
              "      const buttonEl =\n",
              "        document.querySelector('#df-4f4c1211-3998-4a77-a3d8-e2895b55e48e button.colab-df-convert');\n",
              "      buttonEl.style.display =\n",
              "        google.colab.kernel.accessAllowed ? 'block' : 'none';\n",
              "\n",
              "      async function convertToInteractive(key) {\n",
              "        const element = document.querySelector('#df-4f4c1211-3998-4a77-a3d8-e2895b55e48e');\n",
              "        const dataTable =\n",
              "          await google.colab.kernel.invokeFunction('convertToInteractive',\n",
              "                                                    [key], {});\n",
              "        if (!dataTable) return;\n",
              "\n",
              "        const docLinkHtml = 'Like what you see? Visit the ' +\n",
              "          '<a target=\"_blank\" href=https://colab.research.google.com/notebooks/data_table.ipynb>data table notebook</a>'\n",
              "          + ' to learn more about interactive tables.';\n",
              "        element.innerHTML = '';\n",
              "        dataTable['output_type'] = 'display_data';\n",
              "        await google.colab.output.renderOutput(dataTable, element);\n",
              "        const docLink = document.createElement('div');\n",
              "        docLink.innerHTML = docLinkHtml;\n",
              "        element.appendChild(docLink);\n",
              "      }\n",
              "    </script>\n",
              "  </div>\n",
              "\n",
              "\n",
              "<div id=\"df-ed9961b0-0553-4e07-9938-257ac3bc1dd1\">\n",
              "  <button class=\"colab-df-quickchart\" onclick=\"quickchart('df-ed9961b0-0553-4e07-9938-257ac3bc1dd1')\"\n",
              "            title=\"Suggest charts\"\n",
              "            style=\"display:none;\">\n",
              "\n",
              "<svg xmlns=\"http://www.w3.org/2000/svg\" height=\"24px\"viewBox=\"0 0 24 24\"\n",
              "     width=\"24px\">\n",
              "    <g>\n",
              "        <path d=\"M19 3H5c-1.1 0-2 .9-2 2v14c0 1.1.9 2 2 2h14c1.1 0 2-.9 2-2V5c0-1.1-.9-2-2-2zM9 17H7v-7h2v7zm4 0h-2V7h2v10zm4 0h-2v-4h2v4z\"/>\n",
              "    </g>\n",
              "</svg>\n",
              "  </button>\n",
              "\n",
              "<style>\n",
              "  .colab-df-quickchart {\n",
              "      --bg-color: #E8F0FE;\n",
              "      --fill-color: #1967D2;\n",
              "      --hover-bg-color: #E2EBFA;\n",
              "      --hover-fill-color: #174EA6;\n",
              "      --disabled-fill-color: #AAA;\n",
              "      --disabled-bg-color: #DDD;\n",
              "  }\n",
              "\n",
              "  [theme=dark] .colab-df-quickchart {\n",
              "      --bg-color: #3B4455;\n",
              "      --fill-color: #D2E3FC;\n",
              "      --hover-bg-color: #434B5C;\n",
              "      --hover-fill-color: #FFFFFF;\n",
              "      --disabled-bg-color: #3B4455;\n",
              "      --disabled-fill-color: #666;\n",
              "  }\n",
              "\n",
              "  .colab-df-quickchart {\n",
              "    background-color: var(--bg-color);\n",
              "    border: none;\n",
              "    border-radius: 50%;\n",
              "    cursor: pointer;\n",
              "    display: none;\n",
              "    fill: var(--fill-color);\n",
              "    height: 32px;\n",
              "    padding: 0;\n",
              "    width: 32px;\n",
              "  }\n",
              "\n",
              "  .colab-df-quickchart:hover {\n",
              "    background-color: var(--hover-bg-color);\n",
              "    box-shadow: 0 1px 2px rgba(60, 64, 67, 0.3), 0 1px 3px 1px rgba(60, 64, 67, 0.15);\n",
              "    fill: var(--button-hover-fill-color);\n",
              "  }\n",
              "\n",
              "  .colab-df-quickchart-complete:disabled,\n",
              "  .colab-df-quickchart-complete:disabled:hover {\n",
              "    background-color: var(--disabled-bg-color);\n",
              "    fill: var(--disabled-fill-color);\n",
              "    box-shadow: none;\n",
              "  }\n",
              "\n",
              "  .colab-df-spinner {\n",
              "    border: 2px solid var(--fill-color);\n",
              "    border-color: transparent;\n",
              "    border-bottom-color: var(--fill-color);\n",
              "    animation:\n",
              "      spin 1s steps(1) infinite;\n",
              "  }\n",
              "\n",
              "  @keyframes spin {\n",
              "    0% {\n",
              "      border-color: transparent;\n",
              "      border-bottom-color: var(--fill-color);\n",
              "      border-left-color: var(--fill-color);\n",
              "    }\n",
              "    20% {\n",
              "      border-color: transparent;\n",
              "      border-left-color: var(--fill-color);\n",
              "      border-top-color: var(--fill-color);\n",
              "    }\n",
              "    30% {\n",
              "      border-color: transparent;\n",
              "      border-left-color: var(--fill-color);\n",
              "      border-top-color: var(--fill-color);\n",
              "      border-right-color: var(--fill-color);\n",
              "    }\n",
              "    40% {\n",
              "      border-color: transparent;\n",
              "      border-right-color: var(--fill-color);\n",
              "      border-top-color: var(--fill-color);\n",
              "    }\n",
              "    60% {\n",
              "      border-color: transparent;\n",
              "      border-right-color: var(--fill-color);\n",
              "    }\n",
              "    80% {\n",
              "      border-color: transparent;\n",
              "      border-right-color: var(--fill-color);\n",
              "      border-bottom-color: var(--fill-color);\n",
              "    }\n",
              "    90% {\n",
              "      border-color: transparent;\n",
              "      border-bottom-color: var(--fill-color);\n",
              "    }\n",
              "  }\n",
              "</style>\n",
              "\n",
              "  <script>\n",
              "    async function quickchart(key) {\n",
              "      const quickchartButtonEl =\n",
              "        document.querySelector('#' + key + ' button');\n",
              "      quickchartButtonEl.disabled = true;  // To prevent multiple clicks.\n",
              "      quickchartButtonEl.classList.add('colab-df-spinner');\n",
              "      try {\n",
              "        const charts = await google.colab.kernel.invokeFunction(\n",
              "            'suggestCharts', [key], {});\n",
              "      } catch (error) {\n",
              "        console.error('Error during call to suggestCharts:', error);\n",
              "      }\n",
              "      quickchartButtonEl.classList.remove('colab-df-spinner');\n",
              "      quickchartButtonEl.classList.add('colab-df-quickchart-complete');\n",
              "    }\n",
              "    (() => {\n",
              "      let quickchartButtonEl =\n",
              "        document.querySelector('#df-ed9961b0-0553-4e07-9938-257ac3bc1dd1 button');\n",
              "      quickchartButtonEl.style.display =\n",
              "        google.colab.kernel.accessAllowed ? 'block' : 'none';\n",
              "    })();\n",
              "  </script>\n",
              "</div>\n",
              "\n",
              "    </div>\n",
              "  </div>\n"
            ],
            "application/vnd.google.colaboratory.intrinsic+json": {
              "type": "dataframe",
              "summary": "{\n  \"name\": \"df\",\n  \"rows\": 8,\n  \"fields\": [\n    {\n      \"column\": \"km2\",\n      \"properties\": {\n        \"dtype\": \"number\",\n        \"std\": 5929345.060487265,\n        \"min\": 1.0,\n        \"max\": 17098246.0,\n        \"num_unique_values\": 8,\n        \"samples\": [\n          588008.0964912281,\n          83567.0,\n          228.0\n        ],\n        \"semantic_type\": \"\",\n        \"description\": \"\"\n      }\n    },\n    {\n      \"column\": \"poblacion_miles\",\n      \"properties\": {\n        \"dtype\": \"number\",\n        \"std\": 490718.3186202056,\n        \"min\": 1.0,\n        \"max\": 1409517.0,\n        \"num_unique_values\": 8,\n        \"samples\": [\n          32756.794759825327,\n          5448.0,\n          229.0\n        ],\n        \"semantic_type\": \"\",\n        \"description\": \"\"\n      }\n    }\n  ]\n}"
            }
          },
          "metadata": {},
          "execution_count": 27
        }
      ]
    },
    {
      "cell_type": "markdown",
      "source": [
        "![image.png](data:image/png;base64,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)"
      ],
      "metadata": {
        "id": "P4v7df62ciuj"
      }
    },
    {
      "cell_type": "code",
      "source": [
        "data1 = pd.DataFrame({\"ID\":range(1001, 1007),    # Create first pandas DataFrame\n",
        "                      \"x1\":range(1, 7),\n",
        "                      \"x2\":[\"a\", \"b\", \"c\", \"d\", \"e\", \"f\"],\n",
        "                      \"x3\":range(16, 10, - 1)})\n",
        "print(data1)"
      ],
      "metadata": {
        "colab": {
          "base_uri": "https://localhost:8080/"
        },
        "id": "wV6Tbxx-Y_5B",
        "outputId": "f6d0c148-511e-4ef5-e2f2-2eff74186189"
      },
      "execution_count": null,
      "outputs": [
        {
          "output_type": "stream",
          "name": "stdout",
          "text": [
            "     ID  x1 x2  x3\n",
            "0  1001   1  a  16\n",
            "1  1002   2  b  15\n",
            "2  1003   3  c  14\n",
            "3  1004   4  d  13\n",
            "4  1005   5  e  12\n",
            "5  1006   6  f  11\n"
          ]
        }
      ]
    },
    {
      "cell_type": "code",
      "source": [
        "data2 = pd.DataFrame({\"ID\":range(1004, 1009),    # Create second pandas DataFrame\n",
        "                      \"y1\":[\"x\", \"y\", \"x\", \"y\", \"x\"],\n",
        "                      \"y2\":range(10, 1, - 2)})\n",
        "print(data2)"
      ],
      "metadata": {
        "colab": {
          "base_uri": "https://localhost:8080/"
        },
        "id": "LOHUZipzZXf4",
        "outputId": "7d513496-4606-4d87-9432-09b34200f22b"
      },
      "execution_count": null,
      "outputs": [
        {
          "output_type": "stream",
          "name": "stdout",
          "text": [
            "     ID y1  y2\n",
            "0  1004  x  10\n",
            "1  1005  y   8\n",
            "2  1006  x   6\n",
            "3  1007  y   4\n",
            "4  1008  x   2\n"
          ]
        }
      ]
    },
    {
      "cell_type": "code",
      "source": [
        "#Fusionar dos dataframe de datos de pandas mediante combinación interna\n",
        "data_inner = pd.merge(data1,                     # Inner join\n",
        "                      data2,\n",
        "                      on = \"ID\",\n",
        "                      how = \"inner\")\n",
        "print(data_inner)"
      ],
      "metadata": {
        "colab": {
          "base_uri": "https://localhost:8080/"
        },
        "id": "WdHQQYVvZaKA",
        "outputId": "c8264d33-1f94-4103-acb2-c8224f368c55"
      },
      "execution_count": null,
      "outputs": [
        {
          "output_type": "stream",
          "name": "stdout",
          "text": [
            "     ID  x1 x2  x3 y1  y2\n",
            "0  1004   4  d  13  x  10\n",
            "1  1005   5  e  12  y   8\n",
            "2  1006   6  f  11  x   6\n"
          ]
        }
      ]
    },
    {
      "cell_type": "markdown",
      "source": [
        "**pd.merge():**\n",
        "Es una función de pandas que combina dos DataFrames.\n",
        "\n",
        "**Parámetros usados:**\n",
        "* data1 y data2: los DataFrames que se quieren combinar.\n",
        "* on = \"ID\": especifica que la columna ID será la clave para combinar los datos.\n",
        "* how = \"inner\": indica que se realizará un \"inner join\", lo que significa que solo se incluirán las filas donde los valores de ID coincidan en ambos DataFrames."
      ],
      "metadata": {
        "id": "I9hj7Bl6aYt8"
      }
    },
    {
      "cell_type": "code",
      "source": [
        "data_outer = pd.merge(data1,                     # Outer join\n",
        "                      data2,\n",
        "                      on = \"ID\",\n",
        "                      how = \"outer\")\n",
        "print(data_outer)"
      ],
      "metadata": {
        "colab": {
          "base_uri": "https://localhost:8080/"
        },
        "id": "rCkTcPPtat09",
        "outputId": "da3e76c6-9603-4272-94c2-86493d952936"
      },
      "execution_count": null,
      "outputs": [
        {
          "output_type": "stream",
          "name": "stdout",
          "text": [
            "     ID   x1   x2    x3   y1    y2\n",
            "0  1001  1.0    a  16.0  NaN   NaN\n",
            "1  1002  2.0    b  15.0  NaN   NaN\n",
            "2  1003  3.0    c  14.0  NaN   NaN\n",
            "3  1004  4.0    d  13.0    x  10.0\n",
            "4  1005  5.0    e  12.0    y   8.0\n",
            "5  1006  6.0    f  11.0    x   6.0\n",
            "6  1007  NaN  NaN   NaN    y   4.0\n",
            "7  1008  NaN  NaN   NaN    x   2.0\n"
          ]
        }
      ]
    },
    {
      "cell_type": "markdown",
      "source": [
        "**how = \"outer\"**: Especifica que se realizará una operación de \"outer join\", lo que significa que:\n",
        "* Todas las filas de ambos DataFrames se incluirán en el resultado.\n",
        "+ Las filas sin coincidencia en ID tendrán valores NaN en las columnas del DataFrame que no tenga datos correspondientes."
      ],
      "metadata": {
        "id": "xFgFAsW4a-VM"
      }
    },
    {
      "cell_type": "code",
      "source": [
        "data_left = pd.merge(data1,                      # Left join\n",
        "                      data2,\n",
        "                      on = \"ID\",\n",
        "                      how = \"left\")\n",
        "print(data_left)"
      ],
      "metadata": {
        "colab": {
          "base_uri": "https://localhost:8080/"
        },
        "id": "zdcglihrbsJA",
        "outputId": "f3a5277a-9432-4125-dd9f-0f403996d510"
      },
      "execution_count": null,
      "outputs": [
        {
          "output_type": "stream",
          "name": "stdout",
          "text": [
            "     ID  x1 x2  x3   y1    y2\n",
            "0  1001   1  a  16  NaN   NaN\n",
            "1  1002   2  b  15  NaN   NaN\n",
            "2  1003   3  c  14  NaN   NaN\n",
            "3  1004   4  d  13    x  10.0\n",
            "4  1005   5  e  12    y   8.0\n",
            "5  1006   6  f  11    x   6.0\n"
          ]
        }
      ]
    },
    {
      "cell_type": "markdown",
      "source": [
        "**how = \"left\"**: Indica que se realizará un \"left join\", lo que significa:\n",
        "* Se incluirán todas las filas de data1.\n",
        "* Si no hay correspondencia en data2 para un valor en la columna ID, las columnas de data2 para esa fila tendrán valores NaN."
      ],
      "metadata": {
        "id": "-qhYdMJib1ef"
      }
    },
    {
      "cell_type": "code",
      "source": [
        "data_right = pd.merge(data1,                     # Right join\n",
        "                      data2,\n",
        "                      on = \"ID\",\n",
        "                      how = \"right\")\n",
        "print(data_right)"
      ],
      "metadata": {
        "colab": {
          "base_uri": "https://localhost:8080/"
        },
        "id": "50pOgkapcGcq",
        "outputId": "00b118f8-bc8b-4551-ba9a-a5a9ef9989c1"
      },
      "execution_count": null,
      "outputs": [
        {
          "output_type": "stream",
          "name": "stdout",
          "text": [
            "     ID   x1   x2    x3 y1  y2\n",
            "0  1004  4.0    d  13.0  x  10\n",
            "1  1005  5.0    e  12.0  y   8\n",
            "2  1006  6.0    f  11.0  x   6\n",
            "3  1007  NaN  NaN   NaN  y   4\n",
            "4  1008  NaN  NaN   NaN  x   2\n"
          ]
        }
      ]
    },
    {
      "cell_type": "markdown",
      "source": [
        "**how = \"right\"**: Indica que se realizará un \"right join\", lo que significa:\n",
        "* Todas las filas del DataFrame \"derecho\" (data2) estarán en el resultado.\n",
        "* Las filas del DataFrame \"izquierdo\" (data1) se combinarán donde coincidan los valores de ID.\n",
        "* Si no hay coincidencia en data1, las columnas de data1 tendrán valores NaN."
      ],
      "metadata": {
        "id": "YGTY9aIhcMB5"
      }
    }
  ]
}